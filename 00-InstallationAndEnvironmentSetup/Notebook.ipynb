{
  "cells": [
    {
      "metadata": {
        "toc": true
      },
      "cell_type": "markdown",
      "source": "<h1>Table of Contents<span class=\"tocSkip\"></span></h1>\n<div class=\"toc\"><ul class=\"toc-item\"><li><span><a href=\"#Anaconda-Installation-for-Windows\" data-toc-modified-id=\"Anaconda-Installation-for-Windows-1\"><span class=\"toc-item-num\">1&nbsp;&nbsp;</span>Anaconda Installation for Windows</a></span></li><li><span><a href=\"#Launch-RStudio-from-Navigator.\" data-toc-modified-id=\"Launch-RStudio-from-Navigator.-2\"><span class=\"toc-item-num\">2&nbsp;&nbsp;</span>Launch RStudio from Navigator.</a></span></li><li><span><a href=\"#R-kernel-for-Jupyter-Notebook\" data-toc-modified-id=\"R-kernel-for-Jupyter-Notebook-3\"><span class=\"toc-item-num\">3&nbsp;&nbsp;</span>R kernel for Jupyter Notebook</a></span></li><li><span><a href=\"#Anaconda-Installation-for-all-operating-systems\" data-toc-modified-id=\"Anaconda-Installation-for-all-operating-systems-4\"><span class=\"toc-item-num\">4&nbsp;&nbsp;</span>Anaconda Installation for all operating systems</a></span></li><li><span><a href=\"#Data-Scienc-Process:-Crisp-DM-workflow\" data-toc-modified-id=\"Data-Scienc-Process:-Crisp-DM-workflow-5\"><span class=\"toc-item-num\">5&nbsp;&nbsp;</span>Data Scienc Process: Crisp-DM workflow</a></span></li></ul></div>"
    },
    {
      "metadata": {},
      "cell_type": "markdown",
      "source": "## Anaconda Installation for Windows"
    },
    {
      "metadata": {},
      "cell_type": "markdown",
      "source": "* Visit the Anaconda download page  \nGo to the following link: [Anaconda.com/downloads](https://www.anaconda.com/download/)  \nThe Anaconda Downloads Page will look something like this:    \n![Imgur](https://i.imgur.com/mWbsPTA.png)  \n\n* Select the Windows  \nSelect Windows where the three opperating systems are listed.  \n![Imgur](https://i.imgur.com/MYrJYwb.png)\n\n* Download  \nDownload the Python 3.6 distribution. Python 2.7 is legacy Python. For undergraduate engineers, select the Python 3.6 version.     \n\n![Imgur](https://i.imgur.com/N1GngpX.png)\n\nYou may be prompted to enter your email. You can still download Anaconda if you click **No Thanks** and don't enter your Work Email address.  \n\n![Imgur](https://i.imgur.com/VfgJNUa.png)\n\nThe download is quite large (over 500 MB) so it may take a while for the download to complete.  \n\n* Double-click the installation file.  \n![Imgur](https://i.imgur.com/6ZG0Bwq.png)\n\n* Click Next.             \n![Imgur](https://i.imgur.com/bV8fNtz.jpg)\n* Click I Agree if you agree to the licensing agreement.         \n\n\n* Choose one of the installation types and then click Next.     \n![Imgur](https://i.imgur.com/FeTLdQf.jpg)\n\n* Choose an installation location (if necessary) and then click Next.    \n![Imgur](https://i.imgur.com/tkMG1yj.jpg)\n\n* Change the advanced installation options (if necessary) and then click Install.  \n\n![Imgur](https://i.imgur.com/VM1v9MG.jpg)\n\n* Click Next.  \nThe wizard tells you that the installation is complete.\n\n* Click Finish.  \nYou’re ready to begin using Anaconda."
    },
    {
      "metadata": {},
      "cell_type": "markdown",
      "source": "## Launch RStudio from Navigator."
    },
    {
      "metadata": {},
      "cell_type": "markdown",
      "source": "![Imgur](https://i.imgur.com/dmnz5Md.png)"
    },
    {
      "metadata": {},
      "cell_type": "markdown",
      "source": "* Important panes/sections from R-Studio"
    },
    {
      "metadata": {},
      "cell_type": "markdown",
      "source": "![Imgur](https://i.imgur.com/jHEgT57.png)"
    },
    {
      "metadata": {},
      "cell_type": "markdown",
      "source": "* **Script or Coding** \n![Imgur](https://i.imgur.com/ADIIi8Q.png)"
    },
    {
      "metadata": {},
      "cell_type": "markdown",
      "source": "* **Console**\n![Imgur](https://i.imgur.com/sOZ0XTt.png)"
    },
    {
      "metadata": {},
      "cell_type": "markdown",
      "source": "* **Environment & Variables**\n![Imgur](https://i.imgur.com/tHWtjY4.png)"
    },
    {
      "metadata": {},
      "cell_type": "markdown",
      "source": "* **Help & Documentation**\n![Imgur](https://i.imgur.com/Ms6yRvR.png)"
    },
    {
      "metadata": {},
      "cell_type": "markdown",
      "source": "* **Plots**\n![Imgur](https://i.imgur.com/b6EElUf.png)"
    },
    {
      "metadata": {},
      "cell_type": "markdown",
      "source": "## R kernel for Jupyter Notebook"
    },
    {
      "metadata": {},
      "cell_type": "markdown",
      "source": "**Requirements:** https://irkernel.github.io/requirements/  \n**\"R Essentials\" setup:** https://anaconda.org/chdoig/jupyter-and-conda-for-r/notebook  \n**Running the notebook:** https://irkernel.github.io/running/  "
    },
    {
      "metadata": {},
      "cell_type": "markdown",
      "source": "## Anaconda Installation for all operating systems"
    },
    {
      "metadata": {},
      "cell_type": "markdown",
      "source": "Operating System | Blog Post | Youtube Video\n--- | --- | ---\nMac | [Install Anaconda on Mac](https://medium.com/@GalarnykMichael/install-python-on-mac-anaconda-ccd9f2014072#.lvhw2gt3k \"Install Anaconda on Mac\") | [Youtube Video](https://www.youtube.com/watch?v=B6d5LrA8bNE \"Youtube Video\")\nWindows | [Install Anaconda on Windows](https://medium.com/@GalarnykMichael/install-python-on-windows-anaconda-c63c7c3d1444#.66f7y3whf) | [Youtube Video](https://www.youtube.com/watch?v=dgjEUcccRwM)\nUbuntu | [Install Anaconda on Ubuntu](https://medium.com/@GalarnykMichael/install-python-on-ubuntu-anaconda-65623042cb5a#.4kwsp0wjl) | [Youtube Video](https://www.youtube.com/watch?v=jo4RMiM-ihs)\nAll | [Environment Management with Conda (Python 2 + 3, Configuring Jupyter Notebooks)](https://medium.com/towards-data-science/environment-management-with-conda-python-2-3-b9961a8a5097) | [Youtube Video](https://www.youtube.com/watch?v=rFCBiP9Gkoo)"
    },
    {
      "metadata": {},
      "cell_type": "markdown",
      "source": "## Data Scienc Process: Crisp-DM workflow"
    },
    {
      "metadata": {},
      "cell_type": "markdown",
      "source": "<img src=\"https://i.imgur.com/XMeTD6a.png\"  alt=\"drawing\" width=\"400\"/>"
    },
    {
      "metadata": {},
      "cell_type": "markdown",
      "source": "<img src=\"https://i.imgur.com/LB4FiPE.jpg\"  alt=\"drawing\" width=\"600\"/>"
    },
    {
      "metadata": {},
      "cell_type": "markdown",
      "source": "![Imgur](https://i.imgur.com/JOJSFd7.jpg)\n"
    }
  ],
  "metadata": {
    "kernelspec": {
      "name": "python3",
      "display_name": "Python 3",
      "language": "python"
    },
    "language_info": {
      "mimetype": "text/x-python",
      "nbconvert_exporter": "python",
      "name": "python",
      "pygments_lexer": "ipython3",
      "version": "3.5.4",
      "file_extension": ".py",
      "codemirror_mode": {
        "version": 3,
        "name": "ipython"
      }
    },
    "toc": {
      "nav_menu": {},
      "number_sections": true,
      "sideBar": true,
      "skip_h1_title": false,
      "base_numbering": 1,
      "title_cell": "Table of Contents",
      "title_sidebar": "Contents",
      "toc_cell": true,
      "toc_position": {},
      "toc_section_display": "block",
      "toc_window_display": false
    }
  },
  "nbformat": 4,
  "nbformat_minor": 2
}