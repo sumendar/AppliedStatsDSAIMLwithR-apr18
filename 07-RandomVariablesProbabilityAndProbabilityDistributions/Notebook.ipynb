{
  "cells": [
    {
      "cell_type": "markdown",
      "metadata": {
        "slideshow": {
          "slide_type": "slide"
        },
        "toc": true
      },
      "source": [
        "<h1>Table of Contents<span class=\"tocSkip\"></span></h1>\n",
        "<div class=\"toc\"><ul class=\"toc-item\"><li><span><a href=\"#Terminology\" data-toc-modified-id=\"Terminology-1\">Terminology</a></span></li><li><span><a href=\"#Permutations-and-Combinations\" data-toc-modified-id=\"Permutations-and-Combinations-2\">Permutations and Combinations</a></span></li><li><span><a href=\"#Probability\" data-toc-modified-id=\"Probability-3\">Probability</a></span></li><li><span><a href=\"#Probability-vs.-Odds\" data-toc-modified-id=\"Probability-vs.-Odds-4\">Probability vs. Odds</a></span></li><li><span><a href=\"#Random-Variable-&amp;-Types-of-Random-Variables\" data-toc-modified-id=\"Random-Variable-&amp;-Types-of-Random-Variables-5\">Random Variable &amp; Types of Random Variables</a></span></li><li><span><a href=\"#Discrete-and-Continuous-Random-Variables\" data-toc-modified-id=\"Discrete-and-Continuous-Random-Variables-6\">Discrete and Continuous Random Variables</a></span></li><li><span><a href=\"#Define-Probability-Distribution-&amp;-Basics-of-Probability-Distribution\" data-toc-modified-id=\"Define-Probability-Distribution-&amp;-Basics-of-Probability-Distribution-7\">Define Probability Distribution &amp; Basics of Probability Distribution</a></span><ul class=\"toc-item\"><li><span><a href=\"#Discrete-Probability-Distribution\" data-toc-modified-id=\"Discrete-Probability-Distribution-7.1\">Discrete Probability Distribution</a></span></li><li><span><a href=\"#Continuous-Probability-Distribution\" data-toc-modified-id=\"Continuous-Probability-Distribution-7.2\">Continuous Probability Distribution</a></span></li></ul></li><li><span><a href=\"#Probability-mass-function-vs-Probability-density-function-Vs-Cumulative-distribution-function\" data-toc-modified-id=\"Probability-mass-function-vs-Probability-density-function-Vs-Cumulative-distribution-function-8\">Probability mass function vs Probability density function Vs Cumulative distribution function</a></span></li><li><span><a href=\"#Types-of-Probability-distributions\" data-toc-modified-id=\"Types-of-Probability-distributions-9\">Types of Probability distributions</a></span><ul class=\"toc-item\"><li><span><a href=\"#Binomial-distribution\" data-toc-modified-id=\"Binomial-distribution-9.1\">Binomial distribution</a></span><ul class=\"toc-item\"><li><span><a href=\"#Mean-Mean-and-Variance-of-Binomial-Distribution\" data-toc-modified-id=\"Mean-Mean-and-Variance-of-Binomial-Distribution-9.1.1\">Mean Mean and Variance of Binomial Distribution</a></span></li></ul></li><li><span><a href=\"#Poisson-distribution\" data-toc-modified-id=\"Poisson-distribution-9.2\">Poisson distribution</a></span></li><li><span><a href=\"#Uniform-distribution\" data-toc-modified-id=\"Uniform-distribution-9.3\">Uniform distribution</a></span></li><li><span><a href=\"#chi-square-distribution\" data-toc-modified-id=\"chi-square-distribution-9.4\">chi square distribution</a></span></li><li><span><a href=\"#F-distribution\" data-toc-modified-id=\"F-distribution-9.5\">F distribution</a></span></li><li><span><a href=\"#Normal-disribution-or-Gaussian-distribution\" data-toc-modified-id=\"Normal-disribution-or-Gaussian-distribution-9.6\">Normal disribution or Gaussian distribution</a></span></li><li><span><a href=\"#student's-t-distribution\" data-toc-modified-id=\"student's-t-distribution-9.7\">student's t distribution</a></span></li></ul></li><li><span><a href=\"#Working-with-Distributions-in-R\" data-toc-modified-id=\"Working-with-Distributions-in-R-10\">Working with Distributions in R</a></span><ul class=\"toc-item\"><li><span><a href=\"#The-Normal-Distribtion\" data-toc-modified-id=\"The-Normal-Distribtion-10.1\">The Normal Distribtion</a></span></li></ul></li><li><span><a href=\"#Frequency-Distribution\" data-toc-modified-id=\"Frequency-Distribution-11\">Frequency Distribution</a></span><ul class=\"toc-item\"><li><span><a href=\"#Ungrouped-Frequency-Distribution\" data-toc-modified-id=\"Ungrouped-Frequency-Distribution-11.1\">Ungrouped Frequency Distribution</a></span></li><li><span><a href=\"#Grouped-Frequency-Distribution\" data-toc-modified-id=\"Grouped-Frequency-Distribution-11.2\">Grouped Frequency Distribution</a></span></li></ul></li><li><span><a href=\"#Construct-frequency-table-and-Relative-frequency-tables\" data-toc-modified-id=\"Construct-frequency-table-and-Relative-frequency-tables-12\">Construct frequency table and Relative frequency tables</a></span></li><li><span><a href=\"#Frequency-Tables-Examples-in-pictures\" data-toc-modified-id=\"Frequency-Tables-Examples-in-pictures-13\">Frequency Tables Examples in pictures</a></span><ul class=\"toc-item\"><li><span><a href=\"#For-Categorical-data\" data-toc-modified-id=\"For-Categorical-data-13.1\">For Categorical data</a></span></li><li><span><a href=\"#For-Quantitative-data\" data-toc-modified-id=\"For-Quantitative-data-13.2\">For Quantitative data</a></span></li></ul></li><li><span><a href=\"#Construct-Frequency-and-Contingency-Tables/cross-tables\" data-toc-modified-id=\"Construct-Frequency-and-Contingency-Tables/cross-tables-14\">Construct Frequency and Contingency Tables/cross tables</a></span></li><li><span><a href=\"#Practice\" data-toc-modified-id=\"Practice-15\">Practice</a></span></li></ul></div>"
      ]
    },
    {
      "cell_type": "markdown",
      "metadata": {
        "slideshow": {
          "slide_type": "slide"
        }
      },
      "source": [
        "## Terminology"
      ]
    },
    {
      "cell_type": "markdown",
      "metadata": {},
      "source": [
        "## Permutations and Combinations "
      ]
    },
    {
      "cell_type": "markdown",
      "metadata": {},
      "source": [
        "https://www.mathplanet.com/education/pre-algebra/probability-and-statistic/combinations-and-permutations"
      ]
    },
    {
      "cell_type": "markdown",
      "metadata": {
        "slideshow": {
          "slide_type": "slide"
        }
      },
      "source": [
        "**Random Experiment:**  \n",
        "There are lots of phenomena in nature, like tossing a coin or tossing a die, whose outcomes cannot be predicted with certainty in advance, but the set of all the possible outcomes is known.These are what we call random phenomena or random experiments.\n",
        "Ex:  \n",
        "- tossing a coin.\n",
        "- rolling a die\n",
        "- Tossing a coin twice\n",
        "\n",
        "**Outcome:**  \n",
        "An outcome is the result of an experiment or sequence of observations.  \n",
        "Ex:     \n",
        "- Getting a head or tail is an outcome \n",
        "- Getting 1 or 2 or 3 ...or 6 on die is an outcome\n",
        "- Getting head on first coin or Getting tail on both coins ...etc are outcomes\n",
        "\n",
        "**Sample space:**  \n",
        "A sample space is a collection of possible outcomes, and is usually denoted by S.  \n",
        "Ex:  \n",
        "-  sample space is S = {H, T}\n",
        "-  sample space is S = {1, 2, 3, 4, 5, 6}\n",
        "-  sample space is S = {HH, HT, TH, T T}\n",
        "\n",
        "**Event:**  \n",
        "An event is a set of possible outcomes, denoted by E which is a subset of the sample space S  \n",
        "Ex:     \n",
        "- E = {H} is an event.\n",
        "- E = {2, 4, 6} is an event\n",
        "- E = {HH, HT} is an event (the first toss results in a Heads) \n",
        "\n",
        "\n",
        "**Distribution:**  \n",
        "A distribution describes the frequency or probability of possible events. When a distribution of categorical data is organized, you see the number or percentage of individuals in each group. When a distribution of numerical data is organized, they’re often ordered from smallest to largest, broken into reasonably sized groups (if appropriate), and then put into graphs and charts to examine the shape, center, and amount of variability in the data  "
      ]
    },
    {
      "cell_type": "markdown",
      "metadata": {
        "slideshow": {
          "slide_type": "slide"
        }
      },
      "source": [
        "## Probability"
      ]
    },
    {
      "cell_type": "markdown",
      "metadata": {
        "slideshow": {
          "slide_type": "fragment"
        }
      },
      "source": [
        "Probability is the likelihood that a **random variable** will take on a certain value."
      ]
    },
    {
      "cell_type": "markdown",
      "metadata": {
        "slideshow": {
          "slide_type": "fragment"
        }
      },
      "source": [
        "EX: There is an 85% chance of snow tomorrow. Variable: Weather, Possible values: Snow, No snow."
      ]
    },
    {
      "cell_type": "markdown",
      "metadata": {},
      "source": [
        "## Probability vs. Odds"
      ]
    },
    {
      "cell_type": "markdown",
      "metadata": {},
      "source": [
        "https://stats.seandolinar.com/statistics-probability-vs-odds"
      ]
    },
    {
      "cell_type": "markdown",
      "metadata": {
        "slideshow": {
          "slide_type": "slide"
        }
      },
      "source": [
        "## Random Variable & Types of Random Variables"
      ]
    },
    {
      "cell_type": "markdown",
      "metadata": {
        "slideshow": {
          "slide_type": "fragment"
        }
      },
      "source": [
        "A **random variable**  The random variable is a variable whose possible values are a result of a random event. Therefore, each possible value of a random variable has some probability attached to it to represent the likelihood of those values. A variable (a named quantity) whose value is uncertain, it is a rule that assigns a numerical value to each possible outcome of a probabilistic experiment\n",
        "\n",
        "We denote a random variable by a capital letter (such as “X”)  \n",
        "\n",
        "**Examples of random variables:**  \n",
        "r.v. X: the age of a randomly selected student here today.  \n",
        "\n",
        "r.v. Y: the number of planes completed in the past week.  \n",
        "\n",
        "**Expected Value (Weighted Mean/Average):**  \n",
        "*Sum of each outcome multiplied by its probability*"
      ]
    },
    {
      "cell_type": "markdown",
      "metadata": {
        "slideshow": {
          "slide_type": "slide"
        }
      },
      "source": [
        "## Discrete and Continuous Random Variables "
      ]
    },
    {
      "cell_type": "code",
      "execution_count": null,
      "metadata": {
        "slideshow": {
          "slide_type": "subslide"
        }
      },
      "outputs": [],
      "source": [
        "A discrete variable is a variable whose value is obtained by counting. \n",
        "\n",
        "Examples:   number of students present\n",
        "\n",
        "            number of red marbles in a jar\n",
        "\n",
        "            number of heads when flipping three coins\n",
        "\n",
        "            students’ grade level "
      ]
    },
    {
      "cell_type": "code",
      "execution_count": null,
      "metadata": {
        "slideshow": {
          "slide_type": "subslide"
        }
      },
      "outputs": [],
      "source": [
        "A continuous variable is a variable whose value is obtained by measuring. \n",
        "\n",
        "Examples:   height of students in class\n",
        "\n",
        "                weight of students in class\n",
        "\n",
        "                time it takes to get to school\n",
        "\n",
        "                distance traveled between classes"
      ]
    },
    {
      "cell_type": "markdown",
      "metadata": {
        "slideshow": {
          "slide_type": "subslide"
        }
      },
      "source": [
        "A **continuous random variable** X takes all values in a given interval of numbers.  \n",
        " \n",
        "▪        The probability distribution of a continuous random variable is shown by a density curve.  \n",
        "▪        The probability that X is between an interval of numbers is the area under the density curve between the interval endpoints  \n",
        "▪        The probability that a continuous random variable X is exactly equal to a number is zero  \n",
        "\n",
        "\n",
        "A **discrete random variable**     \n",
        "* a random variable X can assume only a particular finite or countably infinite set of values \n"
      ]
    },
    {
      "cell_type": "markdown",
      "metadata": {
        "cell_style": "split",
        "slideshow": {
          "slide_type": "subslide"
        }
      },
      "source": [
        "![Imgur](https://i.imgur.com/KIwYqqd.png?1)"
      ]
    },
    {
      "cell_type": "markdown",
      "metadata": {
        "cell_style": "split",
        "slideshow": {
          "slide_type": "fragment"
        }
      },
      "source": [
        "![Imgur](https://i.imgur.com/dZkju0p.png?1)\n",
        "    "
      ]
    },
    {
      "cell_type": "markdown",
      "metadata": {
        "cell_style": "center",
        "slideshow": {
          "slide_type": "slide"
        }
      },
      "source": [
        "## Define Probability Distribution & Basics of Probability Distribution\n",
        "**probability distribution**  \n",
        "A function which gives the probability different outcomes/values of a random variable, Written as \n",
        "P(A) for a random variable A.  \n",
        "\n",
        "* How the probabilities are distributed over the values of a random variable \n",
        "* The set of all possible values of a random variable with the associated probabilities of each.  \n",
        "* is a specification in the form of a graph, a table or a function.    "
      ]
    },
    {
      "cell_type": "markdown",
      "metadata": {
        "slideshow": {
          "slide_type": "subslide"
        }
      },
      "source": [
        "### Discrete Probability Distribution\n",
        "* Random variable is discrete (usually frequency or counts)\n",
        "* Probability distribution is a table (each possible values is a probability of the occurence of a random variable)\n",
        "* A probability of discrete random variable have a perticular value between 0 and 1\n",
        "* Example: binomial, poisson"
      ]
    },
    {
      "cell_type": "markdown",
      "metadata": {
        "slideshow": {
          "slide_type": "subslide"
        }
      },
      "source": [
        "![Imgur](https://i.imgur.com/w3Mo2PM.png?1)"
      ]
    },
    {
      "cell_type": "markdown",
      "metadata": {
        "slideshow": {
          "slide_type": "subslide"
        }
      },
      "source": [
        "![Imgur](https://i.imgur.com/nWcXHUN.png?1)"
      ]
    },
    {
      "cell_type": "markdown",
      "metadata": {
        "slideshow": {
          "slide_type": "subslide"
        }
      },
      "source": [
        "![Imgur](https://i.imgur.com/tHF3QEr.png?1)"
      ]
    },
    {
      "cell_type": "code",
      "execution_count": 24,
      "metadata": {
        "run_control": {
          "frozen": false,
          "read_only": false
        },
        "slideshow": {
          "slide_type": "slide"
        },
        "trusted": false
      },
      "outputs": [],
      "source": [
        "#### Barplot representation of descrete variable "
      ]
    },
    {
      "cell_type": "code",
      "execution_count": 1,
      "metadata": {
        "run_control": {
          "frozen": false,
          "read_only": false
        },
        "scrolled": true,
        "slideshow": {
          "slide_type": "subslide"
        },
        "trusted": false
      },
      "outputs": [
        {
          "data": {
            "image/png": "[encoded data removed]",
            "text/plain": [
              "plot without title"
            ]
          },
          "metadata": {},
          "output_type": "display_data"
        }
      ],
      "source": [
        "# to get in a frequency distribution\n",
        "bp <- barplot(table(mtcars$cyl))\n",
        "# numbers above bars\n",
        "text(x=bp, y=table(mtcars$cyl), labels=table(mtcars$cyl), pos=3, xpd=NA)\n",
        "# numbers within bars\n",
        "text(x=bp, y=table(mtcars$cyl), labels=round(table(mtcars$cyl),0), pos=1)"
      ]
    },
    {
      "cell_type": "code",
      "execution_count": 2,
      "metadata": {
        "run_control": {
          "frozen": false,
          "read_only": false
        },
        "slideshow": {
          "slide_type": "slide"
        },
        "trusted": false
      },
      "outputs": [
        {
          "data": {
            "image/png": "[encoded data removed]",
            "text/plain": [
              "plot without title"
            ]
          },
          "metadata": {},
          "output_type": "display_data"
        }
      ],
      "source": [
        "### to get in the probability distribution\n",
        "bp <- barplot(prop.table(table(mtcars$cyl)))\n",
        "# numbers above bars\n",
        "text(x=bp, y=prop.table(table(mtcars$cyl)), labels=table(mtcars$cyl), pos=3, xpd=NA)\n",
        "# numbers within bars\n",
        "text(x=bp, y=prop.table(table(mtcars$cyl)), labels=round(table(mtcars$cyl),0), pos=1)"
      ]
    },
    {
      "cell_type": "markdown",
      "metadata": {
        "slideshow": {
          "slide_type": "slide"
        }
      },
      "source": [
        "### Continuous Probability Distribution\n",
        "\n",
        "* Infinite number of values in between any two points\n",
        "* The probability that a continuous random variable will assume a particular value is zero.\n",
        "* As a result, a continuous probability distribution cannot be expressed in tabular form.\n",
        "* Instead, an equation or formula is used to describe a continuous probability distribution.\n",
        "* Area under curve is matter\n",
        "* Example: Uniform, Normal, Student's t, Chi-Square and F-distributions  "
      ]
    },
    {
      "cell_type": "markdown",
      "metadata": {
        "slideshow": {
          "slide_type": "subslide"
        }
      },
      "source": [
        "![Imgur](https://i.imgur.com/s3rryVZ.png?1)"
      ]
    },
    {
      "cell_type": "markdown",
      "metadata": {
        "slideshow": {
          "slide_type": "slide"
        }
      },
      "source": [
        "![Imgur](https://i.imgur.com/eUf8UHE.png?1)"
      ]
    },
    {
      "cell_type": "markdown",
      "metadata": {
        "slideshow": {
          "slide_type": "slide"
        }
      },
      "source": [
        "## Probability mass function vs Probability density function Vs Cumulative distribution function"
      ]
    },
    {
      "cell_type": "markdown",
      "metadata": {
        "slideshow": {
          "slide_type": "fragment"
        }
      },
      "source": [
        "![Imgur](https://i.imgur.com/yEKvA7X.png)"
      ]
    },
    {
      "cell_type": "markdown",
      "metadata": {
        "cell_style": "split",
        "slideshow": {
          "slide_type": "slide"
        }
      },
      "source": [
        "![Imgura](https://i.imgur.com/6tESJ02.png?1)"
      ]
    },
    {
      "cell_type": "markdown",
      "metadata": {
        "cell_style": "split",
        "slideshow": {
          "slide_type": "fragment"
        }
      },
      "source": [
        "![Imgurb](https://i.imgur.com/e87OmdI.png?1)"
      ]
    },
    {
      "cell_type": "markdown",
      "metadata": {
        "slideshow": {
          "slide_type": "slide"
        }
      },
      "source": [
        "![Imgur](https://i.imgur.com/HmyLcjy.png?1)"
      ]
    },
    {
      "cell_type": "markdown",
      "metadata": {
        "slideshow": {
          "slide_type": "slide"
        }
      },
      "source": [
        "![Imgur](https://i.imgur.com/plFlXc7.png?1)"
      ]
    },
    {
      "cell_type": "markdown",
      "metadata": {
        "cell_style": "split",
        "slideshow": {
          "slide_type": "slide"
        }
      },
      "source": [
        "![Imgur](https://i.imgur.com/OJtvfAO.png?1)"
      ]
    },
    {
      "cell_type": "markdown",
      "metadata": {
        "cell_style": "split",
        "slideshow": {
          "slide_type": "fragment"
        }
      },
      "source": [
        "![Imgur](https://i.imgur.com/MLebJZI.png?1)"
      ]
    },
    {
      "cell_type": "markdown",
      "metadata": {
        "slideshow": {
          "slide_type": "slide"
        }
      },
      "source": [
        "![Imgur](https://i.imgur.com/c5Runrt.png?1)"
      ]
    },
    {
      "cell_type": "markdown",
      "metadata": {
        "slideshow": {
          "slide_type": "slide"
        }
      },
      "source": [
        "![Imgur](https://i.imgur.com/1dOa9pZ.png?1)"
      ]
    },
    {
      "cell_type": "markdown",
      "metadata": {
        "slideshow": {
          "slide_type": "slide"
        }
      },
      "source": [
        "![Imgur](https://i.imgur.com/v2Wh3Np.png?1)"
      ]
    },
    {
      "cell_type": "markdown",
      "metadata": {},
      "source": [
        "## Types of Probability distributions"
      ]
    },
    {
      "cell_type": "code",
      "execution_count": null,
      "metadata": {
        "run_control": {
          "frozen": false,
          "read_only": false
        },
        "trusted": false
      },
      "outputs": [],
      "source": [
        "### Bernouli Trails and Bernouli disribution"
      ]
    },
    {
      "cell_type": "markdown",
      "metadata": {
        "slideshow": {
          "slide_type": "slide"
        }
      },
      "source": [
        "* Bernoulli Distribution is an example of a discrete probability distribution\n",
        "* Bernoulli random variable has two possible outcomes: 0 or 1\n",
        "* When a coin is tossed, the probability it lands heads is p. So the probability that it lands tails is 1−p \n",
        "* There are no other possible outcomes for the coin toss, If the coin lands heads, you win otherwise loss."
      ]
    },
    {
      "cell_type": "markdown",
      "metadata": {
        "slideshow": {
          "slide_type": "slide"
        }
      },
      "source": [
        "![Imgur](https://i.imgur.com/T5x5bY2.png?1)"
      ]
    },
    {
      "cell_type": "markdown",
      "metadata": {
        "run_control": {
          "frozen": false,
          "read_only": false
        },
        "slideshow": {
          "slide_type": "slide"
        }
      },
      "source": [
        "### Binomial distribution"
      ]
    },
    {
      "cell_type": "markdown",
      "metadata": {
        "slideshow": {
          "slide_type": "subslide"
        }
      },
      "source": [
        "![Imgur](https://i.imgur.com/17pUPuJ.png?1)"
      ]
    },
    {
      "cell_type": "markdown",
      "metadata": {
        "slideshow": {
          "slide_type": "subslide"
        }
      },
      "source": [
        "![Imgur](https://i.imgur.com/6JDTGnC.png)"
      ]
    },
    {
      "cell_type": "markdown",
      "metadata": {
        "slideshow": {
          "slide_type": "slide"
        }
      },
      "source": [
        "* Each trial results in an outcome that may be classified as a success or a failure (hence the name, binomial)\n",
        "* Note that a binomial random variable with parameter n=1 is equivalent to a Bernoulli random variable, i.e. there is only one trial\n",
        "\n",
        "where\n",
        "\n",
        "n = the number of trials\n",
        "\n",
        "x = 0, 1, 2, ... n\n",
        "\n",
        "p = the probability of success in a single trial\n",
        "\n",
        "q = the probability of failure in a single trial\n",
        "\n",
        "(i.e. q = 1 − p)\n",
        "\n",
        "P(X) gives the probability of successes in n binomial trials."
      ]
    },
    {
      "cell_type": "markdown",
      "metadata": {
        "slideshow": {
          "slide_type": "slide"
        }
      },
      "source": [
        "#### Mean Mean and Variance of Binomial Distribution"
      ]
    },
    {
      "cell_type": "markdown",
      "metadata": {
        "slideshow": {
          "slide_type": "subslide"
        }
      },
      "source": [
        "If p is the probability of success and q is the probability of failure in a binomial trial, then the expected number of successes in n trials (i.e. the mean value of the binomial distribution) is\n",
        "\n",
        "E(X) = μ = np\n",
        "\n",
        "The variance of the binomial distribution is\n",
        "\n",
        "V(X) = σ2 = npq\n",
        "\n",
        "Note: In a binomial distribution, only 2 parameters, namely n and p, are needed to determine the probability"
      ]
    },
    {
      "cell_type": "markdown",
      "metadata": {
        "slideshow": {
          "slide_type": "slide"
        }
      },
      "source": [
        "![Imgur](https://i.imgur.com/zGWPXV9.png)"
      ]
    },
    {
      "cell_type": "markdown",
      "metadata": {
        "run_control": {
          "frozen": false,
          "marked": false,
          "read_only": false
        },
        "slideshow": {
          "slide_type": "slide"
        }
      },
      "source": [
        "### Poisson distribution"
      ]
    },
    {
      "cell_type": "markdown",
      "metadata": {
        "slideshow": {
          "slide_type": "slide"
        }
      },
      "source": [
        "Many experimental situations occur in which we observe the counts of events\n",
        "within a set unit of time, area, volume, length etc. For example,  \n",
        "• The number of cases of a disease in different towns  \n",
        "• The number of particles emitted by a radioactive source in a given time  \n",
        "• The number of births per hour during a given day  "
      ]
    },
    {
      "cell_type": "markdown",
      "metadata": {
        "slideshow": {
          "slide_type": "subslide"
        }
      },
      "source": [
        "* Poisson distribution is the probability distribution which calculates the probability of a set of independent event occurrences with in a interval or fixed time or space.   \n",
        "**Ex:**  \n",
        "The number of calls to a telephone switchboard in one minute."
      ]
    },
    {
      "cell_type": "markdown",
      "metadata": {
        "slideshow": {
          "slide_type": "subslide"
        }
      },
      "source": [
        "![Imgur](https://i.imgur.com/KUR1OXB.png?1)"
      ]
    },
    {
      "cell_type": "markdown",
      "metadata": {
        "run_control": {
          "frozen": false,
          "read_only": false
        }
      },
      "source": [
        "### Uniform distribution"
      ]
    },
    {
      "cell_type": "markdown",
      "metadata": {
        "run_control": {
          "frozen": false,
          "read_only": false
        }
      },
      "source": [
        "### chi square distribution"
      ]
    },
    {
      "cell_type": "markdown",
      "metadata": {
        "run_control": {
          "frozen": false,
          "read_only": false
        }
      },
      "source": [
        "### F distribution"
      ]
    },
    {
      "cell_type": "markdown",
      "metadata": {
        "run_control": {
          "frozen": false,
          "read_only": false
        }
      },
      "source": [
        "### Normal disribution or Gaussian distribution"
      ]
    },
    {
      "cell_type": "markdown",
      "metadata": {
        "run_control": {
          "frozen": false,
          "read_only": false
        }
      },
      "source": [
        "### student's t distribution"
      ]
    },
    {
      "cell_type": "markdown",
      "metadata": {
        "slideshow": {
          "slide_type": "slide"
        }
      },
      "source": [
        "![Imgur](https://i.imgur.com/RPFTSYD.png?4)"
      ]
    },
    {
      "cell_type": "markdown",
      "metadata": {
        "slideshow": {
          "slide_type": "slide"
        }
      },
      "source": [
        "## Working with Distributions in R"
      ]
    },
    {
      "cell_type": "code",
      "execution_count": 1,
      "metadata": {
        "run_control": {
          "frozen": false,
          "read_only": false
        },
        "slideshow": {
          "slide_type": "slide"
        },
        "trusted": false
      },
      "outputs": [],
      "source": [
        "    # help(\"distributions\")\n"
      ]
    },
    {
      "cell_type": "markdown",
      "metadata": {
        "slideshow": {
          "slide_type": "fragment"
        }
      },
      "source": [
        "Common Distribution-Type Arguments  \n",
        "Almost all the R functions that generate values of probability distributions work the  \n",
        "same way. They follow a similar naming convention:    \n",
        "\n",
        "• p cumulative **probability** distribution function (Direct Look-Up-c. d. f.)  \n",
        "• d probability **density** function ((p. f. or p. d. f.))  \n",
        "• q **quantile** function (inverse cumulative distribution-inverse c. d. f))  \n",
        "• r **random** sample (for simulation/random number generation)  "
      ]
    },
    {
      "cell_type": "markdown",
      "metadata": {
        "slideshow": {
          "slide_type": "slide"
        }
      },
      "source": [
        "### The Normal Distribtion"
      ]
    },
    {
      "cell_type": "markdown",
      "metadata": {
        "slideshow": {
          "slide_type": "subslide"
        }
      },
      "source": [
        "![Imgur](https://i.imgur.com/pzErpD0.png?1)"
      ]
    },
    {
      "cell_type": "markdown",
      "metadata": {
        "slideshow": {
          "slide_type": "slide"
        }
      },
      "source": [
        "![Imgur](https://i.imgur.com/q4cT6ns.png)"
      ]
    },
    {
      "cell_type": "markdown",
      "metadata": {
        "slideshow": {
          "slide_type": "subslide"
        }
      },
      "source": [
        "**Direct Look-Up**  \n",
        "pnorm is the R function that calculates the c. d. f.  \n",
        "  \n",
        "F(x) = P(X <= x)  \n",
        "where X is normal. Optional arguments described on the on-line documentation specify the parameters of the particular normal distribution.\n",
        "Both of the R commands in the box below do exactly the same thing.  "
      ]
    },
    {
      "cell_type": "code",
      "execution_count": 2,
      "metadata": {
        "run_control": {
          "frozen": false,
          "read_only": false
        },
        "slideshow": {
          "slide_type": "fragment"
        },
        "trusted": false
      },
      "outputs": [
        {
          "data": {
            "text/html": [
              "0.129238112240018"
            ],
            "text/latex": [
              "0.129238112240018"
            ],
            "text/markdown": [
              "0.129238112240018"
            ],
            "text/plain": [
              "[1] 0.1292381"
            ]
          },
          "metadata": {},
          "output_type": "display_data"
        },
        {
          "data": {
            "text/html": [
              "0.129238112240018"
            ],
            "text/latex": [
              "0.129238112240018"
            ],
            "text/markdown": [
              "0.129238112240018"
            ],
            "text/plain": [
              "[1] 0.1292381"
            ]
          },
          "metadata": {},
          "output_type": "display_data"
        }
      ],
      "source": [
        "pnorm(27.4, mean=50, sd=20)\n",
        "pnorm(27.4, 50, 20)\n",
        "\n",
        "# zThey look up P(X < 27.4) when X is normal with mean 50 and standard deviation 20.\n",
        "# Example"
      ]
    },
    {
      "cell_type": "code",
      "execution_count": null,
      "metadata": {
        "slideshow": {
          "slide_type": "slide"
        }
      },
      "outputs": [],
      "source": [
        "Question: Suppose widgit weights produced at Acme Widgit Works have weights that are normally distributed with mean 17.46 grams and variance 375.67 grams. What is the probability that a randomly chosen widgit weighs more then 19 grams?\n",
        "\n",
        "Question Rephrased: What is P(X > 19) when X has the N(17.46, 375.67) distribution?"
      ]
    },
    {
      "cell_type": "code",
      "execution_count": 3,
      "metadata": {
        "run_control": {
          "frozen": false,
          "read_only": false
        },
        "slideshow": {
          "slide_type": "fragment"
        },
        "trusted": false
      },
      "outputs": [
        {
          "data": {
            "text/html": [
              "0.468335635789911"
            ],
            "text/latex": [
              "0.468335635789911"
            ],
            "text/markdown": [
              "0.468335635789911"
            ],
            "text/plain": [
              "[1] 0.4683356"
            ]
          },
          "metadata": {},
          "output_type": "display_data"
        }
      ],
      "source": [
        "1 - pnorm(19, mean = 17.46, sd = sqrt(375.67))"
      ]
    },
    {
      "cell_type": "markdown",
      "metadata": {
        "slideshow": {
          "slide_type": "slide"
        }
      },
      "source": [
        "**Inverse Look-Up**  \n",
        "qnorm is the R function that calculates the inverse c. d. f. F-1 of the normal distribution The c. d. f. and the inverse c. d. f. are related by  \n",
        "   \n",
        "p = F(x)  \n",
        "x = F-1(p)  \n",
        "So given a number p between zero and one, qnorm looks up the p-th quantile of the normal distribution. As with pnorm, optional arguments specify the mean and standard deviation of the distribution.  \n"
      ]
    },
    {
      "cell_type": "code",
      "execution_count": null,
      "metadata": {
        "slideshow": {
          "slide_type": "subslide"
        }
      },
      "outputs": [],
      "source": [
        "Question: Suppose IQ scores are normally distributed with mean 100 and standard deviation 15. What is the 95th percentile of the distribution of IQ scores?\n",
        "\n",
        "Question Rephrased: What is F-1(0.95) when X has the N(100, 152) distribution?"
      ]
    },
    {
      "cell_type": "code",
      "execution_count": 4,
      "metadata": {
        "run_control": {
          "frozen": false,
          "read_only": false
        },
        "slideshow": {
          "slide_type": "fragment"
        },
        "trusted": false
      },
      "outputs": [
        {
          "data": {
            "text/html": [
              "124.672804404272"
            ],
            "text/latex": [
              "124.672804404272"
            ],
            "text/markdown": [
              "124.672804404272"
            ],
            "text/plain": [
              "[1] 124.6728"
            ]
          },
          "metadata": {},
          "output_type": "display_data"
        }
      ],
      "source": [
        "qnorm(0.95, mean = 100, sd = 15)"
      ]
    },
    {
      "cell_type": "markdown",
      "metadata": {
        "slideshow": {
          "slide_type": "slide"
        }
      },
      "source": [
        "**Density**  \n",
        "dnorm is the R function that calculates the p. d. f. f of the normal distribution. As with pnorm and qnorm, optional arguments specify the mean and standard deviation of the distribution.\n",
        "\n",
        "There's not much need for this function in doing calculations, because you need to do integrals to use any p. d. f., and R doesn't do integrals. In fact, there's not much use for the \"d\" function for any continuous distribution (discrete distributions are entirely another matter, for them the \"d\" functions are very useful, see the section about dbinom).\n"
      ]
    },
    {
      "cell_type": "markdown",
      "metadata": {
        "slideshow": {
          "slide_type": "slide"
        }
      },
      "source": [
        "**Random Variates**  \n",
        "rnorm is the R function that simulates random variates having a specified normal distribution. As with pnorm, qnorm, and dnorm, optional arguments specify the mean and standard deviation of the distribution."
      ]
    },
    {
      "cell_type": "code",
      "execution_count": 3,
      "metadata": {
        "run_control": {
          "frozen": false,
          "read_only": false
        },
        "slideshow": {
          "slide_type": "subslide"
        },
        "trusted": false
      },
      "outputs": [
        {
          "data": {
            "image/png": "[encoded data removed]",
            "text/plain": [
              "Plot with title \"Histogram of x\""
            ]
          },
          "metadata": {},
          "output_type": "display_data"
        }
      ],
      "source": [
        "x <- rnorm(1000, mean = 100, sd = 15)\n",
        "hist(x, probability = TRUE)\n",
        "xx <- seq(min(x), max(x), length = 100)\n",
        "lines(xx, dnorm(xx, mean = 100, sd = 15))\n",
        "\n",
        "# This generates 1000 i. i. d. normal random numbers (first line), plots their\n",
        "# histogram (second line), and graphs the p. d. f. of the same normal\n",
        "# distribution (third and forth lines)."
      ]
    },
    {
      "cell_type": "markdown",
      "metadata": {
        "slideshow": {
          "slide_type": "slide"
        }
      },
      "source": [
        "**he Binomial Distribtion**  \n",
        "**Direct Look-Up, Points**  \n",
        "dbinom is the R function that calculates the p. f. of the binomial distribution. Optional arguments described on the on-line documentation specify the parameters of the particular binomial distribution.\n",
        "\n",
        "Both of the R commands in the box below do exactly the same thing."
      ]
    },
    {
      "cell_type": "code",
      "execution_count": 6,
      "metadata": {
        "run_control": {
          "frozen": false,
          "read_only": false
        },
        "slideshow": {
          "slide_type": "subslide"
        },
        "trusted": false
      },
      "outputs": [
        {
          "data": {
            "text/html": [
              "0.0806407548759012"
            ],
            "text/latex": [
              "0.0806407548759012"
            ],
            "text/markdown": [
              "0.0806407548759012"
            ],
            "text/plain": [
              "[1] 0.08064075"
            ]
          },
          "metadata": {},
          "output_type": "display_data"
        },
        {
          "data": {
            "text/html": [
              "0.0806407548759012"
            ],
            "text/latex": [
              "0.0806407548759012"
            ],
            "text/markdown": [
              "0.0806407548759012"
            ],
            "text/plain": [
              "[1] 0.08064075"
            ]
          },
          "metadata": {},
          "output_type": "display_data"
        }
      ],
      "source": [
        "dbinom(27, size=100, prob=0.25)\n",
        "dbinom(27, 100, 0.25)\n",
        "\n",
        "# They look up P(X = 27) when X is has the Bin(100, 0.25) distribution."
      ]
    },
    {
      "cell_type": "code",
      "execution_count": null,
      "metadata": {
        "slideshow": {
          "slide_type": "subslide"
        }
      },
      "outputs": [],
      "source": [
        "Example\n",
        "Question: Suppose widgits produced at Acme Widgit Works have probability 0.005 of being defective. Suppose widgits are shipped in cartons containing 25 widgits. What is the probability that a randomly chosen carton contains exactly one defective widgit?\n",
        "\n",
        "Question Rephrased: What is P(X = 1) when X has the Bin(25, 0.005) distribution?"
      ]
    },
    {
      "cell_type": "code",
      "execution_count": 7,
      "metadata": {
        "run_control": {
          "frozen": false,
          "read_only": false
        },
        "slideshow": {
          "slide_type": "fragment"
        },
        "trusted": false
      },
      "outputs": [
        {
          "data": {
            "text/html": [
              "0.110831688812663"
            ],
            "text/latex": [
              "0.110831688812663"
            ],
            "text/markdown": [
              "0.110831688812663"
            ],
            "text/plain": [
              "[1] 0.1108317"
            ]
          },
          "metadata": {},
          "output_type": "display_data"
        }
      ],
      "source": [
        "dbinom(1, 25, 0.005)"
      ]
    },
    {
      "cell_type": "markdown",
      "metadata": {
        "slideshow": {
          "slide_type": "slide"
        }
      },
      "source": [
        "**Direct Look-Up, Intervals**  \n",
        "pbinom is the R function that calculates the c. d. f. of the binomial distribution. Optional arguments described on the on-line documentation specify the parameters of the particular binomial distribution.\n",
        "\n",
        "Both of the R commands in the box below do exactly the same thing."
      ]
    },
    {
      "cell_type": "code",
      "execution_count": 8,
      "metadata": {
        "run_control": {
          "frozen": false,
          "read_only": false
        },
        "slideshow": {
          "slide_type": "subslide"
        },
        "trusted": false
      },
      "outputs": [
        {
          "data": {
            "text/html": [
              "0.722380513115339"
            ],
            "text/latex": [
              "0.722380513115339"
            ],
            "text/markdown": [
              "0.722380513115339"
            ],
            "text/plain": [
              "[1] 0.7223805"
            ]
          },
          "metadata": {},
          "output_type": "display_data"
        },
        {
          "data": {
            "text/html": [
              "0.722380513115339"
            ],
            "text/latex": [
              "0.722380513115339"
            ],
            "text/markdown": [
              "0.722380513115339"
            ],
            "text/plain": [
              "[1] 0.7223805"
            ]
          },
          "metadata": {},
          "output_type": "display_data"
        }
      ],
      "source": [
        "pbinom(27, size = 100, prob = 0.25)\n",
        "pbinom(27, 100, 0.25)\n",
        "# They look up P(X <= 27) when X is has the Bin(100, 0.25) distribution. (Note\n",
        "# the less than or equal to sign. It's important when working with a discrete\n",
        "# distribution!)"
      ]
    },
    {
      "cell_type": "code",
      "execution_count": null,
      "metadata": {
        "slideshow": {
          "slide_type": "slide"
        }
      },
      "outputs": [],
      "source": [
        "Example\n",
        "Question: Suppose widgits produced at Acme Widgit Works have probability 0.005 of being defective. Suppose widgits are shipped in cartons containing 25 widgits. What is the probability that a randomly chosen carton contains no more than one defective widgit?\n",
        "\n",
        "Question Rephrased: What is P(X <= 1) when X has the Bin(25, 0.005) distribution?"
      ]
    },
    {
      "cell_type": "code",
      "execution_count": 9,
      "metadata": {
        "run_control": {
          "frozen": false,
          "read_only": false
        },
        "slideshow": {
          "slide_type": "fragment"
        },
        "trusted": false
      },
      "outputs": [
        {
          "data": {
            "text/html": [
              "0.993051931761465"
            ],
            "text/latex": [
              "0.993051931761465"
            ],
            "text/markdown": [
              "0.993051931761465"
            ],
            "text/plain": [
              "[1] 0.9930519"
            ]
          },
          "metadata": {},
          "output_type": "display_data"
        }
      ],
      "source": [
        "pbinom(1, 25, 0.005)"
      ]
    },
    {
      "cell_type": "markdown",
      "metadata": {
        "slideshow": {
          "slide_type": "slide"
        }
      },
      "source": [
        "**Inverse Look-Up**  \n",
        "qbinom is the R function that calculates the \"inverse c. d. f.\" of the binomial distribution. How does it do that when the c. d. f. is a step function and hence not invertible? The on-line documentation for the binomial probability functions explains.\n",
        "  \n",
        "The quantile is defined as the smallest value x such that F(x) >= p, where F is the distribution function.\n",
        "When the p-th quantile is nonunique, there is a whole interval of values each of which is a p-th quantile. The documentation says that qbinom (and other \"q\" functions, for that matter) returns the smallest of these values. That is one sensible definition of an \"inverse c. d. f.\" In the terminology of Section  of the course notes, the function defined by qbinom is a right inverse of the function defined by pbinom, that is,\n",
        "q == pbinom(qbinom(q, n, p)),       0 < q < 1,   0 < p < 1,   n a positive integer\n",
        "is always true, but the analogous formula with pnorm and qnorm reversed does not necessarily hold."
      ]
    },
    {
      "cell_type": "code",
      "execution_count": null,
      "metadata": {
        "slideshow": {
          "slide_type": "subslide"
        }
      },
      "outputs": [],
      "source": [
        "Example\n",
        "Question: What are the 10th, 20th, and so forth quantiles of the Bin(10, 1/3) distribution?"
      ]
    },
    {
      "cell_type": "code",
      "execution_count": 10,
      "metadata": {
        "run_control": {
          "frozen": false,
          "read_only": false
        },
        "scrolled": true,
        "slideshow": {
          "slide_type": "fragment"
        },
        "trusted": false
      },
      "outputs": [
        {
          "data": {
            "text/html": [
              "1"
            ],
            "text/latex": [
              "1"
            ],
            "text/markdown": [
              "1"
            ],
            "text/plain": [
              "[1] 1"
            ]
          },
          "metadata": {},
          "output_type": "display_data"
        },
        {
          "data": {
            "text/html": [
              "2"
            ],
            "text/latex": [
              "2"
            ],
            "text/markdown": [
              "2"
            ],
            "text/plain": [
              "[1] 2"
            ]
          },
          "metadata": {},
          "output_type": "display_data"
        },
        {
          "data": {
            "text/html": [
              "<ol class=list-inline>\n",
              "\t<li>1</li>\n",
              "\t<li>2</li>\n",
              "\t<li>3</li>\n",
              "\t<li>3</li>\n",
              "\t<li>3</li>\n",
              "\t<li>4</li>\n",
              "\t<li>4</li>\n",
              "\t<li>5</li>\n",
              "\t<li>5</li>\n",
              "</ol>\n"
            ],
            "text/latex": [
              "\\begin{enumerate*}\n",
              "\\item 1\n",
              "\\item 2\n",
              "\\item 3\n",
              "\\item 3\n",
              "\\item 3\n",
              "\\item 4\n",
              "\\item 4\n",
              "\\item 5\n",
              "\\item 5\n",
              "\\end{enumerate*}\n"
            ],
            "text/markdown": [
              "1. 1\n",
              "2. 2\n",
              "3. 3\n",
              "4. 3\n",
              "5. 3\n",
              "6. 4\n",
              "7. 4\n",
              "8. 5\n",
              "9. 5\n",
              "\n",
              "\n"
            ],
            "text/plain": [
              "[1] 1 2 3 3 3 4 4 5 5"
            ]
          },
          "metadata": {},
          "output_type": "display_data"
        }
      ],
      "source": [
        "qbinom(0.1, 10, 1/3)\n",
        "qbinom(0.2, 10, 1/3)\n",
        "# and so forth, or all at once with\n",
        "qbinom(seq(0.1, 0.9, 0.1), 10, 1/3)\n",
        "\n",
        "# They look up P(X <= 27) when X is has the Bin(100, 0.25) distribution. (Note\n",
        "# the less than or equal to sign. It's important when working with a discrete\n",
        "# distribution!)"
      ]
    },
    {
      "cell_type": "markdown",
      "metadata": {
        "slideshow": {
          "slide_type": "slide"
        }
      },
      "source": [
        "## Frequency Distribution"
      ]
    },
    {
      "cell_type": "code",
      "execution_count": null,
      "metadata": {
        "collapsed": true,
        "run_control": {
          "frozen": false,
          "read_only": false
        },
        "slideshow": {
          "slide_type": "subslide"
        }
      },
      "outputs": [],
      "source": [
        "Frequency Distribution is nothing but the values and their frequency (how often each value occurs)."
      ]
    },
    {
      "cell_type": "code",
      "execution_count": null,
      "metadata": {
        "slideshow": {
          "slide_type": "subslide"
        }
      },
      "outputs": [],
      "source": [
        "These are the numbers of newspapers sold at a local shop over the last 10 days:\n",
        "\n",
        "22, 20, 18, 23, 20, 25, 22, 20, 18, 20\n",
        "\n",
        "Let us count how many of each number there is:\n",
        "\n",
        "Papers Sold\tFrequency\n",
        "18\t2\n",
        "19\t0\n",
        "20\t4\n",
        "21\t0\n",
        "22\t2\n",
        "23\t1\n",
        "24\t0\n",
        "25\t1"
      ]
    },
    {
      "cell_type": "markdown",
      "metadata": {
        "slideshow": {
          "slide_type": "slide"
        }
      },
      "source": [
        "### Ungrouped Frequency Distribution\n",
        "* Each value of x in the distribution stands alone"
      ]
    },
    {
      "cell_type": "markdown",
      "metadata": {
        "slideshow": {
          "slide_type": "slide"
        }
      },
      "source": [
        "### Grouped Frequency Distribution\n",
        "* Group the values into a set of classes!"
      ]
    },
    {
      "cell_type": "code",
      "execution_count": null,
      "metadata": {
        "slideshow": {
          "slide_type": "subslide"
        }
      },
      "outputs": [],
      "source": [
        "It is also possible to group the values. Here they are grouped in 5s:\n",
        "\n",
        "Papers Sold\tFrequency\n",
        "15-19\t2\n",
        "20-24\t7\n",
        "25-29\t1"
      ]
    },
    {
      "cell_type": "markdown",
      "metadata": {
        "slideshow": {
          "slide_type": "slide"
        }
      },
      "source": [
        "## Construct frequency table and Relative frequency tables"
      ]
    },
    {
      "cell_type": "code",
      "execution_count": null,
      "metadata": {
        "run_control": {
          "frozen": false,
          "read_only": false
        },
        "slideshow": {
          "slide_type": "subslide"
        }
      },
      "outputs": [],
      "source": [
        "#  How to calculate a frequency distribution from a given vector of values\n",
        "# list of the ages of the U.S. presidents when they became \n",
        "# president. (The ages are in years, rounded down.)  \n",
        " "
      ]
    },
    {
      "cell_type": "code",
      "execution_count": 11,
      "metadata": {
        "run_control": {
          "frozen": false,
          "marked": false,
          "read_only": false
        },
        "slideshow": {
          "slide_type": "fragment"
        },
        "trusted": false
      },
      "outputs": [],
      "source": [
        "ages<-c(57,61,57,57,58,57,61,54,68,51,49,64,50,48,65,52,56,46,54,49,51,47,55,55,\n",
        "54,42,51,56,55,51,54,51,60,62,43,55,56,61,52,69,64,46,54)"
      ]
    },
    {
      "cell_type": "code",
      "execution_count": null,
      "metadata": {
        "slideshow": {
          "slide_type": "subslide"
        }
      },
      "outputs": [],
      "source": [
        "Copy and paste the 43 numbers in the PRESIDENTS’ AGES DATA SET above. \n",
        "• Notice that, unlike for the ‘c’ command, commas (,) are NOT used with \n",
        "‘scan’. \n",
        "• Copying can be done by using CTRL-C. \n",
        "• Pasting can be done by using CTRL-V. "
      ]
    },
    {
      "cell_type": "code",
      "execution_count": null,
      "metadata": {
        "slideshow": {
          "slide_type": "subslide"
        }
      },
      "outputs": [],
      "source": [
        "> Press RETURN or ENTER on your computer. \n",
        "* You should see ‘44:’ in your console window. This means that, if you \n",
        "were to enter another value, it would be the 44th data value.   \n",
        " \n",
        "> Press RETURN or ENTER again, since we are not entering in any more values. \n",
        "• You should see ‘Read 43 items’ in your console window. "
      ]
    },
    {
      "cell_type": "code",
      "execution_count": 12,
      "metadata": {
        "run_control": {
          "frozen": false,
          "marked": false,
          "read_only": false
        },
        "slideshow": {
          "slide_type": "slide"
        },
        "trusted": false
      },
      "outputs": [
        {
          "data": {
            "text/plain": [
              "ages\n",
              "42 43 46 47 48 49 50 51 52 54 55 56 57 58 60 61 62 64 65 68 69 \n",
              " 1  1  2  1  1  2  1  5  2  5  4  3  4  1  1  3  1  2  1  1  1 "
            ]
          },
          "metadata": {},
          "output_type": "display_data"
        }
      ],
      "source": [
        "table(ages) "
      ]
    },
    {
      "cell_type": "code",
      "execution_count": 13,
      "metadata": {
        "run_control": {
          "frozen": false,
          "marked": false,
          "read_only": false
        },
        "slideshow": {
          "slide_type": "subslide"
        },
        "trusted": false
      },
      "outputs": [],
      "source": [
        "boundaries  <-  seq(34.5, 69.5, by=5) \n",
        "# The sequence of numbers we will use to separate our classes will be the \n",
        "# numbers from 34.5 through 69.5, jumping by 5s. These numbers are called \n",
        "# “class boundaries.”"
      ]
    },
    {
      "cell_type": "code",
      "execution_count": 14,
      "metadata": {
        "run_control": {
          "frozen": false,
          "marked": false,
          "read_only": false
        },
        "slideshow": {
          "slide_type": "fragment"
        },
        "trusted": false
      },
      "outputs": [
        {
          "data": {
            "text/plain": [
              "\n",
              "(34.5,39.5] (39.5,44.5] (44.5,49.5] (49.5,54.5] (54.5,59.5] (59.5,64.5] \n",
              "          0           2           6          13          12           7 \n",
              "(64.5,69.5] \n",
              "          3 "
            ]
          },
          "metadata": {},
          "output_type": "display_data"
        }
      ],
      "source": [
        "table(cut(ages, boundaries)) \n",
        "# You will see a frequency table for the ages. "
      ]
    },
    {
      "cell_type": "code",
      "execution_count": 15,
      "metadata": {
        "run_control": {
          "frozen": false,
          "marked": false,
          "read_only": false
        },
        "slideshow": {
          "slide_type": "fragment"
        },
        "trusted": false
      },
      "outputs": [
        {
          "data": {
            "text/plain": [
              "\n",
              "(34.5,39.5] (39.5,44.5] (44.5,49.5] (49.5,54.5] (54.5,59.5] (59.5,64.5] \n",
              "          0           2           6          13          12           7 \n",
              "(64.5,69.5]  (69.5,Inf] \n",
              "          3           0 "
            ]
          },
          "metadata": {},
          "output_type": "display_data"
        }
      ],
      "source": [
        "table(cut(ages, c(boundaries, Inf))) \n",
        "# This includes the last class of “70+” years. The “Inf” indicates that the last \n",
        "# class goes off to infinity. "
      ]
    },
    {
      "cell_type": "markdown",
      "metadata": {
        "slideshow": {
          "slide_type": "slide"
        }
      },
      "source": [
        "**RELATIVE FREQUENCY TABLES** "
      ]
    },
    {
      "cell_type": "code",
      "execution_count": 16,
      "metadata": {
        "run_control": {
          "frozen": false,
          "marked": false,
          "read_only": false
        },
        "slideshow": {
          "slide_type": "subslide"
        },
        "trusted": false
      },
      "outputs": [
        {
          "data": {
            "text/html": [
              "43"
            ],
            "text/latex": [
              "43"
            ],
            "text/markdown": [
              "43"
            ],
            "text/plain": [
              "[1] 43"
            ]
          },
          "metadata": {},
          "output_type": "display_data"
        },
        {
          "data": {
            "text/plain": [
              "\n",
              "(34.5,39.5] (39.5,44.5] (44.5,49.5] (49.5,54.5] (54.5,59.5] (59.5,64.5] \n",
              " 0.00000000  0.04651163  0.13953488  0.30232558  0.27906977  0.16279070 \n",
              "(64.5,69.5] \n",
              " 0.06976744 "
            ]
          },
          "metadata": {},
          "output_type": "display_data"
        }
      ],
      "source": [
        "length(ages) \n",
        "# This tells you that there are 43 ages in our data set. \n",
        "table(cut(ages, boundaries))/43 \n",
        "# You will see a relative frequency table for the ages"
      ]
    },
    {
      "cell_type": "markdown",
      "metadata": {
        "slideshow": {
          "slide_type": "slide"
        }
      },
      "source": [
        "**MAKING BARPLOT AND HISTOGRAMS**"
      ]
    },
    {
      "cell_type": "code",
      "execution_count": 17,
      "metadata": {
        "run_control": {
          "frozen": false,
          "marked": false,
          "read_only": false
        },
        "slideshow": {
          "slide_type": "subslide"
        },
        "trusted": false
      },
      "outputs": [
        {
          "data": {
            "image/png": "[encoded data removed]",
            "text/plain": [
              "plot without title"
            ]
          },
          "metadata": {},
          "output_type": "display_data"
        },
        {
          "data": {
            "image/png": "[encoded data removed]",
            "text/plain": [
              "Plot with title \"Histogram of ages\""
            ]
          },
          "metadata": {},
          "output_type": "display_data"
        },
        {
          "data": {
            "image/png": "[encoded data removed]",
            "text/plain": [
              "Plot with title \"Histogram of ages\""
            ]
          },
          "metadata": {},
          "output_type": "display_data"
        }
      ],
      "source": [
        "# BARPLOTS \n",
        "barplot(ages) \n",
        "# • You will see (in a separate window) bars corresponding to the ages in the \n",
        "# order we entered them in, but this is NOT a correct histogram. \n",
        "\n",
        "#HISTOGRAMS \n",
        " \n",
        "hist(ages) \n",
        "# • You will see a histogram of the ages.  \n",
        "hist(ages, breaks=boundaries) \n",
        "# • You will see a histogram similar to what we have in our notes."
      ]
    },
    {
      "cell_type": "markdown",
      "metadata": {
        "slideshow": {
          "slide_type": "slide"
        }
      },
      "source": [
        "**RELATIVE FREQUENCY HISTOGRAMS and LABELS **"
      ]
    },
    {
      "cell_type": "code",
      "execution_count": 18,
      "metadata": {
        "run_control": {
          "frozen": false,
          "marked": false,
          "read_only": false
        },
        "slideshow": {
          "slide_type": "subslide"
        },
        "trusted": false
      },
      "outputs": [
        {
          "data": {
            "image/png": "[encoded data removed]",
            "text/plain": [
              "Plot with title \"Histogram of ages\""
            ]
          },
          "metadata": {},
          "output_type": "display_data"
        }
      ],
      "source": [
        "hist(ages, prob=TRUE) \n",
        "# • You will see a relative frequency histogram of the ages.  \n",
        "# • The histogram you see is different from the one we have in our notes, \n",
        "# because relative frequencies correspond to areas here, not heights. Different \n",
        "# sources do the histograms differently. \n",
        "# • Here, “prob” means “probability that a randomly selected data value lies in \n",
        "# the class.” Probabilities are often related to relative frequencies. \n",
        "# • ‘TRUE’ can be abbreviated as ‘T’."
      ]
    },
    {
      "cell_type": "code",
      "execution_count": 19,
      "metadata": {
        "run_control": {
          "frozen": false,
          "marked": false,
          "read_only": false
        },
        "scrolled": true,
        "slideshow": {
          "slide_type": "subslide"
        },
        "trusted": false
      },
      "outputs": [
        {
          "data": {
            "image/png": "[encoded data removed]",
            "text/plain": [
              "Plot with title \"Relative frequency \n",
              "histogram\""
            ]
          },
          "metadata": {},
          "output_type": "display_data"
        }
      ],
      "source": [
        "hist(ages, breaks = boundaries, prob = T, main = \"Relative frequency \n",
        "histogram\", \n",
        "    ylab = \"Relative frequencies\")\n",
        "# • You will see a relative frequency histogram of the ages similar to what we \n",
        "# have in our notes, except that relative frequencies correspond to areas, not \n",
        "# heights. \n",
        "# • ‘main’ means “main title” here. \n",
        "# • ‘ylab’ means “label for y-axis.” \n",
        "# • ‘xlab’ means “label for x-axis.” We didn’t use that here. "
      ]
    },
    {
      "cell_type": "code",
      "execution_count": 20,
      "metadata": {
        "run_control": {
          "frozen": false,
          "read_only": false
        },
        "scrolled": true,
        "slideshow": {
          "slide_type": "slide"
        },
        "trusted": false
      },
      "outputs": [
        {
          "data": {
            "text/html": [
              "0.999999999965132"
            ],
            "text/latex": [
              "0.999999999965132"
            ],
            "text/markdown": [
              "0.999999999965132"
            ],
            "text/plain": [
              "[1] 1"
            ]
          },
          "metadata": {},
          "output_type": "display_data"
        },
        {
          "data": {
            "image/png": "[encoded data removed]",
            "text/plain": [
              "plot without title"
            ]
          },
          "metadata": {},
          "output_type": "display_data"
        }
      ],
      "source": [
        "n <- 1:20\n",
        "den <- dbinom(n, 20, 0.7)\n",
        "plot(den, ylab = \"Density\", xlab = \"Number of successes\")\n",
        "sum(den) "
      ]
    },
    {
      "cell_type": "markdown",
      "metadata": {
        "slideshow": {
          "slide_type": "slide"
        }
      },
      "source": [
        "## Frequency Tables Examples in pictures"
      ]
    },
    {
      "cell_type": "markdown",
      "metadata": {},
      "source": [
        "### For Categorical data"
      ]
    },
    {
      "cell_type": "markdown",
      "metadata": {},
      "source": [
        "![Imgur](https://i.imgur.com/eqCRnXX.png)"
      ]
    },
    {
      "cell_type": "markdown",
      "metadata": {},
      "source": [
        "### For Quantitative data"
      ]
    },
    {
      "cell_type": "markdown",
      "metadata": {
        "slideshow": {
          "slide_type": "slide"
        }
      },
      "source": [
        "![Imgur](https://i.imgur.com/4E6edLU.png?1)"
      ]
    },
    {
      "cell_type": "markdown",
      "metadata": {
        "slideshow": {
          "slide_type": "slide"
        }
      },
      "source": [
        "![Imgur](https://i.imgur.com/9nwOIJY.png)"
      ]
    },
    {
      "cell_type": "markdown",
      "metadata": {},
      "source": [
        "**Note:**  Its nothing but we are recoded the ***quantitative variable*** as ***ordinal categorical variables*** (however vice versa is not possible)\n",
        "![Imgur](https://i.imgur.com/RHeyIR6.png)"
      ]
    },
    {
      "cell_type": "markdown",
      "metadata": {
        "slideshow": {
          "slide_type": "slide"
        }
      },
      "source": [
        "![Imgur](https://i.imgur.com/JPs29Kg.png?1)"
      ]
    },
    {
      "cell_type": "markdown",
      "metadata": {
        "slideshow": {
          "slide_type": "slide"
        }
      },
      "source": [
        "## Construct Frequency and Contingency Tables/cross tables"
      ]
    },
    {
      "cell_type": "markdown",
      "metadata": {
        "slideshow": {
          "slide_type": "subslide"
        }
      },
      "source": [
        "https://archive.cnx.org/contents/c471a3e5-a0ec-47fb-a559-1802c7d827ec@1/frequency-and-contingency-tables-in-r  \n",
        "http://rstudio-pubs-static.s3.amazonaws.com/2277_404d9b623e0b4dcf9fe0927c38067813.html  "
      ]
    },
    {
      "cell_type": "markdown",
      "metadata": {
        "slideshow": {
          "slide_type": "slide"
        }
      },
      "source": [
        "<span style=\"color:red; font-family:Comic Sans MS\">References</span>"
      ]
    },
    {
      "cell_type": "markdown",
      "metadata": {
        "slideshow": {
          "slide_type": "fragment"
        }
      },
      "source": [
        "https://bit.ly/2HpksJ8  \n",
        "https://bit.ly/2vLLMMn  \n",
        "https://bit.ly/2xGhTZp  "
      ]
    },
    {
      "cell_type": "markdown",
      "metadata": {
        "slideshow": {
          "slide_type": "slide"
        }
      },
      "source": [
        "## Practice"
      ]
    },
    {
      "cell_type": "markdown",
      "metadata": {
        "slideshow": {
          "slide_type": "fragment"
        }
      },
      "source": [
        "http://www.statstutor.ac.uk/types/tests-and-quizzes/probability-distributions/  \n",
        "http://www.statstutor.ac.uk/types/tests-and-quizzes/probabilitymassfunction/  "
      ]
    },
    {
      "cell_type": "code",
      "execution_count": 1,
      "metadata": {
        "trusted": false
      },
      "outputs": [
        {
          "name": "stderr",
          "output_type": "stream",
          "text": [
            "Warning message:\n",
            "\"package 'dplyr' was built under R version 3.6.3\"\n",
            "Attaching package: 'dplyr'\n",
            "\n",
            "The following objects are masked from 'package:stats':\n",
            "\n",
            "    filter, lag\n",
            "\n",
            "The following objects are masked from 'package:base':\n",
            "\n",
            "    intersect, setdiff, setequal, union\n",
            "\n"
          ]
        }
      ],
      "source": [
        "library(dplyr)"
      ]
    },
    {
      "cell_type": "code",
      "execution_count": 5,
      "metadata": {},
      "outputs": [
        {
          "data": {
            "text/html": [
              "<table>\n",
              "<thead><tr><th></th><th scope=col>mpg</th><th scope=col>cyl</th><th scope=col>disp</th><th scope=col>hp</th><th scope=col>drat</th><th scope=col>wt</th><th scope=col>qsec</th><th scope=col>vs</th><th scope=col>am</th><th scope=col>gear</th><th scope=col>carb</th></tr></thead>\n",
              "<tbody>\n",
              "\t<tr><th scope=row>Mazda RX4</th><td>21.0 </td><td>6    </td><td>160  </td><td>110  </td><td>3.90 </td><td>2.620</td><td>16.46</td><td>0    </td><td>1    </td><td>4    </td><td>4    </td></tr>\n",
              "\t<tr><th scope=row>Mazda RX4 Wag</th><td>21.0 </td><td>6    </td><td>160  </td><td>110  </td><td>3.90 </td><td>2.875</td><td>17.02</td><td>0    </td><td>1    </td><td>4    </td><td>4    </td></tr>\n",
              "\t<tr><th scope=row>Datsun 710</th><td>22.8 </td><td>4    </td><td>108  </td><td> 93  </td><td>3.85 </td><td>2.320</td><td>18.61</td><td>1    </td><td>1    </td><td>4    </td><td>1    </td></tr>\n",
              "\t<tr><th scope=row>Hornet 4 Drive</th><td>21.4 </td><td>6    </td><td>258  </td><td>110  </td><td>3.08 </td><td>3.215</td><td>19.44</td><td>1    </td><td>0    </td><td>3    </td><td>1    </td></tr>\n",
              "\t<tr><th scope=row>Hornet Sportabout</th><td>18.7 </td><td>8    </td><td>360  </td><td>175  </td><td>3.15 </td><td>3.440</td><td>17.02</td><td>0    </td><td>0    </td><td>3    </td><td>2    </td></tr>\n",
              "\t<tr><th scope=row>Valiant</th><td>18.1 </td><td>6    </td><td>225  </td><td>105  </td><td>2.76 </td><td>3.460</td><td>20.22</td><td>1    </td><td>0    </td><td>3    </td><td>1    </td></tr>\n",
              "</tbody>\n",
              "</table>\n"
            ],
            "text/latex": [
              "\\begin{tabular}{r|lllllllllll}\n",
              "  & mpg & cyl & disp & hp & drat & wt & qsec & vs & am & gear & carb\\\\\n",
              "\\hline\n",
              "\tMazda RX4 & 21.0  & 6     & 160   & 110   & 3.90  & 2.620 & 16.46 & 0     & 1     & 4     & 4    \\\\\n",
              "\tMazda RX4 Wag & 21.0  & 6     & 160   & 110   & 3.90  & 2.875 & 17.02 & 0     & 1     & 4     & 4    \\\\\n",
              "\tDatsun 710 & 22.8  & 4     & 108   &  93   & 3.85  & 2.320 & 18.61 & 1     & 1     & 4     & 1    \\\\\n",
              "\tHornet 4 Drive & 21.4  & 6     & 258   & 110   & 3.08  & 3.215 & 19.44 & 1     & 0     & 3     & 1    \\\\\n",
              "\tHornet Sportabout & 18.7  & 8     & 360   & 175   & 3.15  & 3.440 & 17.02 & 0     & 0     & 3     & 2    \\\\\n",
              "\tValiant & 18.1  & 6     & 225   & 105   & 2.76  & 3.460 & 20.22 & 1     & 0     & 3     & 1    \\\\\n",
              "\\end{tabular}\n"
            ],
            "text/markdown": [
              "\n",
              "| <!--/--> | mpg | cyl | disp | hp | drat | wt | qsec | vs | am | gear | carb |\n",
              "|---|---|---|---|---|---|---|---|---|---|---|---|\n",
              "| Mazda RX4 | 21.0  | 6     | 160   | 110   | 3.90  | 2.620 | 16.46 | 0     | 1     | 4     | 4     |\n",
              "| Mazda RX4 Wag | 21.0  | 6     | 160   | 110   | 3.90  | 2.875 | 17.02 | 0     | 1     | 4     | 4     |\n",
              "| Datsun 710 | 22.8  | 4     | 108   |  93   | 3.85  | 2.320 | 18.61 | 1     | 1     | 4     | 1     |\n",
              "| Hornet 4 Drive | 21.4  | 6     | 258   | 110   | 3.08  | 3.215 | 19.44 | 1     | 0     | 3     | 1     |\n",
              "| Hornet Sportabout | 18.7  | 8     | 360   | 175   | 3.15  | 3.440 | 17.02 | 0     | 0     | 3     | 2     |\n",
              "| Valiant | 18.1  | 6     | 225   | 105   | 2.76  | 3.460 | 20.22 | 1     | 0     | 3     | 1     |\n",
              "\n"
            ],
            "text/plain": [
              "                  mpg  cyl disp hp  drat wt    qsec  vs am gear carb\n",
              "Mazda RX4         21.0 6   160  110 3.90 2.620 16.46 0  1  4    4   \n",
              "Mazda RX4 Wag     21.0 6   160  110 3.90 2.875 17.02 0  1  4    4   \n",
              "Datsun 710        22.8 4   108   93 3.85 2.320 18.61 1  1  4    1   \n",
              "Hornet 4 Drive    21.4 6   258  110 3.08 3.215 19.44 1  0  3    1   \n",
              "Hornet Sportabout 18.7 8   360  175 3.15 3.440 17.02 0  0  3    2   \n",
              "Valiant           18.1 6   225  105 2.76 3.460 20.22 1  0  3    1   "
            ]
          },
          "metadata": {},
          "output_type": "display_data"
        }
      ],
      "source": [
        "head(mtcars)"
      ]
    }
  ],
  "metadata": {
    "celltoolbar": "Slideshow",
    "hide_input": false,
    "kernelspec": {
      "display_name": "R",
      "language": "R",
      "name": "python388jvsc74a57bd0485035c5b2a6f2b50dc2dc5ca51aeeb931032fbc9adc2e30c7c528d6bf8a9176"
    },
    "language_info": {
      "codemirror_mode": "r",
      "file_extension": ".r",
      "mimetype": "text/x-r-source",
      "name": "R",
      "pygments_lexer": "r",
      "version": "3.6.1"
    },
    "nav_menu": {},
    "toc": {
      "base_numbering": 1,
      "nav_menu": {},
      "number_sections": false,
      "sideBar": true,
      "skip_h1_title": true,
      "title_cell": "Table of Contents",
      "title_sidebar": "Contents",
      "toc_cell": true,
      "toc_position": {},
      "toc_section_display": "block",
      "toc_window_display": false
    }
  },
  "nbformat": 4,
  "nbformat_minor": 2
}
