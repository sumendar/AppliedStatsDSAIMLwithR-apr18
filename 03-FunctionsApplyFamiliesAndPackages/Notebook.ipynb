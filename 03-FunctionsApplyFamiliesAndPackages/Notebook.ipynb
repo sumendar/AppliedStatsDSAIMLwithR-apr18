{
 "cells": [
  {
   "cell_type": "markdown",
   "metadata": {
    "slideshow": {
     "slide_type": "slide"
    },
    "toc": "true"
   },
   "source": [
    "<h1>Table of Contents<span class=\"tocSkip\"></span></h1>\n",
    "<div class=\"toc\"><ul class=\"toc-item\"><li><span><a href=\"#Built-in-Functions\" data-toc-modified-id=\"Built-in-Functions-1\">Built-in Functions</a></span></li><li><span><a href=\"#User-Defined-Functions\" data-toc-modified-id=\"User-Defined-Functions-2\">User Defined Functions</a></span><ul class=\"toc-item\"><li><span><a href=\"#Objects-&amp;-Functions\" data-toc-modified-id=\"Objects-&amp;-Functions-2.1\">Objects &amp; Functions</a></span></li><li><span><a href=\"#Default-Arguments\" data-toc-modified-id=\"Default-Arguments-2.2\">Default Arguments</a></span></li><li><span><a href=\"#partial-matching\" data-toc-modified-id=\"partial-matching-2.3\">partial matching</a></span></li><li><span><a href=\"#Automatic-Returns\" data-toc-modified-id=\"Automatic-Returns-2.4\">Automatic Returns</a></span></li><li><span><a href=\"#Named-Arguments\" data-toc-modified-id=\"Named-Arguments-2.5\">Named Arguments</a></span></li><li><span><a href=\"#Functions-in-R-are\" data-toc-modified-id=\"Functions-in-R-are-2.6\">Functions in R are</a></span></li><li><span><a href=\"#Lazy-evaluation\" data-toc-modified-id=\"Lazy-evaluation-2.7\">Lazy evaluation</a></span></li><li><span><a href=\"#elipses-or-three-dots-(...)\" data-toc-modified-id=\"elipses-or-three-dots-(...)-2.8\">elipses or three dots (<code>...</code>)</a></span></li><li><span><a href=\"#Anonymous-(nameless)-functions-AND-named-functions\" data-toc-modified-id=\"Anonymous-(nameless)-functions-AND-named-functions-2.9\">Anonymous (nameless) functions AND named functions</a></span></li><li><span><a href=\"#Local-variable:-by-value\" data-toc-modified-id=\"Local-variable:-by-value-2.10\">Local variable: by value</a></span></li><li><span><a href=\"#Scope-of-Variables\" data-toc-modified-id=\"Scope-of-Variables-2.11\">Scope of Variables</a></span></li><li><span><a href=\"#lexical-scoping\" data-toc-modified-id=\"lexical-scoping-2.12\">lexical scoping</a></span></li><li><span><a href=\"#global-assignment(<<-)-of-variable-insind-a-function\" data-toc-modified-id=\"global-assignment(<<-)-of-variable-insind-a-function-2.13\">global assignment(<code>&lt;&lt;-</code>) of variable insind a function</a></span></li></ul></li><li><span><a href=\"#Best-way-to-use-functions\" data-toc-modified-id=\"Best-way-to-use-functions-3\">Best way to use functions</a></span></li><li><span><a href=\"#Apply-Family-of-Functions\" data-toc-modified-id=\"Apply-Family-of-Functions-4\">Apply Family of Functions</a></span><ul class=\"toc-item\"><li><span><a href=\"#apply\" data-toc-modified-id=\"apply-4.1\">apply</a></span></li><li><span><a href=\"#lapply\" data-toc-modified-id=\"lapply-4.2\">lapply</a></span></li><li><span><a href=\"#saplly\" data-toc-modified-id=\"saplly-4.3\">saplly</a></span></li><li><span><a href=\"#taplly\" data-toc-modified-id=\"taplly-4.4\">taplly</a></span></li><li><span><a href=\"#aggregate\" data-toc-modified-id=\"aggregate-4.5\">aggregate</a></span></li><li><span><a href=\"#Difference-between-how-apply-and-sapply-handles-the-data\" data-toc-modified-id=\"Difference-between-how-apply-and-sapply-handles-the-data-4.6\">Difference between how apply and sapply handles the data</a></span></li><li><span><a href=\"#mapply\" data-toc-modified-id=\"mapply-4.7\">mapply</a></span></li><li><span><a href=\"#do.call\" data-toc-modified-id=\"do.call-4.8\">do.call</a></span></li><li><span><a href=\"#by\" data-toc-modified-id=\"by-4.9\">by</a></span></li></ul></li><li><span><a href=\"#Other-functions-(miscellaneous)\" data-toc-modified-id=\"Other-functions-(miscellaneous)-5\">Other functions (miscellaneous)</a></span><ul class=\"toc-item\"><li><span><a href=\"#with()\" data-toc-modified-id=\"with()-5.1\"><code>with()</code></a></span></li><li><span><a href=\"#attach()\" data-toc-modified-id=\"attach()-5.2\"><code>attach()</code></a></span></li><li><span><a href=\"#library(ggplot2)-Vs-require(ggplot2)\" data-toc-modified-id=\"library(ggplot2)-Vs-require(ggplot2)-5.3\"><code>library(ggplot2)</code> Vs <code>require(ggplot2)</code></a></span></li><li><span><a href=\"#which()\" data-toc-modified-id=\"which()-5.4\"><code>which()</code></a></span></li><li><span><a href=\"#match()\" data-toc-modified-id=\"match()-5.5\"><code>match()</code></a></span></li><li><span><a href=\"#grep()\" data-toc-modified-id=\"grep()-5.6\"><code>grep()</code></a></span></li></ul></li><li><span><a href=\"#Object-Oriented-Concepts-(Advanced)\" data-toc-modified-id=\"Object-Oriented-Concepts-(Advanced)-6\">Object Oriented Concepts (Advanced)</a></span><ul class=\"toc-item\"><li><span><a href=\"#S3-Classes-and-methods\" data-toc-modified-id=\"S3-Classes-and-methods-6.1\">S3 Classes and methods</a></span><ul class=\"toc-item\"><li><span><a href=\"#S3-function-overloading\" data-toc-modified-id=\"S3-function-overloading-6.1.1\">S3 function overloading</a></span></li></ul></li><li><span><a href=\"#S4-Classes-and-methods\" data-toc-modified-id=\"S4-Classes-and-methods-6.2\">S4 Classes and methods</a></span></li></ul></li><li><span><a href=\"#Google's-R-Style-Guide\" data-toc-modified-id=\"Google's-R-Style-Guide-7\">Google's R Style Guide</a></span></li></ul></div>"
   ]
  },
  {
   "cell_type": "markdown",
   "metadata": {
    "slideshow": {
     "slide_type": "slide"
    }
   },
   "source": [
    "**Functions**  \n",
    "> Functions can be described as ”black boxes” that take an input and spit out an output\n"
   ]
  },
  {
   "cell_type": "markdown",
   "metadata": {
    "slideshow": {
     "slide_type": "slide"
    }
   },
   "source": [
    "## Built-in Functions\n",
    "used by the user to make their work easier. Eg: mean(x), sum(x) ,sqrt(x),toupper(x), etc."
   ]
  },
  {
   "cell_type": "markdown",
   "metadata": {
    "slideshow": {
     "slide_type": "subslide"
    }
   },
   "source": [
    "| Function           | Description                                                                                                                 |\n",
    "|--------------------|-----------------------------------------------------------------------------------------------------------------------------|\n",
    "| abs(x)             | absolute value                                                                                                              |\n",
    "| sqrt(x)            | square root                                                                                                                 |\n",
    "| ceiling(x)         | ceiling(3.475) is 4                                                                                                         |\n",
    "| trunc(x)           | trunc(5.99) is 5                                                                                                            |\n",
    "| round(x, digits=n) | round(3.475, digits=2) is 3.48                                                                                              |\n",
    "| log(x)             | natural logarithm                                                                                                           |\n",
    "| log10(x)           | common logarithm                                                                                                            |\n",
    "| exp(x)             | e^x                                                                                                                         |\n",
    "| strsplit(x, split) | Split the elements of character vector x at split.strsplit(\"abc\", \"\") returns 3 element vector \"a\",\"b\",\"c\"                  |\n",
    "| paste(..., sep=\"\") | paste(\"x\",1:3,sep=\"\") returns c(\"x1\",\"x2\" \"x3\")paste(\"x\",1:3,sep=\"M\") returns c(\"xM1\",\"xM2\" \"xM3\")paste(\"Today is\", date()) |\n",
    "| toupper(x)         | Uppercase                                                                                                                   |\n",
    "| tolower(x)         | Lowercase                                                                                                                   |\n"
   ]
  },
  {
   "cell_type": "markdown",
   "metadata": {
    "slideshow": {
     "slide_type": "subslide"
    }
   },
   "source": [
    "[some useful functions per category](http://www.sr.bham.ac.uk/~ajrs/R/r-function_list.html#general)  \n",
    "[goto **All Functions List** tab from Endmemo](http://www.endmemo.com/program/R/abs.php)  \n",
    "[A short list of the most useful R commands](http://www.personality-project.org/r/r.commands.html)  "
   ]
  },
  {
   "cell_type": "markdown",
   "metadata": {
    "slideshow": {
     "slide_type": "slide"
    }
   },
   "source": [
    "## User Defined Functions"
   ]
  },
  {
   "cell_type": "markdown",
   "metadata": {
    "slideshow": {
     "slide_type": "slide"
    }
   },
   "source": [
    "Sets of instructions that you want to use repeatedly, it is a piece of code written to carry out a specified task, these functions are created by the user to meet a specific requirement of the user.    \n",
    "\n",
    "* Function Name \n",
    "* Arguments\n",
    "* Function Body \n",
    "* Return Value "
   ]
  },
  {
   "cell_type": "markdown",
   "metadata": {
    "slideshow": {
     "slide_type": "slide"
    }
   },
   "source": [
    "### Objects & Functions\n",
    "**To understand in R two slogans are helpful:**\n",
    "> 1. Everything that exists is an **object**\n",
    "> 2. Everything that happens is a **function** call\n"
   ]
  },
  {
   "cell_type": "markdown",
   "metadata": {
    "slideshow": {
     "slide_type": "subslide"
    }
   },
   "source": [
    "**syntax**\n",
    "\n",
    "```\n",
    "function_name <–function(arg_1, arg_2, …) { \n",
    "\n",
    "//Function body \n",
    "\n",
    "}\n",
    "```\n"
   ]
  },
  {
   "cell_type": "markdown",
   "metadata": {
    "slideshow": {
     "slide_type": "slide"
    }
   },
   "source": [
    "**Example1:**"
   ]
  },
  {
   "cell_type": "code",
   "execution_count": 155,
   "metadata": {
    "run_control": {
     "frozen": false,
     "read_only": false
    },
    "slideshow": {
     "slide_type": "subslide"
    }
   },
   "outputs": [],
   "source": [
    "# the sum of the squares of 2 numbers\n",
    "sum_of_squares <- function(x,y) {\n",
    "x^2 + y^2\n",
    "}"
   ]
  },
  {
   "cell_type": "code",
   "execution_count": 156,
   "metadata": {
    "run_control": {
     "frozen": false,
     "read_only": false
    },
    "slideshow": {
     "slide_type": "subslide"
    }
   },
   "outputs": [
    {
     "data": {
      "text/html": [
       "25"
      ],
      "text/latex": [
       "25"
      ],
      "text/markdown": [
       "25"
      ],
      "text/plain": [
       "[1] 25"
      ]
     },
     "metadata": {},
     "output_type": "display_data"
    }
   ],
   "source": [
    "sum_of_squares(3,4)"
   ]
  },
  {
   "cell_type": "markdown",
   "metadata": {
    "slideshow": {
     "slide_type": "slide"
    }
   },
   "source": [
    "**Example2:**"
   ]
  },
  {
   "cell_type": "code",
   "execution_count": 157,
   "metadata": {
    "run_control": {
     "frozen": false,
     "read_only": false
    },
    "slideshow": {
     "slide_type": "subslide"
    }
   },
   "outputs": [],
   "source": [
    "pow <- function(x, y) {\n",
    "   # function to print x raised to the power y\n",
    "\n",
    "   result <- x^y\n",
    "   print(paste(x,\"raised to the power\", y, \"is\", result))\n",
    "}"
   ]
  },
  {
   "cell_type": "markdown",
   "metadata": {
    "slideshow": {
     "slide_type": "slide"
    }
   },
   "source": [
    "### Default Arguments"
   ]
  },
  {
   "cell_type": "code",
   "execution_count": 158,
   "metadata": {
    "run_control": {
     "frozen": false,
     "read_only": false
    },
    "slideshow": {
     "slide_type": "subslide"
    }
   },
   "outputs": [
    {
     "name": "stdout",
     "output_type": "stream",
     "text": [
      "[1] 18\n",
      "[1] 45\n"
     ]
    }
   ],
   "source": [
    "# Create a function with arguments.\n",
    "new.function <- function(a = 3, b = 6) {\n",
    "   result <- a * b\n",
    "   print(result)\n",
    "}\n",
    "\n",
    "# Call the function without giving any argument.\n",
    "new.function()\n",
    "\n",
    "# Call the function with giving new values of the argument.\n",
    "new.function(9,5)"
   ]
  },
  {
   "cell_type": "code",
   "execution_count": 159,
   "metadata": {
    "run_control": {
     "frozen": false,
     "read_only": false
    },
    "slideshow": {
     "slide_type": "subslide"
    }
   },
   "outputs": [
    {
     "data": {
      "text/html": [
       "8"
      ],
      "text/latex": [
       "8"
      ],
      "text/markdown": [
       "8"
      ],
      "text/plain": [
       "[1] 8"
      ]
     },
     "metadata": {},
     "output_type": "display_data"
    },
    {
     "data": {
      "text/html": [
       "4"
      ],
      "text/latex": [
       "4"
      ],
      "text/markdown": [
       "4"
      ],
      "text/plain": [
       "[1] 4"
      ]
     },
     "metadata": {},
     "output_type": "display_data"
    }
   ],
   "source": [
    "# Define the function and specify the exponent, second argument directly\n",
    "# Sets default of exponent to 2 (just square)\n",
    "MyThirdFun <- function(n, y = 2) \n",
    "{\n",
    "  # Compute the power of n to the y\n",
    "  n^y  \n",
    "}\n",
    "\n",
    "# Specify both args\n",
    "MyThirdFun(2,3) \n",
    "\n",
    "# Just specify the first arg\n",
    "MyThirdFun(2)   \n",
    "\n",
    "# Specify no argument: error!\n",
    "# MyThirdFun()    "
   ]
  },
  {
   "cell_type": "markdown",
   "metadata": {},
   "source": [
    "### partial matching"
   ]
  },
  {
   "cell_type": "code",
   "execution_count": null,
   "metadata": {},
   "outputs": [],
   "source": [
    "?round"
   ]
  },
  {
   "cell_type": "code",
   "execution_count": 2,
   "metadata": {
    "scrolled": true
   },
   "outputs": [
    {
     "name": "stdout",
     "output_type": "stream",
     "text": [
      "[1] 9.52\n",
      "[1] 9.52\n",
      "[1] 9.52\n"
     ]
    }
   ],
   "source": [
    "print(round(9.523, d=2))\n",
    "print(round(9.523, di=2))\n",
    "print(round(9.523, dig=2))"
   ]
  },
  {
   "cell_type": "code",
   "execution_count": 4,
   "metadata": {},
   "outputs": [],
   "source": [
    "testFun <- function(axb, bcd = 1, axdk) {\n",
    " return(axb + axdk)\n",
    " }"
   ]
  },
  {
   "cell_type": "markdown",
   "metadata": {
    "run_control": {
     "marked": false
    }
   },
   "source": [
    "`testFun(ax=2,ax=3)\n",
    "Error in testFun(ax = 2, ax = 3): formal argument \"axb\" matched by multiple actual arguments\n",
    "Traceback:`"
   ]
  },
  {
   "cell_type": "code",
   "execution_count": 11,
   "metadata": {},
   "outputs": [
    {
     "data": {
      "text/html": [
       "5"
      ],
      "text/latex": [
       "5"
      ],
      "text/markdown": [
       "5"
      ],
      "text/plain": [
       "[1] 5"
      ]
     },
     "metadata": {},
     "output_type": "display_data"
    }
   ],
   "source": [
    "testFun(axb=2,ax = 3)"
   ]
  },
  {
   "cell_type": "markdown",
   "metadata": {
    "slideshow": {
     "slide_type": "slide"
    }
   },
   "source": [
    "### Automatic Returns\n",
    "* In R, it is not necessary to include the return statement. R automatically returns whichever variable is on the last line of the body of the function.\n",
    "* OR we can explicitly define the return statement."
   ]
  },
  {
   "cell_type": "code",
   "execution_count": 160,
   "metadata": {
    "run_control": {
     "frozen": false,
     "read_only": false
    },
    "slideshow": {
     "slide_type": "subslide"
    }
   },
   "outputs": [
    {
     "data": {
      "text/html": [
       "7"
      ],
      "text/latex": [
       "7"
      ],
      "text/markdown": [
       "7"
      ],
      "text/plain": [
       "[1] 7"
      ]
     },
     "metadata": {},
     "output_type": "display_data"
    }
   ],
   "source": [
    "add <- function(x,y=1,z=2){\n",
    "    x+y\n",
    "    x+z\n",
    "}\n",
    "add(5)    "
   ]
  },
  {
   "cell_type": "code",
   "execution_count": 161,
   "metadata": {
    "run_control": {
     "frozen": false,
     "read_only": false
    },
    "slideshow": {
     "slide_type": "subslide"
    }
   },
   "outputs": [
    {
     "data": {
      "text/html": [
       "6"
      ],
      "text/latex": [
       "6"
      ],
      "text/markdown": [
       "6"
      ],
      "text/plain": [
       "[1] 6"
      ]
     },
     "metadata": {},
     "output_type": "display_data"
    }
   ],
   "source": [
    "add <- function(x,y=1,z=2){\n",
    "    x+y\n",
    "    x+z\n",
    "    return(x+y)\n",
    "}\n",
    "add(5)    "
   ]
  },
  {
   "cell_type": "code",
   "execution_count": 162,
   "metadata": {
    "run_control": {
     "frozen": false,
     "read_only": false
    },
    "slideshow": {
     "slide_type": "subslide"
    }
   },
   "outputs": [],
   "source": [
    "fahr_to_kelvin <- function(temp) {\n",
    "  kelvin <- ((temp - 32) * (5 / 9)) + 273.15\n",
    "  return(kelvin)\n",
    "}\n",
    "\n"
   ]
  },
  {
   "cell_type": "code",
   "execution_count": 163,
   "metadata": {
    "run_control": {
     "frozen": false,
     "read_only": false
    },
    "slideshow": {
     "slide_type": "subslide"
    }
   },
   "outputs": [
    {
     "data": {
      "text/html": [
       "273.15"
      ],
      "text/latex": [
       "273.15"
      ],
      "text/markdown": [
       "273.15"
      ],
      "text/plain": [
       "[1] 273.15"
      ]
     },
     "metadata": {},
     "output_type": "display_data"
    },
    {
     "data": {
      "text/html": [
       "373.15"
      ],
      "text/latex": [
       "373.15"
      ],
      "text/markdown": [
       "373.15"
      ],
      "text/plain": [
       "[1] 373.15"
      ]
     },
     "metadata": {},
     "output_type": "display_data"
    }
   ],
   "source": [
    "# freezing point of water\n",
    "fahr_to_kelvin(32)\n",
    "# boiling point of water\n",
    "fahr_to_kelvin(212)"
   ]
  },
  {
   "cell_type": "markdown",
   "metadata": {
    "slideshow": {
     "slide_type": "slide"
    }
   },
   "source": [
    "### Named Arguments"
   ]
  },
  {
   "cell_type": "code",
   "execution_count": 164,
   "metadata": {
    "run_control": {
     "frozen": false,
     "read_only": false
    },
    "slideshow": {
     "slide_type": "subslide"
    }
   },
   "outputs": [],
   "source": [
    "pow <- function(x, y) {\n",
    "   # function to print x raised to the power y\n",
    "\n",
    "   result <- x^y\n",
    "   print(paste(x,\"raised to the power\", y, \"is\", result))\n",
    "}"
   ]
  },
  {
   "cell_type": "code",
   "execution_count": 165,
   "metadata": {
    "run_control": {
     "frozen": false,
     "read_only": false
    },
    "slideshow": {
     "slide_type": "subslide"
    }
   },
   "outputs": [
    {
     "name": "stdout",
     "output_type": "stream",
     "text": [
      "[1] \"8 raised to the power 2 is 64\"\n",
      "[1] \"8 raised to the power 2 is 64\"\n",
      "[1] \"8 raised to the power 2 is 64\"\n"
     ]
    }
   ],
   "source": [
    "# 8 raised to the power 2 is 64\n",
    "pow(8, 2)\n",
    "# 8 raised to the power 2 is 64\n",
    "pow(x = 8, y = 2)\n",
    "# 8 raised to the power 2 is 64\n",
    "pow(y = 2, x = 8)"
   ]
  },
  {
   "cell_type": "markdown",
   "metadata": {
    "slideshow": {
     "slide_type": "slide"
    }
   },
   "source": [
    "### Functions in R are \n",
    "**first class objects**  \n",
    "1. can be treated as much like any other objects\n",
    "2. Can be passed as arguments to othre functions\n",
    "3. Can be nested so that you can define a function in another function\n",
    "4. Return value is the last expression in the function body"
   ]
  },
  {
   "cell_type": "markdown",
   "metadata": {
    "slideshow": {
     "slide_type": "slide"
    }
   },
   "source": [
    "### Lazy evaluation\n",
    "* Materalize only when necessary\n",
    "* Data is not loaded until its needed\n",
    "* increase spped & saving computaions"
   ]
  },
  {
   "cell_type": "code",
   "execution_count": 166,
   "metadata": {
    "run_control": {
     "frozen": false,
     "read_only": false
    },
    "slideshow": {
     "slide_type": "subslide"
    }
   },
   "outputs": [
    {
     "data": {
      "text/html": [
       "4"
      ],
      "text/latex": [
       "4"
      ],
      "text/markdown": [
       "4"
      ],
      "text/plain": [
       "[1] 4"
      ]
     },
     "metadata": {},
     "output_type": "display_data"
    }
   ],
   "source": [
    "fun <- function(a,b){\n",
    "    a^2\n",
    "}\n",
    "fun(2,x/0)"
   ]
  },
  {
   "cell_type": "code",
   "execution_count": 167,
   "metadata": {
    "run_control": {
     "frozen": false,
     "read_only": false
    },
    "slideshow": {
     "slide_type": "subslide"
    }
   },
   "outputs": [
    {
     "data": {
      "text/html": [
       "10"
      ],
      "text/latex": [
       "10"
      ],
      "text/markdown": [
       "10"
      ],
      "text/plain": [
       "[1] 10"
      ]
     },
     "metadata": {},
     "output_type": "display_data"
    }
   ],
   "source": [
    "fun <- function(x){\n",
    "    10\n",
    "}\n",
    "fun(\"hello\")"
   ]
  },
  {
   "cell_type": "markdown",
   "metadata": {
    "slideshow": {
     "slide_type": "slide"
    }
   },
   "source": [
    "### elipses or three dots (`...`)\n",
    "* which is especially useful for creating customized versions of existing functions or in providing additional options to end-users.\n",
    "* Pass arguments to another function\n",
    "* These three dots (an ellipsis) act as a placeholder for any extra arguments given to the function\n",
    "* take any number of named or unnamed arguments "
   ]
  },
  {
   "cell_type": "code",
   "execution_count": 9,
   "metadata": {},
   "outputs": [
    {
     "data": {
      "text/html": [
       "<ol class=list-inline>\n",
       "\t<li>'how'</li>\n",
       "\t<li>'is'</li>\n",
       "\t<li>'your'</li>\n",
       "\t<li>'health'</li>\n",
       "</ol>\n"
      ],
      "text/latex": [
       "\\begin{enumerate*}\n",
       "\\item 'how'\n",
       "\\item 'is'\n",
       "\\item 'your'\n",
       "\\item 'health'\n",
       "\\end{enumerate*}\n"
      ],
      "text/markdown": [
       "1. 'how'\n",
       "2. 'is'\n",
       "3. 'your'\n",
       "4. 'health'\n",
       "\n",
       "\n"
      ],
      "text/plain": [
       "[1] \"how\"    \"is\"     \"your\"   \"health\""
      ]
     },
     "metadata": {},
     "output_type": "display_data"
    }
   ],
   "source": [
    "# example to write the function using three dots \n",
    "\n",
    "printDots <- function(...) {\n",
    "  myDots <- list(...)\n",
    "  paste(myDots)\n",
    "}\n",
    " \n",
    "printDots(\"how\", \"is\", \"your\", \"health\")"
   ]
  },
  {
   "cell_type": "markdown",
   "metadata": {
    "slideshow": {
     "slide_type": "slide"
    }
   },
   "source": [
    "### Anonymous (nameless) functions AND named functions"
   ]
  },
  {
   "cell_type": "code",
   "execution_count": 168,
   "metadata": {
    "run_control": {
     "frozen": false,
     "read_only": false
    },
    "slideshow": {
     "slide_type": "subslide"
    }
   },
   "outputs": [
    {
     "data": {
      "text/html": [
       "50"
      ],
      "text/latex": [
       "50"
      ],
      "text/markdown": [
       "50"
      ],
      "text/plain": [
       "[1] 50"
      ]
     },
     "metadata": {},
     "output_type": "display_data"
    }
   ],
   "source": [
    "# Anonymous\n",
    "(function(x) x*10)(5) #"
   ]
  },
  {
   "cell_type": "code",
   "execution_count": 169,
   "metadata": {
    "run_control": {
     "frozen": false,
     "read_only": false
    },
    "slideshow": {
     "slide_type": "subslide"
    }
   },
   "outputs": [
    {
     "data": {
      "text/html": [
       "60"
      ],
      "text/latex": [
       "60"
      ],
      "text/markdown": [
       "60"
      ],
      "text/plain": [
       "[1] 60"
      ]
     },
     "metadata": {},
     "output_type": "display_data"
    }
   ],
   "source": [
    "# named function define\n",
    "named <- function(x) x*10\n",
    "# calling a named function\n",
    "    named(6)"
   ]
  },
  {
   "cell_type": "markdown",
   "metadata": {
    "slideshow": {
     "slide_type": "slide"
    }
   },
   "source": [
    "### Local variable: by value"
   ]
  },
  {
   "cell_type": "code",
   "execution_count": 7,
   "metadata": {
    "run_control": {
     "frozen": false,
     "read_only": false
    },
    "scrolled": true,
    "slideshow": {
     "slide_type": "subslide"
    }
   },
   "outputs": [
    {
     "name": "stdout",
     "output_type": "stream",
     "text": [
      "[1] 2\n",
      "[1] 5\n"
     ]
    }
   ],
   "source": [
    "#### Local variable: by value\n",
    "\n",
    "x <- 5 # global assignment of x is not used by the fun\n",
    "fun <- function(x){\n",
    "    #parameter x is passed by value (copy)\n",
    "    x <- x+1 # local variable is modified\n",
    "    print(x)\n",
    "}\n",
    "\n",
    "fun(1) # prints \n",
    "print(x) # print 5, since global x has not changed"
   ]
  },
  {
   "cell_type": "markdown",
   "metadata": {
    "slideshow": {
     "slide_type": "slide"
    }
   },
   "source": [
    "### Scope of Variables\n",
    "* Functions can accept arguments explicitly assigned to a variable name in in the function call `functionName(variable = value)`, as well as arguments by order:"
   ]
  },
  {
   "cell_type": "code",
   "execution_count": 4,
   "metadata": {
    "run_control": {
     "frozen": false,
     "read_only": false
    },
    "slideshow": {
     "slide_type": "subslide"
    }
   },
   "outputs": [],
   "source": [
    "input_1 = 20\n",
    "mySum <- function(input_1, input_2 = 10) {\n",
    "  output <- input_1 + input_2\n",
    "  return(output)\n",
    "}"
   ]
  },
  {
   "cell_type": "code",
   "execution_count": 5,
   "metadata": {
    "run_control": {
     "frozen": false,
     "read_only": false
    },
    "slideshow": {
     "slide_type": "subslide"
    }
   },
   "outputs": [
    {
     "data": {
      "text/html": [
       "4"
      ],
      "text/latex": [
       "4"
      ],
      "text/markdown": [
       "4"
      ],
      "text/plain": [
       "[1] 4"
      ]
     },
     "metadata": {},
     "output_type": "display_data"
    }
   ],
   "source": [
    "mySum(input_1 = 1, 3)"
   ]
  },
  {
   "cell_type": "code",
   "execution_count": 6,
   "metadata": {
    "run_control": {
     "frozen": false,
     "read_only": false
    },
    "slideshow": {
     "slide_type": "subslide"
    }
   },
   "outputs": [
    {
     "data": {
      "text/html": [
       "13"
      ],
      "text/latex": [
       "13"
      ],
      "text/markdown": [
       "13"
      ],
      "text/plain": [
       "[1] 13"
      ]
     },
     "metadata": {},
     "output_type": "display_data"
    }
   ],
   "source": [
    "mySum(3)"
   ]
  },
  {
   "cell_type": "markdown",
   "metadata": {
    "run_control": {
     "frozen": false,
     "read_only": false
    },
    "scrolled": false,
    "slideshow": {
     "slide_type": "slide"
    }
   },
   "source": [
    "### lexical scoping"
   ]
  },
  {
   "cell_type": "markdown",
   "metadata": {
    "slideshow": {
     "slide_type": "slide"
    }
   },
   "source": [
    "### global assignment(`<<-`) of variable insind a function"
   ]
  },
  {
   "cell_type": "code",
   "execution_count": 1,
   "metadata": {
    "run_control": {
     "frozen": false,
     "read_only": false
    },
    "slideshow": {
     "slide_type": "subslide"
    }
   },
   "outputs": [
    {
     "name": "stdout",
     "output_type": "stream",
     "text": [
      "[1] 20\n"
     ]
    },
    {
     "data": {
      "text/html": [
       "25"
      ],
      "text/latex": [
       "25"
      ],
      "text/markdown": [
       "25"
      ],
      "text/plain": [
       "[1] 25"
      ]
     },
     "metadata": {},
     "output_type": "display_data"
    },
    {
     "name": "stdout",
     "output_type": "stream",
     "text": [
      "[1] 25\n"
     ]
    }
   ],
   "source": [
    "input_1 = 20\n",
    "print(input_1)\n",
    "mySum <- function(input_1a=input_1) { # using input_1 here by declarig global assignment latter\n",
    "input_1 <<-25 # var assigned inside the function for global access purpose  \n",
    "  return(input_1 )\n",
    "  }\n",
    "mySum(input_1)\n",
    "print(input_1)"
   ]
  },
  {
   "cell_type": "markdown",
   "metadata": {
    "slideshow": {
     "slide_type": "slide"
    }
   },
   "source": [
    "## Best way to use functions"
   ]
  },
  {
   "cell_type": "code",
   "execution_count": 176,
   "metadata": {
    "run_control": {
     "frozen": false,
     "read_only": false
    },
    "slideshow": {
     "slide_type": "subslide"
    }
   },
   "outputs": [
    {
     "data": {
      "text/html": [
       "<pre class=language-r><code>function (x, size, replace = FALSE, prob = NULL) \n",
       "NULL</code></pre>"
      ],
      "text/latex": [
       "\\begin{minted}{r}\n",
       "function (x, size, replace = FALSE, prob = NULL) \n",
       "NULL\n",
       "\\end{minted}"
      ],
      "text/markdown": [
       "```r\n",
       "function (x, size, replace = FALSE, prob = NULL) \n",
       "NULL\n",
       "```"
      ],
      "text/plain": [
       "function (x, size, replace = FALSE, prob = NULL) \n",
       "NULL"
      ]
     },
     "metadata": {},
     "output_type": "display_data"
    }
   ],
   "source": [
    "args(sample)\n",
    "## function (x, size, replace = FALSE, prob = NULL)\n",
    "## NULL"
   ]
  },
  {
   "cell_type": "markdown",
   "metadata": {
    "slideshow": {
     "slide_type": "subslide"
    }
   },
   "source": [
    "The terms x, size, replace, and prob are the function arguments.   \n",
    "<font color=\"red\">First,</font> notice that <font color=\"red\">replace and prob have default values;</font> that is, we do not need to specify these arguments unless we want to override the default values. \n",
    "<font color=\"red\">Second,</font> notice the order of the arguments. <font color=\"red\">If you enter the argument values in the same order as the argument</font> list we do not need to specify the argument."
   ]
  },
  {
   "cell_type": "code",
   "execution_count": 177,
   "metadata": {
    "run_control": {
     "frozen": false,
     "read_only": false
    },
    "slideshow": {
     "slide_type": "subslide"
    }
   },
   "outputs": [
    {
     "data": {
      "text/html": [
       "<ol class=list-inline>\n",
       "\t<li>30</li>\n",
       "\t<li>18</li>\n",
       "\t<li>20</li>\n",
       "\t<li>5</li>\n",
       "\t<li>2</li>\n",
       "\t<li>27</li>\n",
       "\t<li>19</li>\n",
       "\t<li>13</li>\n",
       "\t<li>12</li>\n",
       "\t<li>21</li>\n",
       "\t<li>26</li>\n",
       "\t<li>11</li>\n",
       "\t<li>17</li>\n",
       "\t<li>28</li>\n",
       "\t<li>8</li>\n",
       "\t<li>25</li>\n",
       "</ol>\n"
      ],
      "text/latex": [
       "\\begin{enumerate*}\n",
       "\\item 30\n",
       "\\item 18\n",
       "\\item 20\n",
       "\\item 5\n",
       "\\item 2\n",
       "\\item 27\n",
       "\\item 19\n",
       "\\item 13\n",
       "\\item 12\n",
       "\\item 21\n",
       "\\item 26\n",
       "\\item 11\n",
       "\\item 17\n",
       "\\item 28\n",
       "\\item 8\n",
       "\\item 25\n",
       "\\end{enumerate*}\n"
      ],
      "text/markdown": [
       "1. 30\n",
       "2. 18\n",
       "3. 20\n",
       "4. 5\n",
       "5. 2\n",
       "6. 27\n",
       "7. 19\n",
       "8. 13\n",
       "9. 12\n",
       "10. 21\n",
       "11. 26\n",
       "12. 11\n",
       "13. 17\n",
       "14. 28\n",
       "15. 8\n",
       "16. 25\n",
       "\n",
       "\n"
      ],
      "text/plain": [
       " [1] 30 18 20  5  2 27 19 13 12 21 26 11 17 28  8 25"
      ]
     },
     "metadata": {},
     "output_type": "display_data"
    }
   ],
   "source": [
    "dates <- 1:30\n",
    "sample(dates, 16) # sample \"size = 16\"\n",
    "## [1] 28 23 29 16 4 13 14 10 5 20 18 26 22 12 30 11"
   ]
  },
  {
   "cell_type": "markdown",
   "metadata": {
    "slideshow": {
     "slide_type": "subslide"
    }
   },
   "source": [
    "<font color=\"red\">Third,</font> if we enter the arguments <font color=\"red\">out of order then we will get either an error message or an undesired result.</font>\n",
    "Arguments entered out of their default order need to be specified."
   ]
  },
  {
   "cell_type": "markdown",
   "metadata": {
    "slideshow": {
     "slide_type": "subslide"
    }
   },
   "source": [
    "`sample(16, dates) # undesired results; wanted \"size = 16\"`\n",
    "```{r}\n",
    "Error in sample.int(x, size, replace, prob): object 'dates' not found\n",
    "Traceback:\n",
    "\n",
    "1. sample(16, dates)\n",
    "2. sample.int(x, size, replace, prob)\n",
    "```"
   ]
  },
  {
   "cell_type": "code",
   "execution_count": 178,
   "metadata": {
    "run_control": {
     "frozen": false,
     "read_only": false
    },
    "slideshow": {
     "slide_type": "subslide"
    }
   },
   "outputs": [
    {
     "data": {
      "text/html": [
       "<ol class=list-inline>\n",
       "\t<li>7</li>\n",
       "\t<li>25</li>\n",
       "\t<li>4</li>\n",
       "\t<li>24</li>\n",
       "\t<li>19</li>\n",
       "\t<li>27</li>\n",
       "\t<li>3</li>\n",
       "\t<li>22</li>\n",
       "\t<li>15</li>\n",
       "\t<li>2</li>\n",
       "\t<li>12</li>\n",
       "\t<li>5</li>\n",
       "\t<li>26</li>\n",
       "\t<li>10</li>\n",
       "\t<li>29</li>\n",
       "\t<li>9</li>\n",
       "</ol>\n"
      ],
      "text/latex": [
       "\\begin{enumerate*}\n",
       "\\item 7\n",
       "\\item 25\n",
       "\\item 4\n",
       "\\item 24\n",
       "\\item 19\n",
       "\\item 27\n",
       "\\item 3\n",
       "\\item 22\n",
       "\\item 15\n",
       "\\item 2\n",
       "\\item 12\n",
       "\\item 5\n",
       "\\item 26\n",
       "\\item 10\n",
       "\\item 29\n",
       "\\item 9\n",
       "\\end{enumerate*}\n"
      ],
      "text/markdown": [
       "1. 7\n",
       "2. 25\n",
       "3. 4\n",
       "4. 24\n",
       "5. 19\n",
       "6. 27\n",
       "7. 3\n",
       "8. 22\n",
       "9. 15\n",
       "10. 2\n",
       "11. 12\n",
       "12. 5\n",
       "13. 26\n",
       "14. 10\n",
       "15. 29\n",
       "16. 9\n",
       "\n",
       "\n"
      ],
      "text/plain": [
       " [1]  7 25  4 24 19 27  3 22 15  2 12  5 26 10 29  9"
      ]
     },
     "metadata": {},
     "output_type": "display_data"
    }
   ],
   "source": [
    "sample(size = 16, x = dates) # gives desired result\n",
    "## [1] 9 28 17 8 21 18 5 14 24 27 16 25 2 6 30 4"
   ]
  },
  {
   "cell_type": "markdown",
   "metadata": {
    "slideshow": {
     "slide_type": "subslide"
    }
   },
   "source": [
    "<font color=\"red\">Fourth,</font> when we specify an argument we only need to type a <font color=\"red\">sufficient number of letters</font> so that R can uniquely identify it from the other arguments."
   ]
  },
  {
   "cell_type": "code",
   "execution_count": 179,
   "metadata": {
    "run_control": {
     "frozen": false,
     "read_only": false
    },
    "slideshow": {
     "slide_type": "subslide"
    }
   },
   "outputs": [
    {
     "data": {
      "text/html": [
       "<ol class=list-inline>\n",
       "\t<li>5</li>\n",
       "\t<li>15</li>\n",
       "\t<li>22</li>\n",
       "\t<li>26</li>\n",
       "\t<li>29</li>\n",
       "\t<li>14</li>\n",
       "\t<li>11</li>\n",
       "\t<li>29</li>\n",
       "\t<li>27</li>\n",
       "\t<li>21</li>\n",
       "\t<li>26</li>\n",
       "\t<li>26</li>\n",
       "\t<li>15</li>\n",
       "\t<li>10</li>\n",
       "\t<li>28</li>\n",
       "\t<li>16</li>\n",
       "</ol>\n"
      ],
      "text/latex": [
       "\\begin{enumerate*}\n",
       "\\item 5\n",
       "\\item 15\n",
       "\\item 22\n",
       "\\item 26\n",
       "\\item 29\n",
       "\\item 14\n",
       "\\item 11\n",
       "\\item 29\n",
       "\\item 27\n",
       "\\item 21\n",
       "\\item 26\n",
       "\\item 26\n",
       "\\item 15\n",
       "\\item 10\n",
       "\\item 28\n",
       "\\item 16\n",
       "\\end{enumerate*}\n"
      ],
      "text/markdown": [
       "1. 5\n",
       "2. 15\n",
       "3. 22\n",
       "4. 26\n",
       "5. 29\n",
       "6. 14\n",
       "7. 11\n",
       "8. 29\n",
       "9. 27\n",
       "10. 21\n",
       "11. 26\n",
       "12. 26\n",
       "13. 15\n",
       "14. 10\n",
       "15. 28\n",
       "16. 16\n",
       "\n",
       "\n"
      ],
      "text/plain": [
       " [1]  5 15 22 26 29 14 11 29 27 21 26 26 15 10 28 16"
      ]
     },
     "metadata": {},
     "output_type": "display_data"
    }
   ],
   "source": [
    "sample(s = 16, x = dates, r = TRUE) # sampling w/ replacement\n",
    "## [1] 25 19 28 8 6 12 26 2 26 12 21 16 17 4 7 13"
   ]
  },
  {
   "cell_type": "markdown",
   "metadata": {
    "slideshow": {
     "slide_type": "subslide"
    }
   },
   "source": [
    "<font color=\"red\">Fifth,</font> argument values can be any <font color=\"red\">valid R expression (including functions) that evaluates to an appropriate value.</font>  In the following example we see two sample functions that provide random values to the sample\n",
    "function arguments.<"
   ]
  },
  {
   "cell_type": "code",
   "execution_count": 180,
   "metadata": {
    "run_control": {
     "frozen": false,
     "read_only": false
    },
    "slideshow": {
     "slide_type": "subslide"
    }
   },
   "outputs": [
    {
     "data": {
      "text/html": [
       "<ol class=list-inline>\n",
       "\t<li>1</li>\n",
       "\t<li>10</li>\n",
       "\t<li>10</li>\n",
       "\t<li>8</li>\n",
       "\t<li>8</li>\n",
       "\t<li>10</li>\n",
       "\t<li>8</li>\n",
       "\t<li>1</li>\n",
       "\t<li>10</li>\n",
       "\t<li>6</li>\n",
       "\t<li>1</li>\n",
       "\t<li>4</li>\n",
       "\t<li>8</li>\n",
       "\t<li>1</li>\n",
       "\t<li>10</li>\n",
       "\t<li>6</li>\n",
       "\t<li>1</li>\n",
       "\t<li>1</li>\n",
       "\t<li>10</li>\n",
       "\t<li>4</li>\n",
       "\t<li>8</li>\n",
       "\t<li>4</li>\n",
       "\t<li>4</li>\n",
       "\t<li>10</li>\n",
       "\t<li>4</li>\n",
       "\t<li>6</li>\n",
       "\t<li>10</li>\n",
       "\t<li>10</li>\n",
       "</ol>\n"
      ],
      "text/latex": [
       "\\begin{enumerate*}\n",
       "\\item 1\n",
       "\\item 10\n",
       "\\item 10\n",
       "\\item 8\n",
       "\\item 8\n",
       "\\item 10\n",
       "\\item 8\n",
       "\\item 1\n",
       "\\item 10\n",
       "\\item 6\n",
       "\\item 1\n",
       "\\item 4\n",
       "\\item 8\n",
       "\\item 1\n",
       "\\item 10\n",
       "\\item 6\n",
       "\\item 1\n",
       "\\item 1\n",
       "\\item 10\n",
       "\\item 4\n",
       "\\item 8\n",
       "\\item 4\n",
       "\\item 4\n",
       "\\item 10\n",
       "\\item 4\n",
       "\\item 6\n",
       "\\item 10\n",
       "\\item 10\n",
       "\\end{enumerate*}\n"
      ],
      "text/markdown": [
       "1. 1\n",
       "2. 10\n",
       "3. 10\n",
       "4. 8\n",
       "5. 8\n",
       "6. 10\n",
       "7. 8\n",
       "8. 1\n",
       "9. 10\n",
       "10. 6\n",
       "11. 1\n",
       "12. 4\n",
       "13. 8\n",
       "14. 1\n",
       "15. 10\n",
       "16. 6\n",
       "17. 1\n",
       "18. 1\n",
       "19. 10\n",
       "20. 4\n",
       "21. 8\n",
       "22. 4\n",
       "23. 4\n",
       "24. 10\n",
       "25. 4\n",
       "26. 6\n",
       "27. 10\n",
       "28. 10\n",
       "\n",
       "\n"
      ],
      "text/plain": [
       " [1]  1 10 10  8  8 10  8  1 10  6  1  4  8  1 10  6  1  1 10  4  8  4  4 10  4\n",
       "[26]  6 10 10"
      ]
     },
     "metadata": {},
     "output_type": "display_data"
    }
   ],
   "source": [
    "sample(s = sample(1:36, 1), x = sample(1:10, 5), r=T)\n",
    "## [1] 3 1 2 1 1 2 3 1 3 4 4 2 1 1 4 4 1 8 4 4 4 2 1 3 2 3 8 1 2 3"
   ]
  },
  {
   "cell_type": "markdown",
   "metadata": {},
   "source": [
    "## Apply Family of Functions"
   ]
  },
  {
   "cell_type": "code",
   "execution_count": 181,
   "metadata": {
    "run_control": {
     "frozen": false,
     "read_only": false
    }
   },
   "outputs": [],
   "source": [
    "mtcarsFive <- mtcars[1:5,] #let's take 5 obserations from mtcars for illustration"
   ]
  },
  {
   "cell_type": "code",
   "execution_count": 182,
   "metadata": {
    "run_control": {
     "frozen": false,
     "read_only": false
    },
    "scrolled": true
   },
   "outputs": [
    {
     "data": {
      "text/html": [
       "<table>\n",
       "<thead><tr><th></th><th scope=col>mpg</th><th scope=col>cyl</th><th scope=col>disp</th><th scope=col>hp</th><th scope=col>drat</th><th scope=col>wt</th><th scope=col>qsec</th><th scope=col>vs</th><th scope=col>am</th><th scope=col>gear</th><th scope=col>carb</th></tr></thead>\n",
       "<tbody>\n",
       "\t<tr><th scope=row>Mazda RX4</th><td>21.0 </td><td>6    </td><td>160  </td><td>110  </td><td>3.90 </td><td>2.620</td><td>16.46</td><td>0    </td><td>1    </td><td>4    </td><td>4    </td></tr>\n",
       "\t<tr><th scope=row>Mazda RX4 Wag</th><td>21.0 </td><td>6    </td><td>160  </td><td>110  </td><td>3.90 </td><td>2.875</td><td>17.02</td><td>0    </td><td>1    </td><td>4    </td><td>4    </td></tr>\n",
       "\t<tr><th scope=row>Datsun 710</th><td>22.8 </td><td>4    </td><td>108  </td><td> 93  </td><td>3.85 </td><td>2.320</td><td>18.61</td><td>1    </td><td>1    </td><td>4    </td><td>1    </td></tr>\n",
       "\t<tr><th scope=row>Hornet 4 Drive</th><td>21.4 </td><td>6    </td><td>258  </td><td>110  </td><td>3.08 </td><td>3.215</td><td>19.44</td><td>1    </td><td>0    </td><td>3    </td><td>1    </td></tr>\n",
       "\t<tr><th scope=row>Hornet Sportabout</th><td>18.7 </td><td>8    </td><td>360  </td><td>175  </td><td>3.15 </td><td>3.440</td><td>17.02</td><td>0    </td><td>0    </td><td>3    </td><td>2    </td></tr>\n",
       "</tbody>\n",
       "</table>\n"
      ],
      "text/latex": [
       "\\begin{tabular}{r|lllllllllll}\n",
       "  & mpg & cyl & disp & hp & drat & wt & qsec & vs & am & gear & carb\\\\\n",
       "\\hline\n",
       "\tMazda RX4 & 21.0  & 6     & 160   & 110   & 3.90  & 2.620 & 16.46 & 0     & 1     & 4     & 4    \\\\\n",
       "\tMazda RX4 Wag & 21.0  & 6     & 160   & 110   & 3.90  & 2.875 & 17.02 & 0     & 1     & 4     & 4    \\\\\n",
       "\tDatsun 710 & 22.8  & 4     & 108   &  93   & 3.85  & 2.320 & 18.61 & 1     & 1     & 4     & 1    \\\\\n",
       "\tHornet 4 Drive & 21.4  & 6     & 258   & 110   & 3.08  & 3.215 & 19.44 & 1     & 0     & 3     & 1    \\\\\n",
       "\tHornet Sportabout & 18.7  & 8     & 360   & 175   & 3.15  & 3.440 & 17.02 & 0     & 0     & 3     & 2    \\\\\n",
       "\\end{tabular}\n"
      ],
      "text/markdown": [
       "\n",
       "| <!--/--> | mpg | cyl | disp | hp | drat | wt | qsec | vs | am | gear | carb | \n",
       "|---|---|---|---|---|\n",
       "| Mazda RX4 | 21.0  | 6     | 160   | 110   | 3.90  | 2.620 | 16.46 | 0     | 1     | 4     | 4     | \n",
       "| Mazda RX4 Wag | 21.0  | 6     | 160   | 110   | 3.90  | 2.875 | 17.02 | 0     | 1     | 4     | 4     | \n",
       "| Datsun 710 | 22.8  | 4     | 108   |  93   | 3.85  | 2.320 | 18.61 | 1     | 1     | 4     | 1     | \n",
       "| Hornet 4 Drive | 21.4  | 6     | 258   | 110   | 3.08  | 3.215 | 19.44 | 1     | 0     | 3     | 1     | \n",
       "| Hornet Sportabout | 18.7  | 8     | 360   | 175   | 3.15  | 3.440 | 17.02 | 0     | 0     | 3     | 2     | \n",
       "\n",
       "\n"
      ],
      "text/plain": [
       "                  mpg  cyl disp hp  drat wt    qsec  vs am gear carb\n",
       "Mazda RX4         21.0 6   160  110 3.90 2.620 16.46 0  1  4    4   \n",
       "Mazda RX4 Wag     21.0 6   160  110 3.90 2.875 17.02 0  1  4    4   \n",
       "Datsun 710        22.8 4   108   93 3.85 2.320 18.61 1  1  4    1   \n",
       "Hornet 4 Drive    21.4 6   258  110 3.08 3.215 19.44 1  0  3    1   \n",
       "Hornet Sportabout 18.7 8   360  175 3.15 3.440 17.02 0  0  3    2   "
      ]
     },
     "metadata": {},
     "output_type": "display_data"
    }
   ],
   "source": [
    "mtcarsFive"
   ]
  },
  {
   "cell_type": "markdown",
   "metadata": {},
   "source": [
    "* what if you want to max value from each column ,mpg, cyl, disp ....etc"
   ]
  },
  {
   "cell_type": "code",
   "execution_count": 183,
   "metadata": {
    "run_control": {
     "frozen": false,
     "read_only": false
    }
   },
   "outputs": [
    {
     "data": {
      "text/html": [
       "22.8"
      ],
      "text/latex": [
       "22.8"
      ],
      "text/markdown": [
       "22.8"
      ],
      "text/plain": [
       "[1] 22.8"
      ]
     },
     "metadata": {},
     "output_type": "display_data"
    },
    {
     "data": {
      "text/html": [
       "8"
      ],
      "text/latex": [
       "8"
      ],
      "text/markdown": [
       "8"
      ],
      "text/plain": [
       "[1] 8"
      ]
     },
     "metadata": {},
     "output_type": "display_data"
    },
    {
     "data": {
      "text/html": [
       "360"
      ],
      "text/latex": [
       "360"
      ],
      "text/markdown": [
       "360"
      ],
      "text/plain": [
       "[1] 360"
      ]
     },
     "metadata": {},
     "output_type": "display_data"
    },
    {
     "data": {
      "text/html": [
       "175"
      ],
      "text/latex": [
       "175"
      ],
      "text/markdown": [
       "175"
      ],
      "text/plain": [
       "[1] 175"
      ]
     },
     "metadata": {},
     "output_type": "display_data"
    },
    {
     "data": {
      "text/html": [
       "3.9"
      ],
      "text/latex": [
       "3.9"
      ],
      "text/markdown": [
       "3.9"
      ],
      "text/plain": [
       "[1] 3.9"
      ]
     },
     "metadata": {},
     "output_type": "display_data"
    }
   ],
   "source": [
    "# one method\n",
    "max(mtcarsFive[,1])\n",
    "max(mtcarsFive[,2])\n",
    "max(mtcarsFive[,3])\n",
    "max(mtcarsFive[,4])\n",
    "max(mtcarsFive[,5])\n",
    "#...etc"
   ]
  },
  {
   "cell_type": "code",
   "execution_count": 184,
   "metadata": {
    "run_control": {
     "frozen": false,
     "read_only": false
    },
    "scrolled": false
   },
   "outputs": [
    {
     "name": "stdout",
     "output_type": "stream",
     "text": [
      "[1] 22.8\n",
      "[1] 8\n",
      "[1] 360\n",
      "[1] 175\n",
      "[1] 3.9\n",
      "[1] 3.44\n",
      "[1] 19.44\n",
      "[1] 1\n",
      "[1] 1\n",
      "[1] 4\n",
      "[1] 4\n"
     ]
    }
   ],
   "source": [
    "# another method\n",
    "for (i in 1:ncol(mtcarsFive))\n",
    "    {\n",
    "    col <- mtcarsFive[,i]\n",
    "    max <- max(col)\n",
    "    print(max)\n",
    "}"
   ]
  },
  {
   "cell_type": "code",
   "execution_count": 185,
   "metadata": {
    "run_control": {
     "frozen": false,
     "read_only": false
    },
    "scrolled": true
   },
   "outputs": [
    {
     "data": {
      "text/html": [
       "11"
      ],
      "text/latex": [
       "11"
      ],
      "text/markdown": [
       "11"
      ],
      "text/plain": [
       "[1] 11"
      ]
     },
     "metadata": {},
     "output_type": "display_data"
    }
   ],
   "source": [
    "length(mtcarsFive)"
   ]
  },
  {
   "cell_type": "code",
   "execution_count": 186,
   "metadata": {},
   "outputs": [],
   "source": [
    "load(\"data//sales.RData\")"
   ]
  },
  {
   "cell_type": "code",
   "execution_count": 187,
   "metadata": {},
   "outputs": [
    {
     "data": {
      "text/html": [
       "'data.frame'"
      ],
      "text/latex": [
       "'data.frame'"
      ],
      "text/markdown": [
       "'data.frame'"
      ],
      "text/plain": [
       "[1] \"data.frame\""
      ]
     },
     "metadata": {},
     "output_type": "display_data"
    }
   ],
   "source": [
    "class(sales)"
   ]
  },
  {
   "cell_type": "code",
   "execution_count": 188,
   "metadata": {},
   "outputs": [
    {
     "data": {
      "text/html": [
       "<table>\n",
       "<thead><tr><th scope=col>ID</th><th scope=col>Prod</th><th scope=col>Quant</th><th scope=col>Val</th><th scope=col>Insp</th></tr></thead>\n",
       "<tbody>\n",
       "\t<tr><td>v1   </td><td>p1   </td><td>  182</td><td> 1665</td><td>unkn </td></tr>\n",
       "\t<tr><td>v2   </td><td>p1   </td><td> 3072</td><td> 8780</td><td>unkn </td></tr>\n",
       "\t<tr><td>v3   </td><td>p1   </td><td>20393</td><td>76990</td><td>unkn </td></tr>\n",
       "\t<tr><td>v4   </td><td>p1   </td><td>  112</td><td> 1100</td><td>unkn </td></tr>\n",
       "\t<tr><td>v3   </td><td>p1   </td><td> 6164</td><td>20260</td><td>unkn </td></tr>\n",
       "\t<tr><td>v5   </td><td>p2   </td><td>  104</td><td> 1155</td><td>unkn </td></tr>\n",
       "</tbody>\n",
       "</table>\n"
      ],
      "text/latex": [
       "\\begin{tabular}{r|lllll}\n",
       " ID & Prod & Quant & Val & Insp\\\\\n",
       "\\hline\n",
       "\t v1    & p1    &   182 &  1665 & unkn \\\\\n",
       "\t v2    & p1    &  3072 &  8780 & unkn \\\\\n",
       "\t v3    & p1    & 20393 & 76990 & unkn \\\\\n",
       "\t v4    & p1    &   112 &  1100 & unkn \\\\\n",
       "\t v3    & p1    &  6164 & 20260 & unkn \\\\\n",
       "\t v5    & p2    &   104 &  1155 & unkn \\\\\n",
       "\\end{tabular}\n"
      ],
      "text/markdown": [
       "\n",
       "ID | Prod | Quant | Val | Insp | \n",
       "|---|---|---|---|---|---|\n",
       "| v1    | p1    |   182 |  1665 | unkn  | \n",
       "| v2    | p1    |  3072 |  8780 | unkn  | \n",
       "| v3    | p1    | 20393 | 76990 | unkn  | \n",
       "| v4    | p1    |   112 |  1100 | unkn  | \n",
       "| v3    | p1    |  6164 | 20260 | unkn  | \n",
       "| v5    | p2    |   104 |  1155 | unkn  | \n",
       "\n",
       "\n"
      ],
      "text/plain": [
       "  ID Prod Quant Val   Insp\n",
       "1 v1 p1     182  1665 unkn\n",
       "2 v2 p1    3072  8780 unkn\n",
       "3 v3 p1   20393 76990 unkn\n",
       "4 v4 p1     112  1100 unkn\n",
       "5 v3 p1    6164 20260 unkn\n",
       "6 v5 p2     104  1155 unkn"
      ]
     },
     "metadata": {},
     "output_type": "display_data"
    }
   ],
   "source": [
    "head(sales)"
   ]
  },
  {
   "cell_type": "markdown",
   "metadata": {
    "slideshow": {
     "slide_type": "slide"
    }
   },
   "source": [
    "\n",
    "* **apply** - apply over the margins of an array (e.g. the rows or columns of a matrix)\n",
    "* **lapply** - apply a function to each element of a list in turn and get a list back.\n",
    "* **sapply** - apply a function to each element of a list and get a simplified object like vector back, rather than a list.\n",
    "* **tapply** - apply a function to subsets of a vector and the subsets are defined by some other vector, usually a factor.\n",
    "* **mapply** - apply a function to the 1st elements of each, and then the 2nd elements of each, etc\n",
    "\n"
   ]
  },
  {
   "cell_type": "markdown",
   "metadata": {
    "slideshow": {
     "slide_type": "slide"
    }
   },
   "source": [
    "![Imgur](https://i.imgur.com/VS2Brbn.png)"
   ]
  },
  {
   "cell_type": "code",
   "execution_count": 189,
   "metadata": {
    "run_control": {
     "frozen": false,
     "read_only": false
    },
    "slideshow": {
     "slide_type": "slide"
    }
   },
   "outputs": [
    {
     "data": {
      "text/html": [
       "<table>\n",
       "<tbody>\n",
       "\t<tr><td> 0.23522071</td><td>-1.1132173 </td><td>4.783571   </td></tr>\n",
       "\t<tr><td>-0.33073587</td><td> 1.0586426 </td><td>6.446478   </td></tr>\n",
       "\t<tr><td>-0.31162382</td><td> 3.4002588 </td><td>5.409710   </td></tr>\n",
       "\t<tr><td>-2.30234566</td><td> 0.3795300 </td><td>5.910917   </td></tr>\n",
       "\t<tr><td>-0.17087604</td><td>-0.2659960 </td><td>6.430358   </td></tr>\n",
       "\t<tr><td> 0.14027823</td><td> 3.1629936 </td><td>4.618708   </td></tr>\n",
       "\t<tr><td>-1.49742666</td><td> 1.8838450 </td><td>5.202307   </td></tr>\n",
       "\t<tr><td>-1.01018842</td><td> 2.3342560 </td><td>4.193801   </td></tr>\n",
       "\t<tr><td>-0.94847560</td><td> 1.3791419 </td><td>5.294634   </td></tr>\n",
       "\t<tr><td>-0.49396222</td><td> 0.6901551 </td><td>6.404883   </td></tr>\n",
       "\t<tr><td>-0.17367413</td><td> 0.8242740 </td><td>6.023767   </td></tr>\n",
       "\t<tr><td>-0.40659878</td><td> 0.8787845 </td><td>5.476126   </td></tr>\n",
       "\t<tr><td> 1.84563626</td><td> 0.6380955 </td><td>4.329670   </td></tr>\n",
       "\t<tr><td> 0.39405411</td><td> 2.4811246 </td><td>5.159234   </td></tr>\n",
       "\t<tr><td> 0.79752850</td><td> 2.7419716 </td><td>4.617285   </td></tr>\n",
       "\t<tr><td>-1.56666536</td><td> 2.0278246 </td><td>5.935763   </td></tr>\n",
       "\t<tr><td>-0.08585101</td><td> 2.3313797 </td><td>4.368468   </td></tr>\n",
       "\t<tr><td>-0.35913948</td><td> 2.6441141 </td><td>4.901694   </td></tr>\n",
       "\t<tr><td>-1.19360897</td><td> 4.4856616 </td><td>6.031985   </td></tr>\n",
       "\t<tr><td> 0.36418674</td><td> 3.9599817 </td><td>5.387808   </td></tr>\n",
       "\t<tr><td> 0.36166245</td><td> 2.1916634 </td><td>3.743871   </td></tr>\n",
       "\t<tr><td> 0.34696437</td><td> 3.5525443 </td><td>4.213047   </td></tr>\n",
       "\t<tr><td> 0.18973653</td><td> 2.9142423 </td><td>5.429812   </td></tr>\n",
       "\t<tr><td>-0.15957681</td><td> 2.3586254 </td><td>4.623584   </td></tr>\n",
       "\t<tr><td> 0.32654924</td><td> 2.1750956 </td><td>3.783771   </td></tr>\n",
       "\t<tr><td> 0.59825420</td><td> 1.1527322 </td><td>6.029279   </td></tr>\n",
       "\t<tr><td>-1.84153430</td><td> 2.9782317 </td><td>5.430397   </td></tr>\n",
       "\t<tr><td> 2.71805560</td><td> 3.8058683 </td><td>3.754426   </td></tr>\n",
       "\t<tr><td> 0.19124439</td><td> 2.1229148 </td><td>4.397272   </td></tr>\n",
       "\t<tr><td>-1.30129607</td><td> 1.8702280 </td><td>5.660069   </td></tr>\n",
       "</tbody>\n",
       "</table>\n"
      ],
      "text/latex": [
       "\\begin{tabular}{lll}\n",
       "\t  0.23522071 & -1.1132173  & 4.783571   \\\\\n",
       "\t -0.33073587 &  1.0586426  & 6.446478   \\\\\n",
       "\t -0.31162382 &  3.4002588  & 5.409710   \\\\\n",
       "\t -2.30234566 &  0.3795300  & 5.910917   \\\\\n",
       "\t -0.17087604 & -0.2659960  & 6.430358   \\\\\n",
       "\t  0.14027823 &  3.1629936  & 4.618708   \\\\\n",
       "\t -1.49742666 &  1.8838450  & 5.202307   \\\\\n",
       "\t -1.01018842 &  2.3342560  & 4.193801   \\\\\n",
       "\t -0.94847560 &  1.3791419  & 5.294634   \\\\\n",
       "\t -0.49396222 &  0.6901551  & 6.404883   \\\\\n",
       "\t -0.17367413 &  0.8242740  & 6.023767   \\\\\n",
       "\t -0.40659878 &  0.8787845  & 5.476126   \\\\\n",
       "\t  1.84563626 &  0.6380955  & 4.329670   \\\\\n",
       "\t  0.39405411 &  2.4811246  & 5.159234   \\\\\n",
       "\t  0.79752850 &  2.7419716  & 4.617285   \\\\\n",
       "\t -1.56666536 &  2.0278246  & 5.935763   \\\\\n",
       "\t -0.08585101 &  2.3313797  & 4.368468   \\\\\n",
       "\t -0.35913948 &  2.6441141  & 4.901694   \\\\\n",
       "\t -1.19360897 &  4.4856616  & 6.031985   \\\\\n",
       "\t  0.36418674 &  3.9599817  & 5.387808   \\\\\n",
       "\t  0.36166245 &  2.1916634  & 3.743871   \\\\\n",
       "\t  0.34696437 &  3.5525443  & 4.213047   \\\\\n",
       "\t  0.18973653 &  2.9142423  & 5.429812   \\\\\n",
       "\t -0.15957681 &  2.3586254  & 4.623584   \\\\\n",
       "\t  0.32654924 &  2.1750956  & 3.783771   \\\\\n",
       "\t  0.59825420 &  1.1527322  & 6.029279   \\\\\n",
       "\t -1.84153430 &  2.9782317  & 5.430397   \\\\\n",
       "\t  2.71805560 &  3.8058683  & 3.754426   \\\\\n",
       "\t  0.19124439 &  2.1229148  & 4.397272   \\\\\n",
       "\t -1.30129607 &  1.8702280  & 5.660069   \\\\\n",
       "\\end{tabular}\n"
      ],
      "text/markdown": [
       "\n",
       "|  0.23522071 | -1.1132173  | 4.783571    | \n",
       "| -0.33073587 |  1.0586426  | 6.446478    | \n",
       "| -0.31162382 |  3.4002588  | 5.409710    | \n",
       "| -2.30234566 |  0.3795300  | 5.910917    | \n",
       "| -0.17087604 | -0.2659960  | 6.430358    | \n",
       "|  0.14027823 |  3.1629936  | 4.618708    | \n",
       "| -1.49742666 |  1.8838450  | 5.202307    | \n",
       "| -1.01018842 |  2.3342560  | 4.193801    | \n",
       "| -0.94847560 |  1.3791419  | 5.294634    | \n",
       "| -0.49396222 |  0.6901551  | 6.404883    | \n",
       "| -0.17367413 |  0.8242740  | 6.023767    | \n",
       "| -0.40659878 |  0.8787845  | 5.476126    | \n",
       "|  1.84563626 |  0.6380955  | 4.329670    | \n",
       "|  0.39405411 |  2.4811246  | 5.159234    | \n",
       "|  0.79752850 |  2.7419716  | 4.617285    | \n",
       "| -1.56666536 |  2.0278246  | 5.935763    | \n",
       "| -0.08585101 |  2.3313797  | 4.368468    | \n",
       "| -0.35913948 |  2.6441141  | 4.901694    | \n",
       "| -1.19360897 |  4.4856616  | 6.031985    | \n",
       "|  0.36418674 |  3.9599817  | 5.387808    | \n",
       "|  0.36166245 |  2.1916634  | 3.743871    | \n",
       "|  0.34696437 |  3.5525443  | 4.213047    | \n",
       "|  0.18973653 |  2.9142423  | 5.429812    | \n",
       "| -0.15957681 |  2.3586254  | 4.623584    | \n",
       "|  0.32654924 |  2.1750956  | 3.783771    | \n",
       "|  0.59825420 |  1.1527322  | 6.029279    | \n",
       "| -1.84153430 |  2.9782317  | 5.430397    | \n",
       "|  2.71805560 |  3.8058683  | 3.754426    | \n",
       "|  0.19124439 |  2.1229148  | 4.397272    | \n",
       "| -1.30129607 |  1.8702280  | 5.660069    | \n",
       "\n",
       "\n"
      ],
      "text/plain": [
       "      [,1]        [,2]       [,3]    \n",
       " [1,]  0.23522071 -1.1132173 4.783571\n",
       " [2,] -0.33073587  1.0586426 6.446478\n",
       " [3,] -0.31162382  3.4002588 5.409710\n",
       " [4,] -2.30234566  0.3795300 5.910917\n",
       " [5,] -0.17087604 -0.2659960 6.430358\n",
       " [6,]  0.14027823  3.1629936 4.618708\n",
       " [7,] -1.49742666  1.8838450 5.202307\n",
       " [8,] -1.01018842  2.3342560 4.193801\n",
       " [9,] -0.94847560  1.3791419 5.294634\n",
       "[10,] -0.49396222  0.6901551 6.404883\n",
       "[11,] -0.17367413  0.8242740 6.023767\n",
       "[12,] -0.40659878  0.8787845 5.476126\n",
       "[13,]  1.84563626  0.6380955 4.329670\n",
       "[14,]  0.39405411  2.4811246 5.159234\n",
       "[15,]  0.79752850  2.7419716 4.617285\n",
       "[16,] -1.56666536  2.0278246 5.935763\n",
       "[17,] -0.08585101  2.3313797 4.368468\n",
       "[18,] -0.35913948  2.6441141 4.901694\n",
       "[19,] -1.19360897  4.4856616 6.031985\n",
       "[20,]  0.36418674  3.9599817 5.387808\n",
       "[21,]  0.36166245  2.1916634 3.743871\n",
       "[22,]  0.34696437  3.5525443 4.213047\n",
       "[23,]  0.18973653  2.9142423 5.429812\n",
       "[24,] -0.15957681  2.3586254 4.623584\n",
       "[25,]  0.32654924  2.1750956 3.783771\n",
       "[26,]  0.59825420  1.1527322 6.029279\n",
       "[27,] -1.84153430  2.9782317 5.430397\n",
       "[28,]  2.71805560  3.8058683 3.754426\n",
       "[29,]  0.19124439  2.1229148 4.397272\n",
       "[30,] -1.30129607  1.8702280 5.660069"
      ]
     },
     "metadata": {},
     "output_type": "display_data"
    }
   ],
   "source": [
    "set.seed(111)\n",
    "m <- matrix(data=cbind(rnorm(30, 0), rnorm(30, 2), rnorm(30, 5)), nrow=30, ncol=3)\n",
    "m"
   ]
  },
  {
   "cell_type": "markdown",
   "metadata": {
    "slideshow": {
     "slide_type": "slide"
    }
   },
   "source": [
    "### apply\n",
    "* When you want to apply a function to the rows or columns of a matrix (and higherdimensional analogues); \n",
    "* not generally advisable for data frames as it will coerce to a matrix first"
   ]
  },
  {
   "cell_type": "code",
   "execution_count": 190,
   "metadata": {
    "run_control": {
     "frozen": false,
     "read_only": false
    },
    "scrolled": false,
    "slideshow": {
     "slide_type": "subslide"
    }
   },
   "outputs": [
    {
     "data": {
      "text/html": [
       "<ol class=list-inline>\n",
       "\t<li>1.30185825038975</li>\n",
       "\t<li>2.3914616334814</li>\n",
       "\t<li>2.83278158641486</li>\n",
       "\t<li>1.32936696173676</li>\n",
       "\t<li>1.99782872161842</li>\n",
       "\t<li>2.6406599528872</li>\n",
       "\t<li>1.8629084935399</li>\n",
       "\t<li>1.83928946541398</li>\n",
       "\t<li>1.90843349079513</li>\n",
       "\t<li>2.20035865246824</li>\n",
       "\t<li>2.22478889225953</li>\n",
       "\t<li>1.982770583877</li>\n",
       "\t<li>2.27113381675114</li>\n",
       "\t<li>2.67813766988396</li>\n",
       "\t<li>2.7189282478868</li>\n",
       "\t<li>2.13230728609142</li>\n",
       "\t<li>2.20466547808473</li>\n",
       "\t<li>2.39555619109165</li>\n",
       "\t<li>3.10801252599802</li>\n",
       "\t<li>3.23732562472545</li>\n",
       "\t<li>2.09906550771431</li>\n",
       "\t<li>2.70418530404283</li>\n",
       "\t<li>2.84459678741562</li>\n",
       "\t<li>2.27421078335222</li>\n",
       "\t<li>2.09513860271916</li>\n",
       "\t<li>2.59342164918598</li>\n",
       "\t<li>2.18903145212111</li>\n",
       "\t<li>3.42611661286575</li>\n",
       "\t<li>2.23714356877431</li>\n",
       "\t<li>2.07633376527601</li>\n",
       "</ol>\n"
      ],
      "text/latex": [
       "\\begin{enumerate*}\n",
       "\\item 1.30185825038975\n",
       "\\item 2.3914616334814\n",
       "\\item 2.83278158641486\n",
       "\\item 1.32936696173676\n",
       "\\item 1.99782872161842\n",
       "\\item 2.6406599528872\n",
       "\\item 1.8629084935399\n",
       "\\item 1.83928946541398\n",
       "\\item 1.90843349079513\n",
       "\\item 2.20035865246824\n",
       "\\item 2.22478889225953\n",
       "\\item 1.982770583877\n",
       "\\item 2.27113381675114\n",
       "\\item 2.67813766988396\n",
       "\\item 2.7189282478868\n",
       "\\item 2.13230728609142\n",
       "\\item 2.20466547808473\n",
       "\\item 2.39555619109165\n",
       "\\item 3.10801252599802\n",
       "\\item 3.23732562472545\n",
       "\\item 2.09906550771431\n",
       "\\item 2.70418530404283\n",
       "\\item 2.84459678741562\n",
       "\\item 2.27421078335222\n",
       "\\item 2.09513860271916\n",
       "\\item 2.59342164918598\n",
       "\\item 2.18903145212111\n",
       "\\item 3.42611661286575\n",
       "\\item 2.23714356877431\n",
       "\\item 2.07633376527601\n",
       "\\end{enumerate*}\n"
      ],
      "text/markdown": [
       "1. 1.30185825038975\n",
       "2. 2.3914616334814\n",
       "3. 2.83278158641486\n",
       "4. 1.32936696173676\n",
       "5. 1.99782872161842\n",
       "6. 2.6406599528872\n",
       "7. 1.8629084935399\n",
       "8. 1.83928946541398\n",
       "9. 1.90843349079513\n",
       "10. 2.20035865246824\n",
       "11. 2.22478889225953\n",
       "12. 1.982770583877\n",
       "13. 2.27113381675114\n",
       "14. 2.67813766988396\n",
       "15. 2.7189282478868\n",
       "16. 2.13230728609142\n",
       "17. 2.20466547808473\n",
       "18. 2.39555619109165\n",
       "19. 3.10801252599802\n",
       "20. 3.23732562472545\n",
       "21. 2.09906550771431\n",
       "22. 2.70418530404283\n",
       "23. 2.84459678741562\n",
       "24. 2.27421078335222\n",
       "25. 2.09513860271916\n",
       "26. 2.59342164918598\n",
       "27. 2.18903145212111\n",
       "28. 3.42611661286575\n",
       "29. 2.23714356877431\n",
       "30. 2.07633376527601\n",
       "\n",
       "\n"
      ],
      "text/plain": [
       " [1] 1.301858 2.391462 2.832782 1.329367 1.997829 2.640660 1.862908 1.839289\n",
       " [9] 1.908433 2.200359 2.224789 1.982771 2.271134 2.678138 2.718928 2.132307\n",
       "[17] 2.204665 2.395556 3.108013 3.237326 2.099066 2.704185 2.844597 2.274211\n",
       "[25] 2.095139 2.593422 2.189031 3.426117 2.237144 2.076334"
      ]
     },
     "metadata": {},
     "output_type": "display_data"
    }
   ],
   "source": [
    "# traverse row wise\n",
    "apply(m, 1, mean)"
   ]
  },
  {
   "cell_type": "code",
   "execution_count": 191,
   "metadata": {
    "run_control": {
     "frozen": false,
     "read_only": false
    },
    "slideshow": {
     "slide_type": "subslide"
    }
   },
   "outputs": [
    {
     "data": {
      "text/html": [
       "<ol class=list-inline>\n",
       "\t<li>17</li>\n",
       "\t<li>2</li>\n",
       "\t<li>0</li>\n",
       "</ol>\n"
      ],
      "text/latex": [
       "\\begin{enumerate*}\n",
       "\\item 17\n",
       "\\item 2\n",
       "\\item 0\n",
       "\\end{enumerate*}\n"
      ],
      "text/markdown": [
       "1. 17\n",
       "2. 2\n",
       "3. 0\n",
       "\n",
       "\n"
      ],
      "text/plain": [
       "[1] 17  2  0"
      ]
     },
     "metadata": {},
     "output_type": "display_data"
    }
   ],
   "source": [
    "# traverse column wise\n",
    "# using Our own functions (udf)\n",
    "apply(m, 2, function(x) length(x[x<0]))"
   ]
  },
  {
   "cell_type": "markdown",
   "metadata": {
    "slideshow": {
     "slide_type": "slide"
    }
   },
   "source": [
    "### lapply\n",
    "* When you want to apply a function to each element of a list/vector in turn and get a list back"
   ]
  },
  {
   "cell_type": "code",
   "execution_count": 192,
   "metadata": {
    "run_control": {
     "frozen": false,
     "read_only": false
    },
    "slideshow": {
     "slide_type": "subslide"
    }
   },
   "outputs": [
    {
     "data": {
      "text/html": [
       "<ol>\n",
       "\t<li>1</li>\n",
       "\t<li>4</li>\n",
       "\t<li>9</li>\n",
       "</ol>\n"
      ],
      "text/latex": [
       "\\begin{enumerate}\n",
       "\\item 1\n",
       "\\item 4\n",
       "\\item 9\n",
       "\\end{enumerate}\n"
      ],
      "text/markdown": [
       "1. 1\n",
       "2. 4\n",
       "3. 9\n",
       "\n",
       "\n"
      ],
      "text/plain": [
       "[[1]]\n",
       "[1] 1\n",
       "\n",
       "[[2]]\n",
       "[1] 4\n",
       "\n",
       "[[3]]\n",
       "[1] 9\n"
      ]
     },
     "metadata": {},
     "output_type": "display_data"
    }
   ],
   "source": [
    "lapply(1:3, function(x) x^2)"
   ]
  },
  {
   "cell_type": "code",
   "execution_count": 193,
   "metadata": {
    "run_control": {
     "frozen": false,
     "marked": false,
     "read_only": false
    },
    "slideshow": {
     "slide_type": "subslide"
    }
   },
   "outputs": [
    {
     "data": {
      "text/html": [
       "<ol class=list-inline>\n",
       "\t<li>1</li>\n",
       "\t<li>4</li>\n",
       "\t<li>9</li>\n",
       "</ol>\n"
      ],
      "text/latex": [
       "\\begin{enumerate*}\n",
       "\\item 1\n",
       "\\item 4\n",
       "\\item 9\n",
       "\\end{enumerate*}\n"
      ],
      "text/markdown": [
       "1. 1\n",
       "2. 4\n",
       "3. 9\n",
       "\n",
       "\n"
      ],
      "text/plain": [
       "[1] 1 4 9"
      ]
     },
     "metadata": {},
     "output_type": "display_data"
    }
   ],
   "source": [
    "# you can use unlist with lapply to get a vector\n",
    "unlist(lapply(1:3, function(x) x^2))"
   ]
  },
  {
   "cell_type": "code",
   "execution_count": 194,
   "metadata": {
    "run_control": {
     "frozen": false,
     "read_only": false
    },
    "slideshow": {
     "slide_type": "subslide"
    }
   },
   "outputs": [
    {
     "data": {
      "text/html": [
       "<ol class=list-inline>\n",
       "\t<li>1</li>\n",
       "\t<li>4</li>\n",
       "\t<li>9</li>\n",
       "</ol>\n"
      ],
      "text/latex": [
       "\\begin{enumerate*}\n",
       "\\item 1\n",
       "\\item 4\n",
       "\\item 9\n",
       "\\end{enumerate*}\n"
      ],
      "text/markdown": [
       "1. 1\n",
       "2. 4\n",
       "3. 9\n",
       "\n",
       "\n"
      ],
      "text/plain": [
       "[1] 1 4 9"
      ]
     },
     "metadata": {},
     "output_type": "display_data"
    }
   ],
   "source": [
    "#simplify2array and sapply\n",
    "simplify2array(lapply(1:3, function(x) x^2))"
   ]
  },
  {
   "cell_type": "code",
   "execution_count": 195,
   "metadata": {
    "run_control": {
     "frozen": false,
     "read_only": false
    }
   },
   "outputs": [],
   "source": [
    "# create another list\n",
    "CAGO.list <- list(Diet1 = c(2,5,4,3,5,3), Diet2 =c(8,5,6,5,7,7), Diet3 =c(3,4,2,5,2,6) , Diet4 = c(2,2,3,2,5,2))"
   ]
  },
  {
   "cell_type": "code",
   "execution_count": 196,
   "metadata": {
    "run_control": {
     "frozen": false,
     "read_only": false
    }
   },
   "outputs": [
    {
     "data": {
      "text/html": [
       "<dl>\n",
       "\t<dt>$Diet1</dt>\n",
       "\t\t<dd><ol class=list-inline>\n",
       "\t<li>2</li>\n",
       "\t<li>5</li>\n",
       "\t<li>4</li>\n",
       "\t<li>3</li>\n",
       "\t<li>5</li>\n",
       "\t<li>3</li>\n",
       "</ol>\n",
       "</dd>\n",
       "\t<dt>$Diet2</dt>\n",
       "\t\t<dd><ol class=list-inline>\n",
       "\t<li>8</li>\n",
       "\t<li>5</li>\n",
       "\t<li>6</li>\n",
       "\t<li>5</li>\n",
       "\t<li>7</li>\n",
       "\t<li>7</li>\n",
       "</ol>\n",
       "</dd>\n",
       "\t<dt>$Diet3</dt>\n",
       "\t\t<dd><ol class=list-inline>\n",
       "\t<li>3</li>\n",
       "\t<li>4</li>\n",
       "\t<li>2</li>\n",
       "\t<li>5</li>\n",
       "\t<li>2</li>\n",
       "\t<li>6</li>\n",
       "</ol>\n",
       "</dd>\n",
       "\t<dt>$Diet4</dt>\n",
       "\t\t<dd><ol class=list-inline>\n",
       "\t<li>2</li>\n",
       "\t<li>2</li>\n",
       "\t<li>3</li>\n",
       "\t<li>2</li>\n",
       "\t<li>5</li>\n",
       "\t<li>2</li>\n",
       "</ol>\n",
       "</dd>\n",
       "</dl>\n"
      ],
      "text/latex": [
       "\\begin{description}\n",
       "\\item[\\$Diet1] \\begin{enumerate*}\n",
       "\\item 2\n",
       "\\item 5\n",
       "\\item 4\n",
       "\\item 3\n",
       "\\item 5\n",
       "\\item 3\n",
       "\\end{enumerate*}\n",
       "\n",
       "\\item[\\$Diet2] \\begin{enumerate*}\n",
       "\\item 8\n",
       "\\item 5\n",
       "\\item 6\n",
       "\\item 5\n",
       "\\item 7\n",
       "\\item 7\n",
       "\\end{enumerate*}\n",
       "\n",
       "\\item[\\$Diet3] \\begin{enumerate*}\n",
       "\\item 3\n",
       "\\item 4\n",
       "\\item 2\n",
       "\\item 5\n",
       "\\item 2\n",
       "\\item 6\n",
       "\\end{enumerate*}\n",
       "\n",
       "\\item[\\$Diet4] \\begin{enumerate*}\n",
       "\\item 2\n",
       "\\item 2\n",
       "\\item 3\n",
       "\\item 2\n",
       "\\item 5\n",
       "\\item 2\n",
       "\\end{enumerate*}\n",
       "\n",
       "\\end{description}\n"
      ],
      "text/markdown": [
       "$Diet1\n",
       ":   1. 2\n",
       "2. 5\n",
       "3. 4\n",
       "4. 3\n",
       "5. 5\n",
       "6. 3\n",
       "\n",
       "\n",
       "\n",
       "$Diet2\n",
       ":   1. 8\n",
       "2. 5\n",
       "3. 6\n",
       "4. 5\n",
       "5. 7\n",
       "6. 7\n",
       "\n",
       "\n",
       "\n",
       "$Diet3\n",
       ":   1. 3\n",
       "2. 4\n",
       "3. 2\n",
       "4. 5\n",
       "5. 2\n",
       "6. 6\n",
       "\n",
       "\n",
       "\n",
       "$Diet4\n",
       ":   1. 2\n",
       "2. 2\n",
       "3. 3\n",
       "4. 2\n",
       "5. 5\n",
       "6. 2\n",
       "\n",
       "\n",
       "\n",
       "\n",
       "\n"
      ],
      "text/plain": [
       "$Diet1\n",
       "[1] 2 5 4 3 5 3\n",
       "\n",
       "$Diet2\n",
       "[1] 8 5 6 5 7 7\n",
       "\n",
       "$Diet3\n",
       "[1] 3 4 2 5 2 6\n",
       "\n",
       "$Diet4\n",
       "[1] 2 2 3 2 5 2\n"
      ]
     },
     "metadata": {},
     "output_type": "display_data"
    }
   ],
   "source": [
    "CAGO.list"
   ]
  },
  {
   "cell_type": "code",
   "execution_count": 197,
   "metadata": {
    "run_control": {
     "frozen": false,
     "read_only": false
    }
   },
   "outputs": [
    {
     "data": {
      "text/html": [
       "<dl>\n",
       "\t<dt>$Diet1</dt>\n",
       "\t\t<dd>3.66666666666667</dd>\n",
       "\t<dt>$Diet2</dt>\n",
       "\t\t<dd>6.33333333333333</dd>\n",
       "\t<dt>$Diet3</dt>\n",
       "\t\t<dd>3.66666666666667</dd>\n",
       "\t<dt>$Diet4</dt>\n",
       "\t\t<dd>2.66666666666667</dd>\n",
       "</dl>\n"
      ],
      "text/latex": [
       "\\begin{description}\n",
       "\\item[\\$Diet1] 3.66666666666667\n",
       "\\item[\\$Diet2] 6.33333333333333\n",
       "\\item[\\$Diet3] 3.66666666666667\n",
       "\\item[\\$Diet4] 2.66666666666667\n",
       "\\end{description}\n"
      ],
      "text/markdown": [
       "$Diet1\n",
       ":   3.66666666666667\n",
       "$Diet2\n",
       ":   6.33333333333333\n",
       "$Diet3\n",
       ":   3.66666666666667\n",
       "$Diet4\n",
       ":   2.66666666666667\n",
       "\n",
       "\n"
      ],
      "text/plain": [
       "$Diet1\n",
       "[1] 3.666667\n",
       "\n",
       "$Diet2\n",
       "[1] 6.333333\n",
       "\n",
       "$Diet3\n",
       "[1] 3.666667\n",
       "\n",
       "$Diet4\n",
       "[1] 2.666667\n"
      ]
     },
     "metadata": {},
     "output_type": "display_data"
    }
   ],
   "source": [
    "lapply(CAGO.list, mean)"
   ]
  },
  {
   "cell_type": "markdown",
   "metadata": {},
   "source": [
    "* convert list to **data frame** and check whether `lapply()` is working for data frames or not"
   ]
  },
  {
   "cell_type": "code",
   "execution_count": 198,
   "metadata": {
    "run_control": {
     "frozen": false,
     "read_only": false
    }
   },
   "outputs": [],
   "source": [
    "CAGO.df <- as.data.frame(CAGO.list)"
   ]
  },
  {
   "cell_type": "code",
   "execution_count": 199,
   "metadata": {
    "run_control": {
     "frozen": false,
     "read_only": false
    }
   },
   "outputs": [
    {
     "data": {
      "text/html": [
       "<table>\n",
       "<thead><tr><th scope=col>Diet1</th><th scope=col>Diet2</th><th scope=col>Diet3</th><th scope=col>Diet4</th></tr></thead>\n",
       "<tbody>\n",
       "\t<tr><td>2</td><td>8</td><td>3</td><td>2</td></tr>\n",
       "\t<tr><td>5</td><td>5</td><td>4</td><td>2</td></tr>\n",
       "\t<tr><td>4</td><td>6</td><td>2</td><td>3</td></tr>\n",
       "\t<tr><td>3</td><td>5</td><td>5</td><td>2</td></tr>\n",
       "\t<tr><td>5</td><td>7</td><td>2</td><td>5</td></tr>\n",
       "\t<tr><td>3</td><td>7</td><td>6</td><td>2</td></tr>\n",
       "</tbody>\n",
       "</table>\n"
      ],
      "text/latex": [
       "\\begin{tabular}{r|llll}\n",
       " Diet1 & Diet2 & Diet3 & Diet4\\\\\n",
       "\\hline\n",
       "\t 2 & 8 & 3 & 2\\\\\n",
       "\t 5 & 5 & 4 & 2\\\\\n",
       "\t 4 & 6 & 2 & 3\\\\\n",
       "\t 3 & 5 & 5 & 2\\\\\n",
       "\t 5 & 7 & 2 & 5\\\\\n",
       "\t 3 & 7 & 6 & 2\\\\\n",
       "\\end{tabular}\n"
      ],
      "text/markdown": [
       "\n",
       "Diet1 | Diet2 | Diet3 | Diet4 | \n",
       "|---|---|---|---|---|---|\n",
       "| 2 | 8 | 3 | 2 | \n",
       "| 5 | 5 | 4 | 2 | \n",
       "| 4 | 6 | 2 | 3 | \n",
       "| 3 | 5 | 5 | 2 | \n",
       "| 5 | 7 | 2 | 5 | \n",
       "| 3 | 7 | 6 | 2 | \n",
       "\n",
       "\n"
      ],
      "text/plain": [
       "  Diet1 Diet2 Diet3 Diet4\n",
       "1 2     8     3     2    \n",
       "2 5     5     4     2    \n",
       "3 4     6     2     3    \n",
       "4 3     5     5     2    \n",
       "5 5     7     2     5    \n",
       "6 3     7     6     2    "
      ]
     },
     "metadata": {},
     "output_type": "display_data"
    }
   ],
   "source": [
    "CAGO.df"
   ]
  },
  {
   "cell_type": "code",
   "execution_count": 200,
   "metadata": {
    "run_control": {
     "frozen": false,
     "read_only": false
    },
    "scrolled": true
   },
   "outputs": [
    {
     "data": {
      "text/html": [
       "<dl>\n",
       "\t<dt>$Diet1</dt>\n",
       "\t\t<dd>3.66666666666667</dd>\n",
       "\t<dt>$Diet2</dt>\n",
       "\t\t<dd>6.33333333333333</dd>\n",
       "\t<dt>$Diet3</dt>\n",
       "\t\t<dd>3.66666666666667</dd>\n",
       "\t<dt>$Diet4</dt>\n",
       "\t\t<dd>2.66666666666667</dd>\n",
       "</dl>\n"
      ],
      "text/latex": [
       "\\begin{description}\n",
       "\\item[\\$Diet1] 3.66666666666667\n",
       "\\item[\\$Diet2] 6.33333333333333\n",
       "\\item[\\$Diet3] 3.66666666666667\n",
       "\\item[\\$Diet4] 2.66666666666667\n",
       "\\end{description}\n"
      ],
      "text/markdown": [
       "$Diet1\n",
       ":   3.66666666666667\n",
       "$Diet2\n",
       ":   6.33333333333333\n",
       "$Diet3\n",
       ":   3.66666666666667\n",
       "$Diet4\n",
       ":   2.66666666666667\n",
       "\n",
       "\n"
      ],
      "text/plain": [
       "$Diet1\n",
       "[1] 3.666667\n",
       "\n",
       "$Diet2\n",
       "[1] 6.333333\n",
       "\n",
       "$Diet3\n",
       "[1] 3.666667\n",
       "\n",
       "$Diet4\n",
       "[1] 2.666667\n"
      ]
     },
     "metadata": {},
     "output_type": "display_data"
    }
   ],
   "source": [
    "lapply(CAGO.df, mean) # without specifying margins it calculate as column wise "
   ]
  },
  {
   "cell_type": "markdown",
   "metadata": {},
   "source": [
    "* We can apply on **vector** as well using `lappply()`"
   ]
  },
  {
   "cell_type": "code",
   "execution_count": 201,
   "metadata": {
    "run_control": {
     "frozen": false,
     "read_only": false
    }
   },
   "outputs": [],
   "source": [
    "Random <- c(\"This\", \"Is\", \"a\", \"Random\", \"Vector\")"
   ]
  },
  {
   "cell_type": "code",
   "execution_count": 202,
   "metadata": {
    "run_control": {
     "frozen": false,
     "read_only": false
    }
   },
   "outputs": [
    {
     "data": {
      "text/html": [
       "<ol>\n",
       "\t<li>4</li>\n",
       "\t<li>2</li>\n",
       "\t<li>1</li>\n",
       "\t<li>6</li>\n",
       "\t<li>6</li>\n",
       "</ol>\n"
      ],
      "text/latex": [
       "\\begin{enumerate}\n",
       "\\item 4\n",
       "\\item 2\n",
       "\\item 1\n",
       "\\item 6\n",
       "\\item 6\n",
       "\\end{enumerate}\n"
      ],
      "text/markdown": [
       "1. 4\n",
       "2. 2\n",
       "3. 1\n",
       "4. 6\n",
       "5. 6\n",
       "\n",
       "\n"
      ],
      "text/plain": [
       "[[1]]\n",
       "[1] 4\n",
       "\n",
       "[[2]]\n",
       "[1] 2\n",
       "\n",
       "[[3]]\n",
       "[1] 1\n",
       "\n",
       "[[4]]\n",
       "[1] 6\n",
       "\n",
       "[[5]]\n",
       "[1] 6\n"
      ]
     },
     "metadata": {},
     "output_type": "display_data"
    }
   ],
   "source": [
    "lapply(Random,nchar)"
   ]
  },
  {
   "cell_type": "code",
   "execution_count": 203,
   "metadata": {
    "run_control": {
     "frozen": false,
     "read_only": false
    }
   },
   "outputs": [
    {
     "data": {
      "text/html": [
       "<ol>\n",
       "\t<li>'THIS'</li>\n",
       "\t<li>'IS'</li>\n",
       "\t<li>'A'</li>\n",
       "\t<li>'RANDOM'</li>\n",
       "\t<li>'VECTOR'</li>\n",
       "</ol>\n"
      ],
      "text/latex": [
       "\\begin{enumerate}\n",
       "\\item 'THIS'\n",
       "\\item 'IS'\n",
       "\\item 'A'\n",
       "\\item 'RANDOM'\n",
       "\\item 'VECTOR'\n",
       "\\end{enumerate}\n"
      ],
      "text/markdown": [
       "1. 'THIS'\n",
       "2. 'IS'\n",
       "3. 'A'\n",
       "4. 'RANDOM'\n",
       "5. 'VECTOR'\n",
       "\n",
       "\n"
      ],
      "text/plain": [
       "[[1]]\n",
       "[1] \"THIS\"\n",
       "\n",
       "[[2]]\n",
       "[1] \"IS\"\n",
       "\n",
       "[[3]]\n",
       "[1] \"A\"\n",
       "\n",
       "[[4]]\n",
       "[1] \"RANDOM\"\n",
       "\n",
       "[[5]]\n",
       "[1] \"VECTOR\"\n"
      ]
     },
     "metadata": {},
     "output_type": "display_data"
    }
   ],
   "source": [
    "lapply(Random,toupper)"
   ]
  },
  {
   "cell_type": "markdown",
   "metadata": {
    "slideshow": {
     "slide_type": "slide"
    }
   },
   "source": [
    "### saplly\n",
    "* When you want to apply a function to each element of a list in turn, but you want avector back, rather than a list\n",
    " "
   ]
  },
  {
   "cell_type": "code",
   "execution_count": 204,
   "metadata": {
    "run_control": {
     "frozen": false,
     "read_only": false
    },
    "slideshow": {
     "slide_type": "subslide"
    }
   },
   "outputs": [
    {
     "data": {
      "text/html": [
       "<ol class=list-inline>\n",
       "\t<li>1</li>\n",
       "\t<li>4</li>\n",
       "\t<li>9</li>\n",
       "</ol>\n"
      ],
      "text/latex": [
       "\\begin{enumerate*}\n",
       "\\item 1\n",
       "\\item 4\n",
       "\\item 9\n",
       "\\end{enumerate*}\n"
      ],
      "text/markdown": [
       "1. 1\n",
       "2. 4\n",
       "3. 9\n",
       "\n",
       "\n"
      ],
      "text/plain": [
       "[1] 1 4 9"
      ]
     },
     "metadata": {},
     "output_type": "display_data"
    }
   ],
   "source": [
    "sapply(1:3, function(x) x^2)"
   ]
  },
  {
   "cell_type": "code",
   "execution_count": 205,
   "metadata": {
    "run_control": {
     "frozen": false,
     "read_only": false
    },
    "scrolled": true,
    "slideshow": {
     "slide_type": "subslide"
    }
   },
   "outputs": [
    {
     "name": "stdout",
     "output_type": "stream",
     "text": [
      "[[1]]\n",
      "[1] 1\n",
      "\n",
      "[[2]]\n",
      "[1] 4\n",
      "\n",
      "[[3]]\n",
      "[1] 9\n",
      "\n"
     ]
    }
   ],
   "source": [
    "print(sapply(1:3, function(x) x^2,simplify = FALSE))"
   ]
  },
  {
   "cell_type": "markdown",
   "metadata": {},
   "source": [
    "* apply `sapply()` on `CAGO.list` and `CAGO.df`"
   ]
  },
  {
   "cell_type": "code",
   "execution_count": 206,
   "metadata": {
    "run_control": {
     "frozen": false,
     "read_only": false
    }
   },
   "outputs": [
    {
     "name": "stdout",
     "output_type": "stream",
     "text": [
      "   Diet1    Diet2    Diet3    Diet4 \n",
      "3.666667 6.333333 3.666667 2.666667 \n"
     ]
    }
   ],
   "source": [
    "print(sapply(CAGO.list, mean)) # output as a vector"
   ]
  },
  {
   "cell_type": "code",
   "execution_count": 207,
   "metadata": {
    "run_control": {
     "frozen": false,
     "read_only": false
    },
    "scrolled": false
   },
   "outputs": [
    {
     "name": "stdout",
     "output_type": "stream",
     "text": [
      "   Diet1    Diet2    Diet3    Diet4 \n",
      "3.666667 6.333333 3.666667 2.666667 \n"
     ]
    }
   ],
   "source": [
    "print(sapply(CAGO.df, mean)) # output as a vector"
   ]
  },
  {
   "cell_type": "code",
   "execution_count": 208,
   "metadata": {
    "run_control": {
     "frozen": false,
     "read_only": false
    }
   },
   "outputs": [
    {
     "name": "stdout",
     "output_type": "stream",
     "text": [
      "  This     Is      a Random Vector \n",
      "     4      2      1      6      6 \n"
     ]
    }
   ],
   "source": [
    "print(sapply(Random, nchar)) # displayed each element name as heading"
   ]
  },
  {
   "cell_type": "markdown",
   "metadata": {},
   "source": [
    "* **using user defiend functions**"
   ]
  },
  {
   "cell_type": "code",
   "execution_count": 209,
   "metadata": {
    "run_control": {
     "frozen": false,
     "read_only": false
    }
   },
   "outputs": [],
   "source": [
    "seqchar <- function(x){\n",
    "    seq(nchar(x))\n",
    "}"
   ]
  },
  {
   "cell_type": "code",
   "execution_count": 210,
   "metadata": {
    "run_control": {
     "frozen": false,
     "read_only": false
    }
   },
   "outputs": [
    {
     "name": "stdout",
     "output_type": "stream",
     "text": [
      "$This\n",
      "[1] 1 2 3 4\n",
      "\n",
      "$Is\n",
      "[1] 1 2\n",
      "\n",
      "$a\n",
      "[1] 1\n",
      "\n",
      "$Random\n",
      "[1] 1 2 3 4 5 6\n",
      "\n",
      "$Vector\n",
      "[1] 1 2 3 4 5 6\n",
      "\n"
     ]
    }
   ],
   "source": [
    "print(sapply(Random, seqchar))"
   ]
  },
  {
   "cell_type": "markdown",
   "metadata": {
    "slideshow": {
     "slide_type": "slide"
    }
   },
   "source": [
    "### taplly"
   ]
  },
  {
   "cell_type": "code",
   "execution_count": 211,
   "metadata": {
    "run_control": {
     "frozen": false,
     "read_only": false
    },
    "slideshow": {
     "slide_type": "subslide"
    }
   },
   "outputs": [
    {
     "name": "stdout",
     "output_type": "stream",
     "text": [
      "       4        6        8 \n",
      "2.285727 3.117143 3.999214 \n"
     ]
    }
   ],
   "source": [
    "print(tapply(mtcars$wt,mtcars$cyl,mean))"
   ]
  },
  {
   "cell_type": "code",
   "execution_count": 212,
   "metadata": {
    "run_control": {
     "frozen": false,
     "read_only": false
    },
    "scrolled": true,
    "slideshow": {
     "slide_type": "subslide"
    }
   },
   "outputs": [
    {
     "name": "stdout",
     "output_type": "stream",
     "text": [
      "    setosa versicolor  virginica \n",
      "     5.006      5.936      6.588 \n"
     ]
    }
   ],
   "source": [
    "print(tapply(iris$Sepal.Length,iris$Species,mean))"
   ]
  },
  {
   "cell_type": "code",
   "execution_count": 213,
   "metadata": {
    "run_control": {
     "frozen": false,
     "read_only": false
    },
    "scrolled": true,
    "slideshow": {
     "slide_type": "subslide"
    }
   },
   "outputs": [
    {
     "name": "stdout",
     "output_type": "stream",
     "text": [
      "    setosa versicolor  virginica \n",
      "     5.006      5.936      6.588 \n"
     ]
    }
   ],
   "source": [
    "print(tapply(iris$Sepal.Length,iris$Species,mean))"
   ]
  },
  {
   "cell_type": "code",
   "execution_count": 214,
   "metadata": {
    "run_control": {
     "frozen": false,
     "read_only": false
    },
    "slideshow": {
     "slide_type": "subslide"
    }
   },
   "outputs": [
    {
     "data": {
      "text/html": [
       "<dl>\n",
       "\t<dt>$setosa</dt>\n",
       "\t\t<dd>5.006</dd>\n",
       "\t<dt>$versicolor</dt>\n",
       "\t\t<dd>5.936</dd>\n",
       "\t<dt>$virginica</dt>\n",
       "\t\t<dd>6.588</dd>\n",
       "</dl>\n"
      ],
      "text/latex": [
       "\\begin{description}\n",
       "\\item[\\$setosa] 5.006\n",
       "\\item[\\$versicolor] 5.936\n",
       "\\item[\\$virginica] 6.588\n",
       "\\end{description}\n"
      ],
      "text/markdown": [
       "$setosa\n",
       ":   5.006\n",
       "$versicolor\n",
       ":   5.936\n",
       "$virginica\n",
       ":   6.588\n",
       "\n",
       "\n"
      ],
      "text/plain": [
       "$setosa\n",
       "[1] 5.006\n",
       "\n",
       "$versicolor\n",
       "[1] 5.936\n",
       "\n",
       "$virginica\n",
       "[1] 6.588\n"
      ]
     },
     "metadata": {},
     "output_type": "display_data"
    }
   ],
   "source": [
    "# Without simplification, tapply always returns a list.\n",
    "tapply(iris$Sepal.Length,iris$Species,mean, simplify = FALSE)"
   ]
  },
  {
   "cell_type": "code",
   "execution_count": 215,
   "metadata": {
    "run_control": {
     "frozen": false,
     "read_only": false
    },
    "scrolled": false,
    "slideshow": {
     "slide_type": "subslide"
    }
   },
   "outputs": [
    {
     "data": {
      "text/html": [
       "<dl>\n",
       "\t<dt>$setosa</dt>\n",
       "\t\t<dd>5.006</dd>\n",
       "\t<dt>$versicolor</dt>\n",
       "\t\t<dd>5.936</dd>\n",
       "\t<dt>$virginica</dt>\n",
       "\t\t<dd>6.588</dd>\n",
       "</dl>\n"
      ],
      "text/latex": [
       "\\begin{description}\n",
       "\\item[\\$setosa] 5.006\n",
       "\\item[\\$versicolor] 5.936\n",
       "\\item[\\$virginica] 6.588\n",
       "\\end{description}\n"
      ],
      "text/markdown": [
       "$setosa\n",
       ":   5.006\n",
       "$versicolor\n",
       ":   5.936\n",
       "$virginica\n",
       ":   6.588\n",
       "\n",
       "\n"
      ],
      "text/plain": [
       "$setosa\n",
       "[1] 5.006\n",
       "\n",
       "$versicolor\n",
       "[1] 5.936\n",
       "\n",
       "$virginica\n",
       "[1] 6.588\n"
      ]
     },
     "metadata": {},
     "output_type": "display_data"
    }
   ],
   "source": [
    "# split function splits a vector into groups using a factor.Using split \n",
    "# and then applying a function with lapply produces the same result as tapply\n",
    "lapply(split(iris$Sepal.Length,iris$Species), mean) # Instead of tapply"
   ]
  },
  {
   "cell_type": "markdown",
   "metadata": {
    "run_control": {
     "marked": false
    }
   },
   "source": [
    "**When to use theses functions:** https://www.r-bloggers.com/2012/12/using-apply-sapply-lapply-in-r/  \n",
    "**StackOverflow answer on sapply, vapply, tapply etc.:** https://stackoverflow.com/questions/3505701/grouping-functions-tapply-by-aggregate-and-the-apply-family  "
   ]
  },
  {
   "cell_type": "markdown",
   "metadata": {
    "slideshow": {
     "slide_type": "slide"
    }
   },
   "source": [
    "### aggregate\n",
    "* The aggregate function splits the data into subsets and computes summary statistics for each of them. \n",
    "* The output of aggregate is a data.frame, including a column for species.\n",
    "* We can go above and beyon what `tapply()` can do"
   ]
  },
  {
   "cell_type": "code",
   "execution_count": 216,
   "metadata": {
    "run_control": {
     "frozen": false,
     "read_only": false
    },
    "scrolled": true,
    "slideshow": {
     "slide_type": "subslide"
    }
   },
   "outputs": [],
   "source": [
    "# ?tapply\n",
    "# ?aggregate"
   ]
  },
  {
   "cell_type": "code",
   "execution_count": 217,
   "metadata": {
    "run_control": {
     "frozen": false,
     "read_only": false
    },
    "slideshow": {
     "slide_type": "subslide"
    }
   },
   "outputs": [
    {
     "data": {
      "text/html": [
       "<table>\n",
       "<thead><tr><th scope=col>Species</th><th scope=col>Sepal.Length</th><th scope=col>Sepal.Width</th><th scope=col>Petal.Length</th><th scope=col>Petal.Width</th></tr></thead>\n",
       "<tbody>\n",
       "\t<tr><td>setosa    </td><td>5.006     </td><td>3.428     </td><td>1.462     </td><td>0.246     </td></tr>\n",
       "\t<tr><td>versicolor</td><td>5.936     </td><td>2.770     </td><td>4.260     </td><td>1.326     </td></tr>\n",
       "\t<tr><td>virginica </td><td>6.588     </td><td>2.974     </td><td>5.552     </td><td>2.026     </td></tr>\n",
       "</tbody>\n",
       "</table>\n"
      ],
      "text/latex": [
       "\\begin{tabular}{r|lllll}\n",
       " Species & Sepal.Length & Sepal.Width & Petal.Length & Petal.Width\\\\\n",
       "\\hline\n",
       "\t setosa     & 5.006      & 3.428      & 1.462      & 0.246     \\\\\n",
       "\t versicolor & 5.936      & 2.770      & 4.260      & 1.326     \\\\\n",
       "\t virginica  & 6.588      & 2.974      & 5.552      & 2.026     \\\\\n",
       "\\end{tabular}\n"
      ],
      "text/markdown": [
       "\n",
       "Species | Sepal.Length | Sepal.Width | Petal.Length | Petal.Width | \n",
       "|---|---|---|\n",
       "| setosa     | 5.006      | 3.428      | 1.462      | 0.246      | \n",
       "| versicolor | 5.936      | 2.770      | 4.260      | 1.326      | \n",
       "| virginica  | 6.588      | 2.974      | 5.552      | 2.026      | \n",
       "\n",
       "\n"
      ],
      "text/plain": [
       "  Species    Sepal.Length Sepal.Width Petal.Length Petal.Width\n",
       "1 setosa     5.006        3.428       1.462        0.246      \n",
       "2 versicolor 5.936        2.770       4.260        1.326      \n",
       "3 virginica  6.588        2.974       5.552        2.026      "
      ]
     },
     "metadata": {},
     "output_type": "display_data"
    }
   ],
   "source": [
    "iris.x <- subset(iris, select= -Species) # subsetting without Species\n",
    "iris.s <- subset(iris, select= Species) # subsetting only Species\n",
    "aggregate(iris.x, iris.s, mean)\n"
   ]
  },
  {
   "cell_type": "code",
   "execution_count": 218,
   "metadata": {
    "run_control": {
     "frozen": false,
     "read_only": false
    },
    "slideshow": {
     "slide_type": "subslide"
    }
   },
   "outputs": [
    {
     "data": {
      "text/html": [
       "<table>\n",
       "<thead><tr><th scope=col>Group.1</th><th scope=col>mpg</th><th scope=col>cyl</th><th scope=col>disp</th><th scope=col>hp</th><th scope=col>drat</th><th scope=col>wt</th><th scope=col>qsec</th><th scope=col>vs</th><th scope=col>am</th><th scope=col>gear</th><th scope=col>carb</th></tr></thead>\n",
       "<tbody>\n",
       "\t<tr><td>1     </td><td>22.80 </td><td>4     </td><td>108.00</td><td> 93   </td><td>3.850 </td><td>2.320 </td><td>19.470</td><td>1.0   </td><td>1     </td><td>4.0   </td><td>1     </td></tr>\n",
       "\t<tr><td>2     </td><td>22.10 </td><td>4     </td><td>143.75</td><td>111   </td><td>3.730 </td><td>3.170 </td><td>17.175</td><td>0.5   </td><td>0     </td><td>4.0   </td><td>2     </td></tr>\n",
       "\t<tr><td>3     </td><td>16.40 </td><td>8     </td><td>275.80</td><td>180   </td><td>3.070 </td><td>3.780 </td><td>17.600</td><td>0.0   </td><td>0     </td><td>3.0   </td><td>3     </td></tr>\n",
       "\t<tr><td>4     </td><td>15.25 </td><td>8     </td><td>350.50</td><td>210   </td><td>3.815 </td><td>3.505 </td><td>17.220</td><td>0.0   </td><td>0     </td><td>3.5   </td><td>4     </td></tr>\n",
       "\t<tr><td>6     </td><td>19.70 </td><td>6     </td><td>145.00</td><td>175   </td><td>3.620 </td><td>2.770 </td><td>15.500</td><td>0.0   </td><td>1     </td><td>5.0   </td><td>6     </td></tr>\n",
       "\t<tr><td>8     </td><td>15.00 </td><td>8     </td><td>301.00</td><td>335   </td><td>3.540 </td><td>3.570 </td><td>14.600</td><td>0.0   </td><td>1     </td><td>5.0   </td><td>8     </td></tr>\n",
       "</tbody>\n",
       "</table>\n"
      ],
      "text/latex": [
       "\\begin{tabular}{r|llllllllllll}\n",
       " Group.1 & mpg & cyl & disp & hp & drat & wt & qsec & vs & am & gear & carb\\\\\n",
       "\\hline\n",
       "\t 1      & 22.80  & 4      & 108.00 &  93    & 3.850  & 2.320  & 19.470 & 1.0    & 1      & 4.0    & 1     \\\\\n",
       "\t 2      & 22.10  & 4      & 143.75 & 111    & 3.730  & 3.170  & 17.175 & 0.5    & 0      & 4.0    & 2     \\\\\n",
       "\t 3      & 16.40  & 8      & 275.80 & 180    & 3.070  & 3.780  & 17.600 & 0.0    & 0      & 3.0    & 3     \\\\\n",
       "\t 4      & 15.25  & 8      & 350.50 & 210    & 3.815  & 3.505  & 17.220 & 0.0    & 0      & 3.5    & 4     \\\\\n",
       "\t 6      & 19.70  & 6      & 145.00 & 175    & 3.620  & 2.770  & 15.500 & 0.0    & 1      & 5.0    & 6     \\\\\n",
       "\t 8      & 15.00  & 8      & 301.00 & 335    & 3.540  & 3.570  & 14.600 & 0.0    & 1      & 5.0    & 8     \\\\\n",
       "\\end{tabular}\n"
      ],
      "text/markdown": [
       "\n",
       "Group.1 | mpg | cyl | disp | hp | drat | wt | qsec | vs | am | gear | carb | \n",
       "|---|---|---|---|---|---|\n",
       "| 1      | 22.80  | 4      | 108.00 |  93    | 3.850  | 2.320  | 19.470 | 1.0    | 1      | 4.0    | 1      | \n",
       "| 2      | 22.10  | 4      | 143.75 | 111    | 3.730  | 3.170  | 17.175 | 0.5    | 0      | 4.0    | 2      | \n",
       "| 3      | 16.40  | 8      | 275.80 | 180    | 3.070  | 3.780  | 17.600 | 0.0    | 0      | 3.0    | 3      | \n",
       "| 4      | 15.25  | 8      | 350.50 | 210    | 3.815  | 3.505  | 17.220 | 0.0    | 0      | 3.5    | 4      | \n",
       "| 6      | 19.70  | 6      | 145.00 | 175    | 3.620  | 2.770  | 15.500 | 0.0    | 1      | 5.0    | 6      | \n",
       "| 8      | 15.00  | 8      | 301.00 | 335    | 3.540  | 3.570  | 14.600 | 0.0    | 1      | 5.0    | 8      | \n",
       "\n",
       "\n"
      ],
      "text/plain": [
       "  Group.1 mpg   cyl disp   hp  drat  wt    qsec   vs  am gear carb\n",
       "1 1       22.80 4   108.00  93 3.850 2.320 19.470 1.0 1  4.0  1   \n",
       "2 2       22.10 4   143.75 111 3.730 3.170 17.175 0.5 0  4.0  2   \n",
       "3 3       16.40 8   275.80 180 3.070 3.780 17.600 0.0 0  3.0  3   \n",
       "4 4       15.25 8   350.50 210 3.815 3.505 17.220 0.0 0  3.5  4   \n",
       "5 6       19.70 6   145.00 175 3.620 2.770 15.500 0.0 1  5.0  6   \n",
       "6 8       15.00 8   301.00 335 3.540 3.570 14.600 0.0 1  5.0  8   "
      ]
     },
     "metadata": {},
     "output_type": "display_data"
    }
   ],
   "source": [
    "aggregate(x = mtcars, by = list(mtcars$carb), FUN = median)"
   ]
  },
  {
   "cell_type": "code",
   "execution_count": 219,
   "metadata": {
    "run_control": {
     "frozen": false,
     "read_only": false
    },
    "slideshow": {
     "slide_type": "subslide"
    }
   },
   "outputs": [
    {
     "data": {
      "text/html": [
       "<table>\n",
       "<thead><tr><th scope=col>Group.1</th><th scope=col>Group.2</th><th scope=col>v1</th><th scope=col>v2</th></tr></thead>\n",
       "<tbody>\n",
       "\t<tr><td>1   </td><td>95  </td><td> 5  </td><td>55  </td></tr>\n",
       "\t<tr><td>2   </td><td>95  </td><td> 7  </td><td>77  </td></tr>\n",
       "\t<tr><td>1   </td><td>99  </td><td> 5  </td><td>55  </td></tr>\n",
       "\t<tr><td>2   </td><td>99  </td><td>NA  </td><td>NA  </td></tr>\n",
       "\t<tr><td>big </td><td>damp</td><td> 3  </td><td>33  </td></tr>\n",
       "\t<tr><td>blue</td><td>dry </td><td> 3  </td><td>33  </td></tr>\n",
       "\t<tr><td>red </td><td>red </td><td> 4  </td><td>44  </td></tr>\n",
       "\t<tr><td>red </td><td>wet </td><td> 1  </td><td>11  </td></tr>\n",
       "</tbody>\n",
       "</table>\n"
      ],
      "text/latex": [
       "\\begin{tabular}{r|llll}\n",
       " Group.1 & Group.2 & v1 & v2\\\\\n",
       "\\hline\n",
       "\t 1    & 95   &  5   & 55  \\\\\n",
       "\t 2    & 95   &  7   & 77  \\\\\n",
       "\t 1    & 99   &  5   & 55  \\\\\n",
       "\t 2    & 99   & NA   & NA  \\\\\n",
       "\t big  & damp &  3   & 33  \\\\\n",
       "\t blue & dry  &  3   & 33  \\\\\n",
       "\t red  & red  &  4   & 44  \\\\\n",
       "\t red  & wet  &  1   & 11  \\\\\n",
       "\\end{tabular}\n"
      ],
      "text/markdown": [
       "\n",
       "Group.1 | Group.2 | v1 | v2 | \n",
       "|---|---|---|---|---|---|---|---|\n",
       "| 1    | 95   |  5   | 55   | \n",
       "| 2    | 95   |  7   | 77   | \n",
       "| 1    | 99   |  5   | 55   | \n",
       "| 2    | 99   | NA   | NA   | \n",
       "| big  | damp |  3   | 33   | \n",
       "| blue | dry  |  3   | 33   | \n",
       "| red  | red  |  4   | 44   | \n",
       "| red  | wet  |  1   | 11   | \n",
       "\n",
       "\n"
      ],
      "text/plain": [
       "  Group.1 Group.2 v1 v2\n",
       "1 1       95       5 55\n",
       "2 2       95       7 77\n",
       "3 1       99       5 55\n",
       "4 2       99      NA NA\n",
       "5 big     damp     3 33\n",
       "6 blue    dry      3 33\n",
       "7 red     red      4 44\n",
       "8 red     wet      1 11"
      ]
     },
     "metadata": {},
     "output_type": "display_data"
    }
   ],
   "source": [
    "## example with character variables and NAs\n",
    "testDF <- data.frame(v1 = c(1,3,5,7,8,3,5,NA,4,5,7,9),\n",
    "                     v2 = c(11,33,55,77,88,33,55,NA,44,55,77,99) )\n",
    "by1 <- c(\"red\", \"blue\", 1, 2, NA, \"big\", 1, 2, \"red\", 1, NA, 12)\n",
    "by2 <- c(\"wet\", \"dry\", 99, 95, NA, \"damp\", 95, 99, \"red\", 99, NA, NA)\n",
    "aggregate(x = testDF, by = list(by1, by2), FUN = \"mean\")\n"
   ]
  },
  {
   "cell_type": "code",
   "execution_count": 220,
   "metadata": {
    "run_control": {
     "frozen": false,
     "read_only": false
    },
    "slideshow": {
     "slide_type": "subslide"
    }
   },
   "outputs": [
    {
     "data": {
      "text/html": [
       "<table>\n",
       "<thead><tr><th scope=col>feed</th><th scope=col>weight</th></tr></thead>\n",
       "<tbody>\n",
       "\t<tr><td>casein   </td><td>323.5833 </td></tr>\n",
       "\t<tr><td>horsebean</td><td>160.2000 </td></tr>\n",
       "\t<tr><td>linseed  </td><td>218.7500 </td></tr>\n",
       "\t<tr><td>meatmeal </td><td>276.9091 </td></tr>\n",
       "\t<tr><td>soybean  </td><td>246.4286 </td></tr>\n",
       "\t<tr><td>sunflower</td><td>328.9167 </td></tr>\n",
       "</tbody>\n",
       "</table>\n"
      ],
      "text/latex": [
       "\\begin{tabular}{r|ll}\n",
       " feed & weight\\\\\n",
       "\\hline\n",
       "\t casein    & 323.5833 \\\\\n",
       "\t horsebean & 160.2000 \\\\\n",
       "\t linseed   & 218.7500 \\\\\n",
       "\t meatmeal  & 276.9091 \\\\\n",
       "\t soybean   & 246.4286 \\\\\n",
       "\t sunflower & 328.9167 \\\\\n",
       "\\end{tabular}\n"
      ],
      "text/markdown": [
       "\n",
       "feed | weight | \n",
       "|---|---|---|---|---|---|\n",
       "| casein    | 323.5833  | \n",
       "| horsebean | 160.2000  | \n",
       "| linseed   | 218.7500  | \n",
       "| meatmeal  | 276.9091  | \n",
       "| soybean   | 246.4286  | \n",
       "| sunflower | 328.9167  | \n",
       "\n",
       "\n"
      ],
      "text/plain": [
       "  feed      weight  \n",
       "1 casein    323.5833\n",
       "2 horsebean 160.2000\n",
       "3 linseed   218.7500\n",
       "4 meatmeal  276.9091\n",
       "5 soybean   246.4286\n",
       "6 sunflower 328.9167"
      ]
     },
     "metadata": {},
     "output_type": "display_data"
    },
    {
     "data": {
      "text/html": [
       "<table>\n",
       "<thead><tr><th scope=col>wool</th><th scope=col>tension</th><th scope=col>breaks</th></tr></thead>\n",
       "<tbody>\n",
       "\t<tr><td>A       </td><td>L       </td><td>44.55556</td></tr>\n",
       "\t<tr><td>B       </td><td>L       </td><td>28.22222</td></tr>\n",
       "\t<tr><td>A       </td><td>M       </td><td>24.00000</td></tr>\n",
       "\t<tr><td>B       </td><td>M       </td><td>28.77778</td></tr>\n",
       "\t<tr><td>A       </td><td>H       </td><td>24.55556</td></tr>\n",
       "\t<tr><td>B       </td><td>H       </td><td>18.77778</td></tr>\n",
       "</tbody>\n",
       "</table>\n"
      ],
      "text/latex": [
       "\\begin{tabular}{r|lll}\n",
       " wool & tension & breaks\\\\\n",
       "\\hline\n",
       "\t A        & L        & 44.55556\\\\\n",
       "\t B        & L        & 28.22222\\\\\n",
       "\t A        & M        & 24.00000\\\\\n",
       "\t B        & M        & 28.77778\\\\\n",
       "\t A        & H        & 24.55556\\\\\n",
       "\t B        & H        & 18.77778\\\\\n",
       "\\end{tabular}\n"
      ],
      "text/markdown": [
       "\n",
       "wool | tension | breaks | \n",
       "|---|---|---|---|---|---|\n",
       "| A        | L        | 44.55556 | \n",
       "| B        | L        | 28.22222 | \n",
       "| A        | M        | 24.00000 | \n",
       "| B        | M        | 28.77778 | \n",
       "| A        | H        | 24.55556 | \n",
       "| B        | H        | 18.77778 | \n",
       "\n",
       "\n"
      ],
      "text/plain": [
       "  wool tension breaks  \n",
       "1 A    L       44.55556\n",
       "2 B    L       28.22222\n",
       "3 A    M       24.00000\n",
       "4 B    M       28.77778\n",
       "5 A    H       24.55556\n",
       "6 B    H       18.77778"
      ]
     },
     "metadata": {},
     "output_type": "display_data"
    },
    {
     "data": {
      "text/html": [
       "<table>\n",
       "<thead><tr><th scope=col>Month</th><th scope=col>Ozone</th><th scope=col>Temp</th></tr></thead>\n",
       "<tbody>\n",
       "\t<tr><td>5       </td><td>23.61538</td><td>66.73077</td></tr>\n",
       "\t<tr><td>6       </td><td>29.44444</td><td>78.22222</td></tr>\n",
       "\t<tr><td>7       </td><td>59.11538</td><td>83.88462</td></tr>\n",
       "\t<tr><td>8       </td><td>59.96154</td><td>83.96154</td></tr>\n",
       "\t<tr><td>9       </td><td>31.44828</td><td>76.89655</td></tr>\n",
       "</tbody>\n",
       "</table>\n"
      ],
      "text/latex": [
       "\\begin{tabular}{r|lll}\n",
       " Month & Ozone & Temp\\\\\n",
       "\\hline\n",
       "\t 5        & 23.61538 & 66.73077\\\\\n",
       "\t 6        & 29.44444 & 78.22222\\\\\n",
       "\t 7        & 59.11538 & 83.88462\\\\\n",
       "\t 8        & 59.96154 & 83.96154\\\\\n",
       "\t 9        & 31.44828 & 76.89655\\\\\n",
       "\\end{tabular}\n"
      ],
      "text/markdown": [
       "\n",
       "Month | Ozone | Temp | \n",
       "|---|---|---|---|---|\n",
       "| 5        | 23.61538 | 66.73077 | \n",
       "| 6        | 29.44444 | 78.22222 | \n",
       "| 7        | 59.11538 | 83.88462 | \n",
       "| 8        | 59.96154 | 83.96154 | \n",
       "| 9        | 31.44828 | 76.89655 | \n",
       "\n",
       "\n"
      ],
      "text/plain": [
       "  Month Ozone    Temp    \n",
       "1 5     23.61538 66.73077\n",
       "2 6     29.44444 78.22222\n",
       "3 7     59.11538 83.88462\n",
       "4 8     59.96154 83.96154\n",
       "5 9     31.44828 76.89655"
      ]
     },
     "metadata": {},
     "output_type": "display_data"
    },
    {
     "data": {
      "text/html": [
       "<table>\n",
       "<thead><tr><th scope=col>alcgp</th><th scope=col>tobgp</th><th scope=col>ncases</th><th scope=col>ncontrols</th></tr></thead>\n",
       "<tbody>\n",
       "\t<tr><td>0-39g/day</td><td>0-9g/day </td><td> 9       </td><td>261      </td></tr>\n",
       "\t<tr><td>40-79    </td><td>0-9g/day </td><td>34       </td><td>179      </td></tr>\n",
       "\t<tr><td>80-119   </td><td>0-9g/day </td><td>19       </td><td> 61      </td></tr>\n",
       "\t<tr><td>120+     </td><td>0-9g/day </td><td>16       </td><td> 24      </td></tr>\n",
       "\t<tr><td>0-39g/day</td><td>10-19    </td><td>10       </td><td> 84      </td></tr>\n",
       "\t<tr><td>40-79    </td><td>10-19    </td><td>17       </td><td> 85      </td></tr>\n",
       "\t<tr><td>80-119   </td><td>10-19    </td><td>19       </td><td> 49      </td></tr>\n",
       "\t<tr><td>120+     </td><td>10-19    </td><td>12       </td><td> 18      </td></tr>\n",
       "\t<tr><td>0-39g/day</td><td>20-29    </td><td> 5       </td><td> 42      </td></tr>\n",
       "\t<tr><td>40-79    </td><td>20-29    </td><td>15       </td><td> 62      </td></tr>\n",
       "\t<tr><td>80-119   </td><td>20-29    </td><td> 6       </td><td> 16      </td></tr>\n",
       "\t<tr><td>120+     </td><td>20-29    </td><td> 7       </td><td> 12      </td></tr>\n",
       "\t<tr><td>0-39g/day</td><td>30+      </td><td> 5       </td><td> 28      </td></tr>\n",
       "\t<tr><td>40-79    </td><td>30+      </td><td> 9       </td><td> 29      </td></tr>\n",
       "\t<tr><td>80-119   </td><td>30+      </td><td> 7       </td><td> 12      </td></tr>\n",
       "\t<tr><td>120+     </td><td>30+      </td><td>10       </td><td> 13      </td></tr>\n",
       "</tbody>\n",
       "</table>\n"
      ],
      "text/latex": [
       "\\begin{tabular}{r|llll}\n",
       " alcgp & tobgp & ncases & ncontrols\\\\\n",
       "\\hline\n",
       "\t 0-39g/day & 0-9g/day  &  9        & 261      \\\\\n",
       "\t 40-79     & 0-9g/day  & 34        & 179      \\\\\n",
       "\t 80-119    & 0-9g/day  & 19        &  61      \\\\\n",
       "\t 120+      & 0-9g/day  & 16        &  24      \\\\\n",
       "\t 0-39g/day & 10-19     & 10        &  84      \\\\\n",
       "\t 40-79     & 10-19     & 17        &  85      \\\\\n",
       "\t 80-119    & 10-19     & 19        &  49      \\\\\n",
       "\t 120+      & 10-19     & 12        &  18      \\\\\n",
       "\t 0-39g/day & 20-29     &  5        &  42      \\\\\n",
       "\t 40-79     & 20-29     & 15        &  62      \\\\\n",
       "\t 80-119    & 20-29     &  6        &  16      \\\\\n",
       "\t 120+      & 20-29     &  7        &  12      \\\\\n",
       "\t 0-39g/day & 30+       &  5        &  28      \\\\\n",
       "\t 40-79     & 30+       &  9        &  29      \\\\\n",
       "\t 80-119    & 30+       &  7        &  12      \\\\\n",
       "\t 120+      & 30+       & 10        &  13      \\\\\n",
       "\\end{tabular}\n"
      ],
      "text/markdown": [
       "\n",
       "alcgp | tobgp | ncases | ncontrols | \n",
       "|---|---|---|---|---|---|---|---|---|---|---|---|---|---|---|---|\n",
       "| 0-39g/day | 0-9g/day  |  9        | 261       | \n",
       "| 40-79     | 0-9g/day  | 34        | 179       | \n",
       "| 80-119    | 0-9g/day  | 19        |  61       | \n",
       "| 120+      | 0-9g/day  | 16        |  24       | \n",
       "| 0-39g/day | 10-19     | 10        |  84       | \n",
       "| 40-79     | 10-19     | 17        |  85       | \n",
       "| 80-119    | 10-19     | 19        |  49       | \n",
       "| 120+      | 10-19     | 12        |  18       | \n",
       "| 0-39g/day | 20-29     |  5        |  42       | \n",
       "| 40-79     | 20-29     | 15        |  62       | \n",
       "| 80-119    | 20-29     |  6        |  16       | \n",
       "| 120+      | 20-29     |  7        |  12       | \n",
       "| 0-39g/day | 30+       |  5        |  28       | \n",
       "| 40-79     | 30+       |  9        |  29       | \n",
       "| 80-119    | 30+       |  7        |  12       | \n",
       "| 120+      | 30+       | 10        |  13       | \n",
       "\n",
       "\n"
      ],
      "text/plain": [
       "   alcgp     tobgp    ncases ncontrols\n",
       "1  0-39g/day 0-9g/day  9     261      \n",
       "2  40-79     0-9g/day 34     179      \n",
       "3  80-119    0-9g/day 19      61      \n",
       "4  120+      0-9g/day 16      24      \n",
       "5  0-39g/day 10-19    10      84      \n",
       "6  40-79     10-19    17      85      \n",
       "7  80-119    10-19    19      49      \n",
       "8  120+      10-19    12      18      \n",
       "9  0-39g/day 20-29     5      42      \n",
       "10 40-79     20-29    15      62      \n",
       "11 80-119    20-29     6      16      \n",
       "12 120+      20-29     7      12      \n",
       "13 0-39g/day 30+       5      28      \n",
       "14 40-79     30+       9      29      \n",
       "15 80-119    30+       7      12      \n",
       "16 120+      30+      10      13      "
      ]
     },
     "metadata": {},
     "output_type": "display_data"
    },
    {
     "data": {
      "text/html": [
       "<table>\n",
       "<thead><tr><th scope=col>Species</th><th scope=col>Sepal.Length</th><th scope=col>Sepal.Width</th><th scope=col>Petal.Length</th><th scope=col>Petal.Width</th></tr></thead>\n",
       "<tbody>\n",
       "\t<tr><td>setosa    </td><td>5.006     </td><td>3.428     </td><td>1.462     </td><td>0.246     </td></tr>\n",
       "\t<tr><td>versicolor</td><td>5.936     </td><td>2.770     </td><td>4.260     </td><td>1.326     </td></tr>\n",
       "\t<tr><td>virginica </td><td>6.588     </td><td>2.974     </td><td>5.552     </td><td>2.026     </td></tr>\n",
       "</tbody>\n",
       "</table>\n"
      ],
      "text/latex": [
       "\\begin{tabular}{r|lllll}\n",
       " Species & Sepal.Length & Sepal.Width & Petal.Length & Petal.Width\\\\\n",
       "\\hline\n",
       "\t setosa     & 5.006      & 3.428      & 1.462      & 0.246     \\\\\n",
       "\t versicolor & 5.936      & 2.770      & 4.260      & 1.326     \\\\\n",
       "\t virginica  & 6.588      & 2.974      & 5.552      & 2.026     \\\\\n",
       "\\end{tabular}\n"
      ],
      "text/markdown": [
       "\n",
       "Species | Sepal.Length | Sepal.Width | Petal.Length | Petal.Width | \n",
       "|---|---|---|\n",
       "| setosa     | 5.006      | 3.428      | 1.462      | 0.246      | \n",
       "| versicolor | 5.936      | 2.770      | 4.260      | 1.326      | \n",
       "| virginica  | 6.588      | 2.974      | 5.552      | 2.026      | \n",
       "\n",
       "\n"
      ],
      "text/plain": [
       "  Species    Sepal.Length Sepal.Width Petal.Length Petal.Width\n",
       "1 setosa     5.006        3.428       1.462        0.246      \n",
       "2 versicolor 5.936        2.770       4.260        1.326      \n",
       "3 virginica  6.588        2.974       5.552        2.026      "
      ]
     },
     "metadata": {},
     "output_type": "display_data"
    },
    {
     "data": {
      "text/html": [
       "<table>\n",
       "<thead><tr><th scope=col>supp</th><th scope=col>dose</th><th scope=col>len</th></tr></thead>\n",
       "<tbody>\n",
       "\t<tr><td>OJ   </td><td>0.5  </td><td>13.23</td></tr>\n",
       "\t<tr><td>VC   </td><td>0.5  </td><td> 7.98</td></tr>\n",
       "\t<tr><td>OJ   </td><td>1.0  </td><td>22.70</td></tr>\n",
       "\t<tr><td>VC   </td><td>1.0  </td><td>16.77</td></tr>\n",
       "\t<tr><td>OJ   </td><td>2.0  </td><td>26.06</td></tr>\n",
       "\t<tr><td>VC   </td><td>2.0  </td><td>26.14</td></tr>\n",
       "</tbody>\n",
       "</table>\n"
      ],
      "text/latex": [
       "\\begin{tabular}{r|lll}\n",
       " supp & dose & len\\\\\n",
       "\\hline\n",
       "\t OJ    & 0.5   & 13.23\\\\\n",
       "\t VC    & 0.5   &  7.98\\\\\n",
       "\t OJ    & 1.0   & 22.70\\\\\n",
       "\t VC    & 1.0   & 16.77\\\\\n",
       "\t OJ    & 2.0   & 26.06\\\\\n",
       "\t VC    & 2.0   & 26.14\\\\\n",
       "\\end{tabular}\n"
      ],
      "text/markdown": [
       "\n",
       "supp | dose | len | \n",
       "|---|---|---|---|---|---|\n",
       "| OJ    | 0.5   | 13.23 | \n",
       "| VC    | 0.5   |  7.98 | \n",
       "| OJ    | 1.0   | 22.70 | \n",
       "| VC    | 1.0   | 16.77 | \n",
       "| OJ    | 2.0   | 26.06 | \n",
       "| VC    | 2.0   | 26.14 | \n",
       "\n",
       "\n"
      ],
      "text/plain": [
       "  supp dose len  \n",
       "1 OJ   0.5  13.23\n",
       "2 VC   0.5   7.98\n",
       "3 OJ   1.0  22.70\n",
       "4 VC   1.0  16.77\n",
       "5 OJ   2.0  26.06\n",
       "6 VC   2.0  26.14"
      ]
     },
     "metadata": {},
     "output_type": "display_data"
    }
   ],
   "source": [
    "## Formulas, one ~ one, one ~ many, many ~ one, and many ~ many:\n",
    "aggregate(weight ~ feed, data = chickwts, mean)\n",
    "aggregate(breaks ~ wool + tension, data = warpbreaks, mean)\n",
    "aggregate(cbind(Ozone, Temp) ~ Month, data = airquality, mean)\n",
    "aggregate(cbind(ncases, ncontrols) ~ alcgp + tobgp, data = esoph, sum)\n",
    "\n",
    "## Dot notation:\n",
    "aggregate(. ~ Species, data = iris, mean)\n",
    "aggregate(len ~ ., data = ToothGrowth, mean)"
   ]
  },
  {
   "cell_type": "markdown",
   "metadata": {
    "slideshow": {
     "slide_type": "slide"
    }
   },
   "source": [
    "### Difference between how apply and sapply handles the data"
   ]
  },
  {
   "cell_type": "code",
   "execution_count": 221,
   "metadata": {
    "run_control": {
     "frozen": false,
     "read_only": false
    },
    "slideshow": {
     "slide_type": "subslide"
    }
   },
   "outputs": [],
   "source": [
    "df <- data.frame(ingr=c(\"2L\",6L, 7L),fctr=c(TRUE,FALSE,TRUE))"
   ]
  },
  {
   "cell_type": "code",
   "execution_count": 222,
   "metadata": {
    "run_control": {
     "frozen": false,
     "read_only": false
    },
    "slideshow": {
     "slide_type": "subslide"
    }
   },
   "outputs": [
    {
     "data": {
      "text/html": [
       "<dl class=dl-horizontal>\n",
       "\t<dt>ingr</dt>\n",
       "\t\t<dd>'character'</dd>\n",
       "\t<dt>fctr</dt>\n",
       "\t\t<dd>'character'</dd>\n",
       "</dl>\n"
      ],
      "text/latex": [
       "\\begin{description*}\n",
       "\\item[ingr] 'character'\n",
       "\\item[fctr] 'character'\n",
       "\\end{description*}\n"
      ],
      "text/markdown": [
       "ingr\n",
       ":   'character'fctr\n",
       ":   'character'\n",
       "\n"
      ],
      "text/plain": [
       "       ingr        fctr \n",
       "\"character\" \"character\" "
      ]
     },
     "metadata": {},
     "output_type": "display_data"
    },
    {
     "data": {
      "text/html": [
       "<dl class=dl-horizontal>\n",
       "\t<dt>ingr</dt>\n",
       "\t\t<dd>'factor'</dd>\n",
       "\t<dt>fctr</dt>\n",
       "\t\t<dd>'logical'</dd>\n",
       "</dl>\n"
      ],
      "text/latex": [
       "\\begin{description*}\n",
       "\\item[ingr] 'factor'\n",
       "\\item[fctr] 'logical'\n",
       "\\end{description*}\n"
      ],
      "text/markdown": [
       "ingr\n",
       ":   'factor'fctr\n",
       ":   'logical'\n",
       "\n"
      ],
      "text/plain": [
       "     ingr      fctr \n",
       " \"factor\" \"logical\" "
      ]
     },
     "metadata": {},
     "output_type": "display_data"
    }
   ],
   "source": [
    "apply(df,2,class)\n",
    "sapply(df,class)"
   ]
  },
  {
   "cell_type": "markdown",
   "metadata": {
    "slideshow": {
     "slide_type": "slide"
    }
   },
   "source": [
    "### mapply\n",
    "* Multivariate version of sapply\n",
    "* It applies FUN to the first elements of each (…) argument,  the second elements, the third elements, and so on.\n",
    "* Note that the **first argument of mapply() here is the name of a function**\n",
    "* advisable when you have several data structures (e.g. vectors, lists) and you want to apply a function over elements\n"
   ]
  },
  {
   "cell_type": "code",
   "execution_count": 223,
   "metadata": {
    "run_control": {
     "frozen": false,
     "read_only": false
    },
    "slideshow": {
     "slide_type": "subslide"
    }
   },
   "outputs": [
    {
     "name": "stdout",
     "output_type": "stream",
     "text": [
      " [1]  64  68  72  76  80  84  88  92  96 100\n"
     ]
    }
   ],
   "source": [
    "l1 <- list(a = c(1:10), b = c(11:20))\n",
    "l2 <- list(c = c(21:30), d = c(31:40))\n",
    "# sum the corresponding elements of l1 and l2\n",
    "print(mapply(sum, l1$a, l1$b, l2$c, l2$d))"
   ]
  },
  {
   "cell_type": "code",
   "execution_count": 224,
   "metadata": {
    "run_control": {
     "frozen": false,
     "read_only": false
    },
    "slideshow": {
     "slide_type": "subslide"
    }
   },
   "outputs": [
    {
     "name": "stdout",
     "output_type": "stream",
     "text": [
      "  a   b \n",
      " 55 155 \n"
     ]
    }
   ],
   "source": [
    "print(mapply(sum, l1))\n",
    "#sum(c(1:10)) "
   ]
  },
  {
   "cell_type": "code",
   "execution_count": 225,
   "metadata": {
    "run_control": {
     "frozen": false,
     "read_only": false
    },
    "slideshow": {
     "slide_type": "subslide"
    }
   },
   "outputs": [
    {
     "name": "stdout",
     "output_type": "stream",
     "text": [
      "  a   b \n",
      "310 510 \n"
     ]
    }
   ],
   "source": [
    "print(mapply(sum, l1,l2))\n",
    "#sum(c(1:10),c(21:30))"
   ]
  },
  {
   "cell_type": "code",
   "execution_count": 226,
   "metadata": {
    "run_control": {
     "frozen": false,
     "read_only": false
    },
    "slideshow": {
     "slide_type": "subslide"
    }
   },
   "outputs": [
    {
     "name": "stdout",
     "output_type": "stream",
     "text": [
      " [1] 12 14 16 18 20 22 24 26 28 30\n"
     ]
    }
   ],
   "source": [
    "print(mapply(sum, l1$a, l1$b))"
   ]
  },
  {
   "cell_type": "code",
   "execution_count": 227,
   "metadata": {
    "run_control": {
     "frozen": false,
     "read_only": false
    },
    "slideshow": {
     "slide_type": "subslide"
    }
   },
   "outputs": [
    {
     "name": "stdout",
     "output_type": "stream",
     "text": [
      " [1]  64  68  72  76  80  84  88  92  96 100\n"
     ]
    }
   ],
   "source": [
    "print(mapply(sum, l1$a, l1$b, l2$c, l2$d))"
   ]
  },
  {
   "cell_type": "code",
   "execution_count": 228,
   "metadata": {
    "run_control": {
     "frozen": false,
     "read_only": false
    },
    "scrolled": false,
    "slideshow": {
     "slide_type": "subslide"
    }
   },
   "outputs": [
    {
     "name": "stdout",
     "output_type": "stream",
     "text": [
      "[[1]]\n",
      "[1] 64\n",
      "\n",
      "[[2]]\n",
      "[1] 68\n",
      "\n",
      "[[3]]\n",
      "[1] 72\n",
      "\n",
      "[[4]]\n",
      "[1] 76\n",
      "\n",
      "[[5]]\n",
      "[1] 80\n",
      "\n",
      "[[6]]\n",
      "[1] 84\n",
      "\n",
      "[[7]]\n",
      "[1] 88\n",
      "\n",
      "[[8]]\n",
      "[1] 92\n",
      "\n",
      "[[9]]\n",
      "[1] 96\n",
      "\n",
      "[[10]]\n",
      "[1] 100\n",
      "\n"
     ]
    }
   ],
   "source": [
    "# Map - A wrapper to mapply with SIMPLIFY = FALSE, so it is guaranteed to return a list\n",
    "print(Map(sum, l1$a, l1$b, l2$c, l2$d))"
   ]
  },
  {
   "cell_type": "markdown",
   "metadata": {},
   "source": [
    "### do.call"
   ]
  },
  {
   "cell_type": "markdown",
   "metadata": {},
   "source": [
    "* Execute a Function Call\n",
    "* Calls and applies a function to the a list of arguments to be passed to it\n",
    "* do.call function applies a function to the entire list using each component as an argument. "
   ]
  },
  {
   "cell_type": "markdown",
   "metadata": {},
   "source": [
    "**Examples:**"
   ]
  },
  {
   "cell_type": "code",
   "execution_count": 229,
   "metadata": {
    "run_control": {
     "frozen": false,
     "read_only": false
    },
    "scrolled": true
   },
   "outputs": [
    {
     "name": "stdout",
     "output_type": "stream",
     "text": [
      "[[1]]\n",
      "[1] 1 2 3 4 5\n",
      "\n",
      "[[2]]\n",
      "[1]  6  7  8  9 10\n",
      "\n"
     ]
    }
   ],
   "source": [
    "x <- list(1:5, 6:10); \n",
    "print(x)"
   ]
  },
  {
   "cell_type": "code",
   "execution_count": 230,
   "metadata": {
    "run_control": {
     "frozen": false,
     "read_only": false
    },
    "scrolled": true
   },
   "outputs": [
    {
     "name": "stdout",
     "output_type": "stream",
     "text": [
      "     [,1] [,2] [,3] [,4] [,5]\n",
      "[1,]    1    2    3    4    5\n",
      "[2,]    6    7    8    9   10\n"
     ]
    }
   ],
   "source": [
    "print(do.call(rbind, x))"
   ]
  },
  {
   "cell_type": "code",
   "execution_count": 231,
   "metadata": {
    "run_control": {
     "frozen": false,
     "read_only": false
    }
   },
   "outputs": [
    {
     "name": "stdout",
     "output_type": "stream",
     "text": [
      "$vec1\n",
      "[1] 1 2 3 4 5\n",
      "\n",
      "$vec2\n",
      "[1]  6  7  8  9 10\n",
      "\n",
      "$vec3\n",
      "[1] 11 12 13 14 15\n",
      "\n"
     ]
    }
   ],
   "source": [
    "mylist <- list(vec1 = 1:5, vec2 = 6:10, vec3 = 11:15)\n",
    "print(mylist)"
   ]
  },
  {
   "cell_type": "code",
   "execution_count": 232,
   "metadata": {
    "run_control": {
     "frozen": false,
     "read_only": false
    }
   },
   "outputs": [
    {
     "data": {
      "text/html": [
       "<table>\n",
       "<thead><tr><th></th><th scope=col>mylist</th></tr></thead>\n",
       "<tbody>\n",
       "\t<tr><th scope=row>vec1</th><td>1, 2, 3, 4, 5</td></tr>\n",
       "\t<tr><th scope=row>vec2</th><td>6, 7, 8, 9, 10</td></tr>\n",
       "\t<tr><th scope=row>vec3</th><td>11, 12, 13, 14, 15</td></tr>\n",
       "</tbody>\n",
       "</table>\n"
      ],
      "text/latex": [
       "\\begin{tabular}{r|l}\n",
       "  & mylist\\\\\n",
       "\\hline\n",
       "\tvec1 & 1, 2, 3, 4, 5\\\\\n",
       "\tvec2 & 6, 7, 8, 9, 10\\\\\n",
       "\tvec3 & 11, 12, 13, 14, 15\\\\\n",
       "\\end{tabular}\n"
      ],
      "text/markdown": [
       "\n",
       "| <!--/--> | mylist | \n",
       "|---|---|---|\n",
       "| vec1 | 1, 2, 3, 4, 5 | \n",
       "| vec2 | 6, 7, 8, 9, 10 | \n",
       "| vec3 | 11, 12, 13, 14, 15 | \n",
       "\n",
       "\n"
      ],
      "text/plain": [
       "     mylist            \n",
       "vec1 1, 2, 3, 4, 5     \n",
       "vec2 6, 7, 8, 9, 10    \n",
       "vec3 11, 12, 13, 14, 15"
      ]
     },
     "metadata": {},
     "output_type": "display_data"
    }
   ],
   "source": [
    "cbind(mylist)  # will not work  "
   ]
  },
  {
   "cell_type": "code",
   "execution_count": 233,
   "metadata": {
    "run_control": {
     "frozen": false,
     "read_only": false
    }
   },
   "outputs": [
    {
     "data": {
      "text/html": [
       "<table>\n",
       "<thead><tr><th scope=col>vec1</th><th scope=col>vec2</th><th scope=col>vec3</th></tr></thead>\n",
       "<tbody>\n",
       "\t<tr><td>1 </td><td> 6</td><td>11</td></tr>\n",
       "\t<tr><td>2 </td><td> 7</td><td>12</td></tr>\n",
       "\t<tr><td>3 </td><td> 8</td><td>13</td></tr>\n",
       "\t<tr><td>4 </td><td> 9</td><td>14</td></tr>\n",
       "\t<tr><td>5 </td><td>10</td><td>15</td></tr>\n",
       "</tbody>\n",
       "</table>\n"
      ],
      "text/latex": [
       "\\begin{tabular}{lll}\n",
       " vec1 & vec2 & vec3\\\\\n",
       "\\hline\n",
       "\t 1  &  6 & 11\\\\\n",
       "\t 2  &  7 & 12\\\\\n",
       "\t 3  &  8 & 13\\\\\n",
       "\t 4  &  9 & 14\\\\\n",
       "\t 5  & 10 & 15\\\\\n",
       "\\end{tabular}\n"
      ],
      "text/markdown": [
       "\n",
       "vec1 | vec2 | vec3 | \n",
       "|---|---|---|---|---|\n",
       "| 1  |  6 | 11 | \n",
       "| 2  |  7 | 12 | \n",
       "| 3  |  8 | 13 | \n",
       "| 4  |  9 | 14 | \n",
       "| 5  | 10 | 15 | \n",
       "\n",
       "\n"
      ],
      "text/plain": [
       "     vec1 vec2 vec3\n",
       "[1,] 1     6   11  \n",
       "[2,] 2     7   12  \n",
       "[3,] 3     8   13  \n",
       "[4,] 4     9   14  \n",
       "[5,] 5    10   15  "
      ]
     },
     "metadata": {},
     "output_type": "display_data"
    }
   ],
   "source": [
    "do.call(cbind, mylist) # works"
   ]
  },
  {
   "cell_type": "markdown",
   "metadata": {},
   "source": [
    "### by"
   ]
  },
  {
   "cell_type": "markdown",
   "metadata": {},
   "source": [
    "* applys a function to each level of a factor or factors\n",
    "* split your data by factors and do calculations on each subset\n",
    "* similar to group by function in SQL, applied to factors, where in we may apply operations on individual results set."
   ]
  },
  {
   "cell_type": "code",
   "execution_count": 234,
   "metadata": {
    "run_control": {
     "frozen": false,
     "read_only": false
    }
   },
   "outputs": [
    {
     "data": {
      "text/plain": [
       "iris$Species: setosa\n",
       "Sepal.Length  Sepal.Width Petal.Length  Petal.Width \n",
       "       5.006        3.428        1.462        0.246 \n",
       "------------------------------------------------------------ \n",
       "iris$Species: versicolor\n",
       "Sepal.Length  Sepal.Width Petal.Length  Petal.Width \n",
       "       5.936        2.770        4.260        1.326 \n",
       "------------------------------------------------------------ \n",
       "iris$Species: virginica\n",
       "Sepal.Length  Sepal.Width Petal.Length  Petal.Width \n",
       "       6.588        2.974        5.552        2.026 "
      ]
     },
     "metadata": {},
     "output_type": "display_data"
    }
   ],
   "source": [
    "# we apply colMeans() function to all the observations on iris dataset grouped by Species.\n",
    "b <- by(iris[, 1:4], iris$Species, colMeans)  # exclude the last column since it contains factor (categories which we need to find)\n",
    "b "
   ]
  },
  {
   "cell_type": "markdown",
   "metadata": {
    "run_control": {
     "frozen": false,
     "read_only": false
    }
   },
   "source": [
    "## Other functions (miscellaneous)"
   ]
  },
  {
   "cell_type": "markdown",
   "metadata": {},
   "source": [
    "### `with()`"
   ]
  },
  {
   "cell_type": "markdown",
   "metadata": {},
   "source": [
    "* applys an expression to a dataset \n",
    "* to avoid $ (dollar) symbol  \n",
    "**syntax:** `with(data, expression)`"
   ]
  },
  {
   "cell_type": "code",
   "execution_count": 235,
   "metadata": {
    "run_control": {
     "frozen": false,
     "read_only": false
    }
   },
   "outputs": [
    {
     "data": {
      "text/html": [
       "<ol class=list-inline>\n",
       "\t<li>18.7</li>\n",
       "\t<li>14.3</li>\n",
       "\t<li>10.4</li>\n",
       "\t<li>10.4</li>\n",
       "\t<li>14.7</li>\n",
       "\t<li>19.2</li>\n",
       "\t<li>15.8</li>\n",
       "</ol>\n"
      ],
      "text/latex": [
       "\\begin{enumerate*}\n",
       "\\item 18.7\n",
       "\\item 14.3\n",
       "\\item 10.4\n",
       "\\item 10.4\n",
       "\\item 14.7\n",
       "\\item 19.2\n",
       "\\item 15.8\n",
       "\\end{enumerate*}\n"
      ],
      "text/markdown": [
       "1. 18.7\n",
       "2. 14.3\n",
       "3. 10.4\n",
       "4. 10.4\n",
       "5. 14.7\n",
       "6. 19.2\n",
       "7. 15.8\n",
       "\n",
       "\n"
      ],
      "text/plain": [
       "[1] 18.7 14.3 10.4 10.4 14.7 19.2 15.8"
      ]
     },
     "metadata": {},
     "output_type": "display_data"
    },
    {
     "data": {
      "text/html": [
       "<ol class=list-inline>\n",
       "\t<li>18.7</li>\n",
       "\t<li>14.3</li>\n",
       "\t<li>10.4</li>\n",
       "\t<li>10.4</li>\n",
       "\t<li>14.7</li>\n",
       "\t<li>19.2</li>\n",
       "\t<li>15.8</li>\n",
       "</ol>\n"
      ],
      "text/latex": [
       "\\begin{enumerate*}\n",
       "\\item 18.7\n",
       "\\item 14.3\n",
       "\\item 10.4\n",
       "\\item 10.4\n",
       "\\item 14.7\n",
       "\\item 19.2\n",
       "\\item 15.8\n",
       "\\end{enumerate*}\n"
      ],
      "text/markdown": [
       "1. 18.7\n",
       "2. 14.3\n",
       "3. 10.4\n",
       "4. 10.4\n",
       "5. 14.7\n",
       "6. 19.2\n",
       "7. 15.8\n",
       "\n",
       "\n"
      ],
      "text/plain": [
       "[1] 18.7 14.3 10.4 10.4 14.7 19.2 15.8"
      ]
     },
     "metadata": {},
     "output_type": "display_data"
    }
   ],
   "source": [
    "with(mtcars, mpg[cyl == 8  &  disp > 350])\n",
    "    # is the same as, but nicer than\n",
    "mtcars$mpg[mtcars$cyl == 8  &  mtcars$disp > 350]"
   ]
  },
  {
   "cell_type": "markdown",
   "metadata": {},
   "source": [
    "### `attach()`"
   ]
  },
  {
   "cell_type": "markdown",
   "metadata": {},
   "source": [
    "* Use the names like “x\" instead of “mydata$x\".\n",
    "* The attach function allows you to use short names to refer to variables in a data frame\n",
    "* Use of attach() likewise extends the search list. \n",
    "* This function can be used to attach data frames or lists (use the name, without quotes) or image (.RData) files (the file name is placed in quotes\n",
    "* use `detach()` function  to reverses the process"
   ]
  },
  {
   "cell_type": "code",
   "execution_count": 236,
   "metadata": {
    "run_control": {
     "frozen": false,
     "read_only": false
    }
   },
   "outputs": [],
   "source": [
    "x <- data.frame(Subtype= c(\"A\",\"A\",\"B\",\"A\",\"B\",\"B\",\"A\",\"B\",\"A\",\"B\"), \n",
    "               Gender= rep(c(\"m\",\"f\"),each=5), \n",
    "               Expression = c(-0.54,-0.8,-1.03,-0.41,-1.31,-0.66,-0.43,1.01,-1.15,0.14))"
   ]
  },
  {
   "cell_type": "code",
   "execution_count": 237,
   "metadata": {
    "run_control": {
     "frozen": false,
     "read_only": false
    }
   },
   "outputs": [
    {
     "data": {
      "text/html": [
       "<ol class=list-inline>\n",
       "\t<li>-0.54</li>\n",
       "\t<li>-0.8</li>\n",
       "\t<li>-1.03</li>\n",
       "\t<li>-0.41</li>\n",
       "\t<li>-1.31</li>\n",
       "\t<li>-0.66</li>\n",
       "\t<li>-0.43</li>\n",
       "\t<li>1.01</li>\n",
       "\t<li>-1.15</li>\n",
       "\t<li>0.14</li>\n",
       "</ol>\n"
      ],
      "text/latex": [
       "\\begin{enumerate*}\n",
       "\\item -0.54\n",
       "\\item -0.8\n",
       "\\item -1.03\n",
       "\\item -0.41\n",
       "\\item -1.31\n",
       "\\item -0.66\n",
       "\\item -0.43\n",
       "\\item 1.01\n",
       "\\item -1.15\n",
       "\\item 0.14\n",
       "\\end{enumerate*}\n"
      ],
      "text/markdown": [
       "1. -0.54\n",
       "2. -0.8\n",
       "3. -1.03\n",
       "4. -0.41\n",
       "5. -1.31\n",
       "6. -0.66\n",
       "7. -0.43\n",
       "8. 1.01\n",
       "9. -1.15\n",
       "10. 0.14\n",
       "\n",
       "\n"
      ],
      "text/plain": [
       " [1] -0.54 -0.80 -1.03 -0.41 -1.31 -0.66 -0.43  1.01 -1.15  0.14"
      ]
     },
     "metadata": {},
     "output_type": "display_data"
    },
    {
     "name": "stdout",
     "output_type": "stream",
     "text": [
      " [1] m m m m m f f f f f\n",
      "Levels: f m\n"
     ]
    }
   ],
   "source": [
    "# There are 3 variables, \"Expression\", \"Gender\" and \"Subtype\". We can display the variables by:\n",
    "x$Expression\n",
    "print(x$Gender)"
   ]
  },
  {
   "cell_type": "markdown",
   "metadata": {},
   "source": [
    "* After attach the object \"x\", \"Expression\" or \"Gender\" can be used globally:"
   ]
  },
  {
   "cell_type": "code",
   "execution_count": 238,
   "metadata": {
    "run_control": {
     "frozen": false,
     "read_only": false
    }
   },
   "outputs": [],
   "source": [
    "attach(x)"
   ]
  },
  {
   "cell_type": "code",
   "execution_count": 239,
   "metadata": {
    "run_control": {
     "frozen": false,
     "read_only": false
    }
   },
   "outputs": [
    {
     "data": {
      "text/html": [
       "<ol class=list-inline>\n",
       "\t<li>-0.54</li>\n",
       "\t<li>-0.8</li>\n",
       "\t<li>-1.03</li>\n",
       "\t<li>-0.41</li>\n",
       "\t<li>-1.31</li>\n",
       "\t<li>-0.66</li>\n",
       "\t<li>-0.43</li>\n",
       "\t<li>1.01</li>\n",
       "\t<li>-1.15</li>\n",
       "\t<li>0.14</li>\n",
       "</ol>\n"
      ],
      "text/latex": [
       "\\begin{enumerate*}\n",
       "\\item -0.54\n",
       "\\item -0.8\n",
       "\\item -1.03\n",
       "\\item -0.41\n",
       "\\item -1.31\n",
       "\\item -0.66\n",
       "\\item -0.43\n",
       "\\item 1.01\n",
       "\\item -1.15\n",
       "\\item 0.14\n",
       "\\end{enumerate*}\n"
      ],
      "text/markdown": [
       "1. -0.54\n",
       "2. -0.8\n",
       "3. -1.03\n",
       "4. -0.41\n",
       "5. -1.31\n",
       "6. -0.66\n",
       "7. -0.43\n",
       "8. 1.01\n",
       "9. -1.15\n",
       "10. 0.14\n",
       "\n",
       "\n"
      ],
      "text/plain": [
       " [1] -0.54 -0.80 -1.03 -0.41 -1.31 -0.66 -0.43  1.01 -1.15  0.14"
      ]
     },
     "metadata": {},
     "output_type": "display_data"
    }
   ],
   "source": [
    "Expression # no need of use $ symbol here"
   ]
  },
  {
   "cell_type": "code",
   "execution_count": 240,
   "metadata": {
    "run_control": {
     "frozen": false,
     "read_only": false
    }
   },
   "outputs": [
    {
     "data": {
      "text/html": [
       "<ol class=list-inline>\n",
       "\t<li>m</li>\n",
       "\t<li>m</li>\n",
       "\t<li>m</li>\n",
       "\t<li>m</li>\n",
       "\t<li>m</li>\n",
       "\t<li>f</li>\n",
       "\t<li>f</li>\n",
       "\t<li>f</li>\n",
       "\t<li>f</li>\n",
       "\t<li>f</li>\n",
       "</ol>\n"
      ],
      "text/latex": [
       "\\begin{enumerate*}\n",
       "\\item m\n",
       "\\item m\n",
       "\\item m\n",
       "\\item m\n",
       "\\item m\n",
       "\\item f\n",
       "\\item f\n",
       "\\item f\n",
       "\\item f\n",
       "\\item f\n",
       "\\end{enumerate*}\n"
      ],
      "text/markdown": [
       "1. m\n",
       "2. m\n",
       "3. m\n",
       "4. m\n",
       "5. m\n",
       "6. f\n",
       "7. f\n",
       "8. f\n",
       "9. f\n",
       "10. f\n",
       "\n",
       "\n"
      ],
      "text/plain": [
       " [1] m m m m m f f f f f\n",
       "Levels: f m"
      ]
     },
     "metadata": {},
     "output_type": "display_data"
    }
   ],
   "source": [
    "Gender"
   ]
  },
  {
   "cell_type": "markdown",
   "metadata": {},
   "source": [
    "* `detach()` function reverses the process:"
   ]
  },
  {
   "cell_type": "code",
   "execution_count": 241,
   "metadata": {
    "run_control": {
     "frozen": false,
     "read_only": false
    }
   },
   "outputs": [],
   "source": [
    "detach(x)"
   ]
  },
  {
   "cell_type": "markdown",
   "metadata": {},
   "source": [
    "`Gender`"
   ]
  },
  {
   "cell_type": "code",
   "execution_count": 242,
   "metadata": {
    "run_control": {
     "frozen": false,
     "read_only": false
    }
   },
   "outputs": [],
   "source": [
    "# Error in eval(expr, envir, enclos): object 'Gender' not found\n",
    "# Traceback:"
   ]
  },
  {
   "cell_type": "code",
   "execution_count": 243,
   "metadata": {
    "run_control": {
     "frozen": false,
     "read_only": false
    },
    "scrolled": true
   },
   "outputs": [
    {
     "data": {
      "text/html": [
       "<ol class=list-inline>\n",
       "\t<li>m</li>\n",
       "\t<li>m</li>\n",
       "\t<li>m</li>\n",
       "\t<li>m</li>\n",
       "\t<li>m</li>\n",
       "\t<li>f</li>\n",
       "\t<li>f</li>\n",
       "\t<li>f</li>\n",
       "\t<li>f</li>\n",
       "\t<li>f</li>\n",
       "</ol>\n"
      ],
      "text/latex": [
       "\\begin{enumerate*}\n",
       "\\item m\n",
       "\\item m\n",
       "\\item m\n",
       "\\item m\n",
       "\\item m\n",
       "\\item f\n",
       "\\item f\n",
       "\\item f\n",
       "\\item f\n",
       "\\item f\n",
       "\\end{enumerate*}\n"
      ],
      "text/markdown": [
       "1. m\n",
       "2. m\n",
       "3. m\n",
       "4. m\n",
       "5. m\n",
       "6. f\n",
       "7. f\n",
       "8. f\n",
       "9. f\n",
       "10. f\n",
       "\n",
       "\n"
      ],
      "text/plain": [
       " [1] m m m m m f f f f f\n",
       "Levels: f m"
      ]
     },
     "metadata": {},
     "output_type": "display_data"
    }
   ],
   "source": [
    "x$Gender"
   ]
  },
  {
   "cell_type": "markdown",
   "metadata": {},
   "source": [
    "* Use `detach()` function to unload the package from the current session \n",
    "* opposite of `library()`)"
   ]
  },
  {
   "cell_type": "markdown",
   "metadata": {
    "run_control": {
     "frozen": false,
     "marked": false,
     "read_only": false
    },
    "scrolled": true
   },
   "source": [
    "```{r}\n",
    "### note ### before run this first use install.packages(\"cowsay\")  and library(cowsay) to install and load the package\n",
    "detach(\"package:cowsay\") # unload the package named cowsay from the current session\n",
    "```"
   ]
  },
  {
   "cell_type": "markdown",
   "metadata": {
    "run_control": {
     "frozen": false,
     "read_only": false
    }
   },
   "source": [
    "### `library(ggplot2)` Vs `require(ggplot2)`"
   ]
  },
  {
   "cell_type": "markdown",
   "metadata": {},
   "source": [
    "* require is to use in the body of a function , which will display a warning message if the package does not exist but will continue its execution, whereas library will throw an error and stops execution there itself\n",
    "* Unlike library, require returns a logical value. That is, it returns (invisibly) TRUE if the package is available, and FALSE if the package is not. "
   ]
  },
  {
   "cell_type": "markdown",
   "metadata": {},
   "source": [
    "\n",
    "`if (!require(package)) \n",
    "install.packages('package')\n",
    "library(package)`\n",
    "\n",
    "`# will install “package” if it doesn’t exist, and then load it.`\n",
    "\n",
    "OR\n",
    "\n",
    "`if(!require(DescTools)){install.packages(\"DescTools\")}`"
   ]
  },
  {
   "cell_type": "markdown",
   "metadata": {},
   "source": [
    "* if you look at the source code, you can see that require calls library\n",
    "* This suggests that it is more efficient to use library"
   ]
  },
  {
   "cell_type": "markdown",
   "metadata": {},
   "source": [
    "### `which()`"
   ]
  },
  {
   "cell_type": "markdown",
   "metadata": {},
   "source": [
    "* Which indices are TRUE?\n",
    "* which positions meet condition"
   ]
  },
  {
   "cell_type": "code",
   "execution_count": 244,
   "metadata": {
    "run_control": {
     "frozen": false,
     "read_only": false
    }
   },
   "outputs": [
    {
     "data": {
      "text/html": [
       "18"
      ],
      "text/latex": [
       "18"
      ],
      "text/markdown": [
       "18"
      ],
      "text/plain": [
       "[1] 18"
      ]
     },
     "metadata": {},
     "output_type": "display_data"
    },
    {
     "data": {
      "text/html": [
       "10"
      ],
      "text/latex": [
       "10"
      ],
      "text/markdown": [
       "10"
      ],
      "text/plain": [
       "[1] 10"
      ]
     },
     "metadata": {},
     "output_type": "display_data"
    }
   ],
   "source": [
    "which(LETTERS == \"R\")\n",
    "which(LETTERS == \"J\")"
   ]
  },
  {
   "cell_type": "code",
   "execution_count": 245,
   "metadata": {
    "run_control": {
     "frozen": false,
     "read_only": false
    }
   },
   "outputs": [
    {
     "data": {
      "text/html": [
       "<ol class=list-inline>\n",
       "\t<li>2</li>\n",
       "\t<li>4</li>\n",
       "\t<li>6</li>\n",
       "\t<li>8</li>\n",
       "\t<li>10</li>\n",
       "\t<li>12</li>\n",
       "</ol>\n"
      ],
      "text/latex": [
       "\\begin{enumerate*}\n",
       "\\item 2\n",
       "\\item 4\n",
       "\\item 6\n",
       "\\item 8\n",
       "\\item 10\n",
       "\\item 12\n",
       "\\end{enumerate*}\n"
      ],
      "text/markdown": [
       "1. 2\n",
       "2. 4\n",
       "3. 6\n",
       "4. 8\n",
       "5. 10\n",
       "6. 12\n",
       "\n",
       "\n"
      ],
      "text/plain": [
       "[1]  2  4  6  8 10 12"
      ]
     },
     "metadata": {},
     "output_type": "display_data"
    }
   ],
   "source": [
    "which((1:12)%%2 == 0) # which are even?"
   ]
  },
  {
   "cell_type": "code",
   "execution_count": 246,
   "metadata": {
    "run_control": {
     "frozen": false,
     "read_only": false
    },
    "scrolled": true
   },
   "outputs": [
    {
     "data": {
      "text/html": [
       "<ol class=list-inline>\n",
       "\t<li>3</li>\n",
       "\t<li>6</li>\n",
       "\t<li>9</li>\n",
       "</ol>\n"
      ],
      "text/latex": [
       "\\begin{enumerate*}\n",
       "\\item 3\n",
       "\\item 6\n",
       "\\item 9\n",
       "\\end{enumerate*}\n"
      ],
      "text/markdown": [
       "1. 3\n",
       "2. 6\n",
       "3. 9\n",
       "\n",
       "\n"
      ],
      "text/plain": [
       "[1] 3 6 9"
      ]
     },
     "metadata": {},
     "output_type": "display_data"
    }
   ],
   "source": [
    "which(10:20 %% 3 ==0, arr.ind = TRUE)"
   ]
  },
  {
   "cell_type": "code",
   "execution_count": 247,
   "metadata": {
    "run_control": {
     "frozen": false,
     "read_only": false
    }
   },
   "outputs": [
    {
     "data": {
      "text/html": [
       "<table>\n",
       "<thead><tr><th></th><th scope=col>mpg</th><th scope=col>cyl</th><th scope=col>disp</th><th scope=col>hp</th><th scope=col>drat</th><th scope=col>wt</th><th scope=col>qsec</th><th scope=col>vs</th><th scope=col>am</th><th scope=col>gear</th><th scope=col>carb</th></tr></thead>\n",
       "<tbody>\n",
       "\t<tr><th scope=row>Duster 360</th><td>14.3 </td><td>8    </td><td>360.0</td><td>245  </td><td>3.21 </td><td>3.570</td><td>15.84</td><td>0    </td><td>0    </td><td>3    </td><td>4    </td></tr>\n",
       "\t<tr><th scope=row>Merc 280C</th><td>17.8 </td><td>6    </td><td>167.6</td><td>123  </td><td>3.92 </td><td>3.440</td><td>18.90</td><td>1    </td><td>0    </td><td>4    </td><td>4    </td></tr>\n",
       "\t<tr><th scope=row>Merc 450SE</th><td>16.4 </td><td>8    </td><td>275.8</td><td>180  </td><td>3.07 </td><td>4.070</td><td>17.40</td><td>0    </td><td>0    </td><td>3    </td><td>3    </td></tr>\n",
       "\t<tr><th scope=row>Merc 450SL</th><td>17.3 </td><td>8    </td><td>275.8</td><td>180  </td><td>3.07 </td><td>3.730</td><td>17.60</td><td>0    </td><td>0    </td><td>3    </td><td>3    </td></tr>\n",
       "\t<tr><th scope=row>Merc 450SLC</th><td>15.2 </td><td>8    </td><td>275.8</td><td>180  </td><td>3.07 </td><td>3.780</td><td>18.00</td><td>0    </td><td>0    </td><td>3    </td><td>3    </td></tr>\n",
       "\t<tr><th scope=row>Cadillac Fleetwood</th><td>10.4 </td><td>8    </td><td>472.0</td><td>205  </td><td>2.93 </td><td>5.250</td><td>17.98</td><td>0    </td><td>0    </td><td>3    </td><td>4    </td></tr>\n",
       "\t<tr><th scope=row>Lincoln Continental</th><td>10.4 </td><td>8    </td><td>460.0</td><td>215  </td><td>3.00 </td><td>5.424</td><td>17.82</td><td>0    </td><td>0    </td><td>3    </td><td>4    </td></tr>\n",
       "\t<tr><th scope=row>Chrysler Imperial</th><td>14.7 </td><td>8    </td><td>440.0</td><td>230  </td><td>3.23 </td><td>5.345</td><td>17.42</td><td>0    </td><td>0    </td><td>3    </td><td>4    </td></tr>\n",
       "\t<tr><th scope=row>Dodge Challenger</th><td>15.5 </td><td>8    </td><td>318.0</td><td>150  </td><td>2.76 </td><td>3.520</td><td>16.87</td><td>0    </td><td>0    </td><td>3    </td><td>2    </td></tr>\n",
       "\t<tr><th scope=row>AMC Javelin</th><td>15.2 </td><td>8    </td><td>304.0</td><td>150  </td><td>3.15 </td><td>3.435</td><td>17.30</td><td>0    </td><td>0    </td><td>3    </td><td>2    </td></tr>\n",
       "\t<tr><th scope=row>Camaro Z28</th><td>13.3 </td><td>8    </td><td>350.0</td><td>245  </td><td>3.73 </td><td>3.840</td><td>15.41</td><td>0    </td><td>0    </td><td>3    </td><td>4    </td></tr>\n",
       "\t<tr><th scope=row>Ford Pantera L</th><td>15.8 </td><td>8    </td><td>351.0</td><td>264  </td><td>4.22 </td><td>3.170</td><td>14.50</td><td>0    </td><td>1    </td><td>5    </td><td>4    </td></tr>\n",
       "\t<tr><th scope=row>Maserati Bora</th><td>15.0 </td><td>8    </td><td>301.0</td><td>335  </td><td>3.54 </td><td>3.570</td><td>14.60</td><td>0    </td><td>1    </td><td>5    </td><td>8    </td></tr>\n",
       "</tbody>\n",
       "</table>\n"
      ],
      "text/latex": [
       "\\begin{tabular}{r|lllllllllll}\n",
       "  & mpg & cyl & disp & hp & drat & wt & qsec & vs & am & gear & carb\\\\\n",
       "\\hline\n",
       "\tDuster 360 & 14.3  & 8     & 360.0 & 245   & 3.21  & 3.570 & 15.84 & 0     & 0     & 3     & 4    \\\\\n",
       "\tMerc 280C & 17.8  & 6     & 167.6 & 123   & 3.92  & 3.440 & 18.90 & 1     & 0     & 4     & 4    \\\\\n",
       "\tMerc 450SE & 16.4  & 8     & 275.8 & 180   & 3.07  & 4.070 & 17.40 & 0     & 0     & 3     & 3    \\\\\n",
       "\tMerc 450SL & 17.3  & 8     & 275.8 & 180   & 3.07  & 3.730 & 17.60 & 0     & 0     & 3     & 3    \\\\\n",
       "\tMerc 450SLC & 15.2  & 8     & 275.8 & 180   & 3.07  & 3.780 & 18.00 & 0     & 0     & 3     & 3    \\\\\n",
       "\tCadillac Fleetwood & 10.4  & 8     & 472.0 & 205   & 2.93  & 5.250 & 17.98 & 0     & 0     & 3     & 4    \\\\\n",
       "\tLincoln Continental & 10.4  & 8     & 460.0 & 215   & 3.00  & 5.424 & 17.82 & 0     & 0     & 3     & 4    \\\\\n",
       "\tChrysler Imperial & 14.7  & 8     & 440.0 & 230   & 3.23  & 5.345 & 17.42 & 0     & 0     & 3     & 4    \\\\\n",
       "\tDodge Challenger & 15.5  & 8     & 318.0 & 150   & 2.76  & 3.520 & 16.87 & 0     & 0     & 3     & 2    \\\\\n",
       "\tAMC Javelin & 15.2  & 8     & 304.0 & 150   & 3.15  & 3.435 & 17.30 & 0     & 0     & 3     & 2    \\\\\n",
       "\tCamaro Z28 & 13.3  & 8     & 350.0 & 245   & 3.73  & 3.840 & 15.41 & 0     & 0     & 3     & 4    \\\\\n",
       "\tFord Pantera L & 15.8  & 8     & 351.0 & 264   & 4.22  & 3.170 & 14.50 & 0     & 1     & 5     & 4    \\\\\n",
       "\tMaserati Bora & 15.0  & 8     & 301.0 & 335   & 3.54  & 3.570 & 14.60 & 0     & 1     & 5     & 8    \\\\\n",
       "\\end{tabular}\n"
      ],
      "text/markdown": [
       "\n",
       "| <!--/--> | mpg | cyl | disp | hp | drat | wt | qsec | vs | am | gear | carb | \n",
       "|---|---|---|---|---|---|---|---|---|---|---|---|---|\n",
       "| Duster 360 | 14.3  | 8     | 360.0 | 245   | 3.21  | 3.570 | 15.84 | 0     | 0     | 3     | 4     | \n",
       "| Merc 280C | 17.8  | 6     | 167.6 | 123   | 3.92  | 3.440 | 18.90 | 1     | 0     | 4     | 4     | \n",
       "| Merc 450SE | 16.4  | 8     | 275.8 | 180   | 3.07  | 4.070 | 17.40 | 0     | 0     | 3     | 3     | \n",
       "| Merc 450SL | 17.3  | 8     | 275.8 | 180   | 3.07  | 3.730 | 17.60 | 0     | 0     | 3     | 3     | \n",
       "| Merc 450SLC | 15.2  | 8     | 275.8 | 180   | 3.07  | 3.780 | 18.00 | 0     | 0     | 3     | 3     | \n",
       "| Cadillac Fleetwood | 10.4  | 8     | 472.0 | 205   | 2.93  | 5.250 | 17.98 | 0     | 0     | 3     | 4     | \n",
       "| Lincoln Continental | 10.4  | 8     | 460.0 | 215   | 3.00  | 5.424 | 17.82 | 0     | 0     | 3     | 4     | \n",
       "| Chrysler Imperial | 14.7  | 8     | 440.0 | 230   | 3.23  | 5.345 | 17.42 | 0     | 0     | 3     | 4     | \n",
       "| Dodge Challenger | 15.5  | 8     | 318.0 | 150   | 2.76  | 3.520 | 16.87 | 0     | 0     | 3     | 2     | \n",
       "| AMC Javelin | 15.2  | 8     | 304.0 | 150   | 3.15  | 3.435 | 17.30 | 0     | 0     | 3     | 2     | \n",
       "| Camaro Z28 | 13.3  | 8     | 350.0 | 245   | 3.73  | 3.840 | 15.41 | 0     | 0     | 3     | 4     | \n",
       "| Ford Pantera L | 15.8  | 8     | 351.0 | 264   | 4.22  | 3.170 | 14.50 | 0     | 1     | 5     | 4     | \n",
       "| Maserati Bora | 15.0  | 8     | 301.0 | 335   | 3.54  | 3.570 | 14.60 | 0     | 1     | 5     | 8     | \n",
       "\n",
       "\n"
      ],
      "text/plain": [
       "                    mpg  cyl disp  hp  drat wt    qsec  vs am gear carb\n",
       "Duster 360          14.3 8   360.0 245 3.21 3.570 15.84 0  0  3    4   \n",
       "Merc 280C           17.8 6   167.6 123 3.92 3.440 18.90 1  0  4    4   \n",
       "Merc 450SE          16.4 8   275.8 180 3.07 4.070 17.40 0  0  3    3   \n",
       "Merc 450SL          17.3 8   275.8 180 3.07 3.730 17.60 0  0  3    3   \n",
       "Merc 450SLC         15.2 8   275.8 180 3.07 3.780 18.00 0  0  3    3   \n",
       "Cadillac Fleetwood  10.4 8   472.0 205 2.93 5.250 17.98 0  0  3    4   \n",
       "Lincoln Continental 10.4 8   460.0 215 3.00 5.424 17.82 0  0  3    4   \n",
       "Chrysler Imperial   14.7 8   440.0 230 3.23 5.345 17.42 0  0  3    4   \n",
       "Dodge Challenger    15.5 8   318.0 150 2.76 3.520 16.87 0  0  3    2   \n",
       "AMC Javelin         15.2 8   304.0 150 3.15 3.435 17.30 0  0  3    2   \n",
       "Camaro Z28          13.3 8   350.0 245 3.73 3.840 15.41 0  0  3    4   \n",
       "Ford Pantera L      15.8 8   351.0 264 4.22 3.170 14.50 0  1  5    4   \n",
       "Maserati Bora       15.0 8   301.0 335 3.54 3.570 14.60 0  1  5    8   "
      ]
     },
     "metadata": {},
     "output_type": "display_data"
    },
    {
     "data": {
      "text/html": [
       "<table>\n",
       "<thead><tr><th></th><th scope=col>mpg</th><th scope=col>cyl</th><th scope=col>disp</th><th scope=col>hp</th><th scope=col>drat</th><th scope=col>wt</th><th scope=col>qsec</th><th scope=col>vs</th><th scope=col>am</th><th scope=col>gear</th><th scope=col>carb</th></tr></thead>\n",
       "<tbody>\n",
       "\t<tr><th scope=row>Duster 360</th><td>14.3 </td><td>8    </td><td>360.0</td><td>245  </td><td>3.21 </td><td>3.570</td><td>15.84</td><td>0    </td><td>0    </td><td>3    </td><td>4    </td></tr>\n",
       "\t<tr><th scope=row>Merc 280C</th><td>17.8 </td><td>6    </td><td>167.6</td><td>123  </td><td>3.92 </td><td>3.440</td><td>18.90</td><td>1    </td><td>0    </td><td>4    </td><td>4    </td></tr>\n",
       "\t<tr><th scope=row>Merc 450SE</th><td>16.4 </td><td>8    </td><td>275.8</td><td>180  </td><td>3.07 </td><td>4.070</td><td>17.40</td><td>0    </td><td>0    </td><td>3    </td><td>3    </td></tr>\n",
       "\t<tr><th scope=row>Merc 450SL</th><td>17.3 </td><td>8    </td><td>275.8</td><td>180  </td><td>3.07 </td><td>3.730</td><td>17.60</td><td>0    </td><td>0    </td><td>3    </td><td>3    </td></tr>\n",
       "\t<tr><th scope=row>Merc 450SLC</th><td>15.2 </td><td>8    </td><td>275.8</td><td>180  </td><td>3.07 </td><td>3.780</td><td>18.00</td><td>0    </td><td>0    </td><td>3    </td><td>3    </td></tr>\n",
       "\t<tr><th scope=row>Cadillac Fleetwood</th><td>10.4 </td><td>8    </td><td>472.0</td><td>205  </td><td>2.93 </td><td>5.250</td><td>17.98</td><td>0    </td><td>0    </td><td>3    </td><td>4    </td></tr>\n",
       "\t<tr><th scope=row>Lincoln Continental</th><td>10.4 </td><td>8    </td><td>460.0</td><td>215  </td><td>3.00 </td><td>5.424</td><td>17.82</td><td>0    </td><td>0    </td><td>3    </td><td>4    </td></tr>\n",
       "\t<tr><th scope=row>Chrysler Imperial</th><td>14.7 </td><td>8    </td><td>440.0</td><td>230  </td><td>3.23 </td><td>5.345</td><td>17.42</td><td>0    </td><td>0    </td><td>3    </td><td>4    </td></tr>\n",
       "\t<tr><th scope=row>Dodge Challenger</th><td>15.5 </td><td>8    </td><td>318.0</td><td>150  </td><td>2.76 </td><td>3.520</td><td>16.87</td><td>0    </td><td>0    </td><td>3    </td><td>2    </td></tr>\n",
       "\t<tr><th scope=row>AMC Javelin</th><td>15.2 </td><td>8    </td><td>304.0</td><td>150  </td><td>3.15 </td><td>3.435</td><td>17.30</td><td>0    </td><td>0    </td><td>3    </td><td>2    </td></tr>\n",
       "\t<tr><th scope=row>Camaro Z28</th><td>13.3 </td><td>8    </td><td>350.0</td><td>245  </td><td>3.73 </td><td>3.840</td><td>15.41</td><td>0    </td><td>0    </td><td>3    </td><td>4    </td></tr>\n",
       "\t<tr><th scope=row>Ford Pantera L</th><td>15.8 </td><td>8    </td><td>351.0</td><td>264  </td><td>4.22 </td><td>3.170</td><td>14.50</td><td>0    </td><td>1    </td><td>5    </td><td>4    </td></tr>\n",
       "\t<tr><th scope=row>Maserati Bora</th><td>15.0 </td><td>8    </td><td>301.0</td><td>335  </td><td>3.54 </td><td>3.570</td><td>14.60</td><td>0    </td><td>1    </td><td>5    </td><td>8    </td></tr>\n",
       "</tbody>\n",
       "</table>\n"
      ],
      "text/latex": [
       "\\begin{tabular}{r|lllllllllll}\n",
       "  & mpg & cyl & disp & hp & drat & wt & qsec & vs & am & gear & carb\\\\\n",
       "\\hline\n",
       "\tDuster 360 & 14.3  & 8     & 360.0 & 245   & 3.21  & 3.570 & 15.84 & 0     & 0     & 3     & 4    \\\\\n",
       "\tMerc 280C & 17.8  & 6     & 167.6 & 123   & 3.92  & 3.440 & 18.90 & 1     & 0     & 4     & 4    \\\\\n",
       "\tMerc 450SE & 16.4  & 8     & 275.8 & 180   & 3.07  & 4.070 & 17.40 & 0     & 0     & 3     & 3    \\\\\n",
       "\tMerc 450SL & 17.3  & 8     & 275.8 & 180   & 3.07  & 3.730 & 17.60 & 0     & 0     & 3     & 3    \\\\\n",
       "\tMerc 450SLC & 15.2  & 8     & 275.8 & 180   & 3.07  & 3.780 & 18.00 & 0     & 0     & 3     & 3    \\\\\n",
       "\tCadillac Fleetwood & 10.4  & 8     & 472.0 & 205   & 2.93  & 5.250 & 17.98 & 0     & 0     & 3     & 4    \\\\\n",
       "\tLincoln Continental & 10.4  & 8     & 460.0 & 215   & 3.00  & 5.424 & 17.82 & 0     & 0     & 3     & 4    \\\\\n",
       "\tChrysler Imperial & 14.7  & 8     & 440.0 & 230   & 3.23  & 5.345 & 17.42 & 0     & 0     & 3     & 4    \\\\\n",
       "\tDodge Challenger & 15.5  & 8     & 318.0 & 150   & 2.76  & 3.520 & 16.87 & 0     & 0     & 3     & 2    \\\\\n",
       "\tAMC Javelin & 15.2  & 8     & 304.0 & 150   & 3.15  & 3.435 & 17.30 & 0     & 0     & 3     & 2    \\\\\n",
       "\tCamaro Z28 & 13.3  & 8     & 350.0 & 245   & 3.73  & 3.840 & 15.41 & 0     & 0     & 3     & 4    \\\\\n",
       "\tFord Pantera L & 15.8  & 8     & 351.0 & 264   & 4.22  & 3.170 & 14.50 & 0     & 1     & 5     & 4    \\\\\n",
       "\tMaserati Bora & 15.0  & 8     & 301.0 & 335   & 3.54  & 3.570 & 14.60 & 0     & 1     & 5     & 8    \\\\\n",
       "\\end{tabular}\n"
      ],
      "text/markdown": [
       "\n",
       "| <!--/--> | mpg | cyl | disp | hp | drat | wt | qsec | vs | am | gear | carb | \n",
       "|---|---|---|---|---|---|---|---|---|---|---|---|---|\n",
       "| Duster 360 | 14.3  | 8     | 360.0 | 245   | 3.21  | 3.570 | 15.84 | 0     | 0     | 3     | 4     | \n",
       "| Merc 280C | 17.8  | 6     | 167.6 | 123   | 3.92  | 3.440 | 18.90 | 1     | 0     | 4     | 4     | \n",
       "| Merc 450SE | 16.4  | 8     | 275.8 | 180   | 3.07  | 4.070 | 17.40 | 0     | 0     | 3     | 3     | \n",
       "| Merc 450SL | 17.3  | 8     | 275.8 | 180   | 3.07  | 3.730 | 17.60 | 0     | 0     | 3     | 3     | \n",
       "| Merc 450SLC | 15.2  | 8     | 275.8 | 180   | 3.07  | 3.780 | 18.00 | 0     | 0     | 3     | 3     | \n",
       "| Cadillac Fleetwood | 10.4  | 8     | 472.0 | 205   | 2.93  | 5.250 | 17.98 | 0     | 0     | 3     | 4     | \n",
       "| Lincoln Continental | 10.4  | 8     | 460.0 | 215   | 3.00  | 5.424 | 17.82 | 0     | 0     | 3     | 4     | \n",
       "| Chrysler Imperial | 14.7  | 8     | 440.0 | 230   | 3.23  | 5.345 | 17.42 | 0     | 0     | 3     | 4     | \n",
       "| Dodge Challenger | 15.5  | 8     | 318.0 | 150   | 2.76  | 3.520 | 16.87 | 0     | 0     | 3     | 2     | \n",
       "| AMC Javelin | 15.2  | 8     | 304.0 | 150   | 3.15  | 3.435 | 17.30 | 0     | 0     | 3     | 2     | \n",
       "| Camaro Z28 | 13.3  | 8     | 350.0 | 245   | 3.73  | 3.840 | 15.41 | 0     | 0     | 3     | 4     | \n",
       "| Ford Pantera L | 15.8  | 8     | 351.0 | 264   | 4.22  | 3.170 | 14.50 | 0     | 1     | 5     | 4     | \n",
       "| Maserati Bora | 15.0  | 8     | 301.0 | 335   | 3.54  | 3.570 | 14.60 | 0     | 1     | 5     | 8     | \n",
       "\n",
       "\n"
      ],
      "text/plain": [
       "                    mpg  cyl disp  hp  drat wt    qsec  vs am gear carb\n",
       "Duster 360          14.3 8   360.0 245 3.21 3.570 15.84 0  0  3    4   \n",
       "Merc 280C           17.8 6   167.6 123 3.92 3.440 18.90 1  0  4    4   \n",
       "Merc 450SE          16.4 8   275.8 180 3.07 4.070 17.40 0  0  3    3   \n",
       "Merc 450SL          17.3 8   275.8 180 3.07 3.730 17.60 0  0  3    3   \n",
       "Merc 450SLC         15.2 8   275.8 180 3.07 3.780 18.00 0  0  3    3   \n",
       "Cadillac Fleetwood  10.4 8   472.0 205 2.93 5.250 17.98 0  0  3    4   \n",
       "Lincoln Continental 10.4 8   460.0 215 3.00 5.424 17.82 0  0  3    4   \n",
       "Chrysler Imperial   14.7 8   440.0 230 3.23 5.345 17.42 0  0  3    4   \n",
       "Dodge Challenger    15.5 8   318.0 150 2.76 3.520 16.87 0  0  3    2   \n",
       "AMC Javelin         15.2 8   304.0 150 3.15 3.435 17.30 0  0  3    2   \n",
       "Camaro Z28          13.3 8   350.0 245 3.73 3.840 15.41 0  0  3    4   \n",
       "Ford Pantera L      15.8 8   351.0 264 4.22 3.170 14.50 0  1  5    4   \n",
       "Maserati Bora       15.0 8   301.0 335 3.54 3.570 14.60 0  1  5    8   "
      ]
     },
     "metadata": {},
     "output_type": "display_data"
    }
   ],
   "source": [
    "mtcars[which(mtcars$mpg <= 18),]\n",
    "# OR\n",
    "mtcars[mtcars$mpg <= 18,]"
   ]
  },
  {
   "cell_type": "markdown",
   "metadata": {},
   "source": [
    "### `match()`"
   ]
  },
  {
   "cell_type": "markdown",
   "metadata": {
    "run_control": {
     "frozen": false,
     "read_only": false
    }
   },
   "source": [
    "* match(a,b) looks for matches of a in b and returns indices of the matches"
   ]
  },
  {
   "cell_type": "code",
   "execution_count": 248,
   "metadata": {
    "run_control": {
     "frozen": false,
     "read_only": false
    }
   },
   "outputs": [],
   "source": [
    "a <- c(\"a\",\"e\",\"i\",\"o\",\"u\")\n",
    "b <- letters"
   ]
  },
  {
   "cell_type": "code",
   "execution_count": 249,
   "metadata": {
    "run_control": {
     "frozen": false,
     "read_only": false
    }
   },
   "outputs": [
    {
     "data": {
      "text/html": [
       "<ol class=list-inline>\n",
       "\t<li>1</li>\n",
       "\t<li>5</li>\n",
       "\t<li>9</li>\n",
       "\t<li>15</li>\n",
       "\t<li>21</li>\n",
       "</ol>\n"
      ],
      "text/latex": [
       "\\begin{enumerate*}\n",
       "\\item 1\n",
       "\\item 5\n",
       "\\item 9\n",
       "\\item 15\n",
       "\\item 21\n",
       "\\end{enumerate*}\n"
      ],
      "text/markdown": [
       "1. 1\n",
       "2. 5\n",
       "3. 9\n",
       "4. 15\n",
       "5. 21\n",
       "\n",
       "\n"
      ],
      "text/plain": [
       "[1]  1  5  9 15 21"
      ]
     },
     "metadata": {},
     "output_type": "display_data"
    },
    {
     "data": {
      "text/html": [
       "<ol class=list-inline>\n",
       "\t<li>TRUE</li>\n",
       "\t<li>TRUE</li>\n",
       "\t<li>TRUE</li>\n",
       "\t<li>TRUE</li>\n",
       "\t<li>TRUE</li>\n",
       "</ol>\n"
      ],
      "text/latex": [
       "\\begin{enumerate*}\n",
       "\\item TRUE\n",
       "\\item TRUE\n",
       "\\item TRUE\n",
       "\\item TRUE\n",
       "\\item TRUE\n",
       "\\end{enumerate*}\n"
      ],
      "text/markdown": [
       "1. TRUE\n",
       "2. TRUE\n",
       "3. TRUE\n",
       "4. TRUE\n",
       "5. TRUE\n",
       "\n",
       "\n"
      ],
      "text/plain": [
       "[1] TRUE TRUE TRUE TRUE TRUE"
      ]
     },
     "metadata": {},
     "output_type": "display_data"
    }
   ],
   "source": [
    "match(a,b)\n",
    "# %in% operator gives a logical vector\n",
    "a %in% b"
   ]
  },
  {
   "cell_type": "code",
   "execution_count": 250,
   "metadata": {
    "run_control": {
     "frozen": false,
     "read_only": false
    }
   },
   "outputs": [],
   "source": [
    "a <- c(\"a\",\"#\",\"i\",\"@\",\"u\")\n",
    "b <- letters"
   ]
  },
  {
   "cell_type": "code",
   "execution_count": 251,
   "metadata": {
    "run_control": {
     "frozen": false,
     "read_only": false
    }
   },
   "outputs": [
    {
     "data": {
      "text/html": [
       "<ol class=list-inline>\n",
       "\t<li>1</li>\n",
       "\t<li>&lt;NA&gt;</li>\n",
       "\t<li>9</li>\n",
       "\t<li>&lt;NA&gt;</li>\n",
       "\t<li>21</li>\n",
       "</ol>\n"
      ],
      "text/latex": [
       "\\begin{enumerate*}\n",
       "\\item 1\n",
       "\\item <NA>\n",
       "\\item 9\n",
       "\\item <NA>\n",
       "\\item 21\n",
       "\\end{enumerate*}\n"
      ],
      "text/markdown": [
       "1. 1\n",
       "2. &lt;NA&gt;\n",
       "3. 9\n",
       "4. &lt;NA&gt;\n",
       "5. 21\n",
       "\n",
       "\n"
      ],
      "text/plain": [
       "[1]  1 NA  9 NA 21"
      ]
     },
     "metadata": {},
     "output_type": "display_data"
    },
    {
     "data": {
      "text/html": [
       "<ol class=list-inline>\n",
       "\t<li>TRUE</li>\n",
       "\t<li>FALSE</li>\n",
       "\t<li>TRUE</li>\n",
       "\t<li>FALSE</li>\n",
       "\t<li>TRUE</li>\n",
       "</ol>\n"
      ],
      "text/latex": [
       "\\begin{enumerate*}\n",
       "\\item TRUE\n",
       "\\item FALSE\n",
       "\\item TRUE\n",
       "\\item FALSE\n",
       "\\item TRUE\n",
       "\\end{enumerate*}\n"
      ],
      "text/markdown": [
       "1. TRUE\n",
       "2. FALSE\n",
       "3. TRUE\n",
       "4. FALSE\n",
       "5. TRUE\n",
       "\n",
       "\n"
      ],
      "text/plain": [
       "[1]  TRUE FALSE  TRUE FALSE  TRUE"
      ]
     },
     "metadata": {},
     "output_type": "display_data"
    }
   ],
   "source": [
    "match(a,b) # if the matched value not present then returns NA\n",
    "# %in% operator gives a logical vector\n",
    "a %in% b"
   ]
  },
  {
   "cell_type": "markdown",
   "metadata": {},
   "source": [
    "### `grep()`"
   ]
  },
  {
   "cell_type": "markdown",
   "metadata": {},
   "source": [
    "* Matching character strings\n",
    "* grep implements character string matching:\n"
   ]
  },
  {
   "cell_type": "code",
   "execution_count": 252,
   "metadata": {
    "run_control": {
     "frozen": false,
     "read_only": false
    },
    "scrolled": true
   },
   "outputs": [
    {
     "data": {
      "text/html": [
       "<ol class=list-inline>\n",
       "\t<li>2</li>\n",
       "\t<li>4</li>\n",
       "\t<li>5</li>\n",
       "</ol>\n"
      ],
      "text/latex": [
       "\\begin{enumerate*}\n",
       "\\item 2\n",
       "\\item 4\n",
       "\\item 5\n",
       "\\end{enumerate*}\n"
      ],
      "text/markdown": [
       "1. 2\n",
       "2. 4\n",
       "3. 5\n",
       "\n",
       "\n"
      ],
      "text/plain": [
       "[1] 2 4 5"
      ]
     },
     "metadata": {},
     "output_type": "display_data"
    },
    {
     "data": {
      "text/html": [
       "<ol class=list-inline>\n",
       "\t<li>'DateOnset'</li>\n",
       "\t<li>'Admission.date'</li>\n",
       "\t<li>'dateofdeath'</li>\n",
       "</ol>\n"
      ],
      "text/latex": [
       "\\begin{enumerate*}\n",
       "\\item 'DateOnset'\n",
       "\\item 'Admission.date'\n",
       "\\item 'dateofdeath'\n",
       "\\end{enumerate*}\n"
      ],
      "text/markdown": [
       "1. 'DateOnset'\n",
       "2. 'Admission.date'\n",
       "3. 'dateofdeath'\n",
       "\n",
       "\n"
      ],
      "text/plain": [
       "[1] \"DateOnset\"      \"Admission.date\" \"dateofdeath\"   "
      ]
     },
     "metadata": {},
     "output_type": "display_data"
    }
   ],
   "source": [
    "fields <- c(\"Age\", \"DateOnset\", \"Sex\", \"Admission.date\", \"dateofdeath\", \"Country\")\n",
    "grep(\"date\", fields, ignore.case=TRUE)\n",
    "grep(\"date\", fields, ignore.case=TRUE, value=TRUE)"
   ]
  },
  {
   "cell_type": "markdown",
   "metadata": {
    "run_control": {
     "frozen": false,
     "read_only": false
    },
    "slideshow": {
     "slide_type": "slide"
    }
   },
   "source": [
    "## Object Oriented Concepts (Advanced)"
   ]
  },
  {
   "cell_type": "markdown",
   "metadata": {
    "run_control": {
     "marked": false
    },
    "slideshow": {
     "slide_type": "slide"
    }
   },
   "source": [
    "### S3 Classes and methods"
   ]
  },
  {
   "cell_type": "markdown",
   "metadata": {
    "slideshow": {
     "slide_type": "subslide"
    }
   },
   "source": [
    "* S3 classes have attributes and methods\n",
    "* follows a generic-function Object Oriented style\n",
    "* a special type of function called a generic function decides which method to call\n",
    "* S3 is a very casual system. It has no formal definition of classes\n",
    "* Examples include `print`, `plot`, `summary`."
   ]
  },
  {
   "cell_type": "code",
   "execution_count": 253,
   "metadata": {
    "slideshow": {
     "slide_type": "subslide"
    }
   },
   "outputs": [],
   "source": [
    "data <- data.frame(ornam=c(\"gold\", \"silver\", \"iron\"), headW=c(3.5, 5, 12))"
   ]
  },
  {
   "cell_type": "code",
   "execution_count": 254,
   "metadata": {
    "slideshow": {
     "slide_type": "subslide"
    }
   },
   "outputs": [
    {
     "data": {
      "text/html": [
       "<dl>\n",
       "\t<dt>$names</dt>\n",
       "\t\t<dd><ol class=list-inline>\n",
       "\t<li>'ornam'</li>\n",
       "\t<li>'headW'</li>\n",
       "</ol>\n",
       "</dd>\n",
       "\t<dt>$row.names</dt>\n",
       "\t\t<dd><ol class=list-inline>\n",
       "\t<li>1</li>\n",
       "\t<li>2</li>\n",
       "\t<li>3</li>\n",
       "</ol>\n",
       "</dd>\n",
       "\t<dt>$class</dt>\n",
       "\t\t<dd>'data.frame'</dd>\n",
       "</dl>\n"
      ],
      "text/latex": [
       "\\begin{description}\n",
       "\\item[\\$names] \\begin{enumerate*}\n",
       "\\item 'ornam'\n",
       "\\item 'headW'\n",
       "\\end{enumerate*}\n",
       "\n",
       "\\item[\\$row.names] \\begin{enumerate*}\n",
       "\\item 1\n",
       "\\item 2\n",
       "\\item 3\n",
       "\\end{enumerate*}\n",
       "\n",
       "\\item[\\$class] 'data.frame'\n",
       "\\end{description}\n"
      ],
      "text/markdown": [
       "$names\n",
       ":   1. 'ornam'\n",
       "2. 'headW'\n",
       "\n",
       "\n",
       "\n",
       "$row.names\n",
       ":   1. 1\n",
       "2. 2\n",
       "3. 3\n",
       "\n",
       "\n",
       "\n",
       "$class\n",
       ":   'data.frame'\n",
       "\n",
       "\n"
      ],
      "text/plain": [
       "$names\n",
       "[1] \"ornam\" \"headW\"\n",
       "\n",
       "$row.names\n",
       "[1] 1 2 3\n",
       "\n",
       "$class\n",
       "[1] \"data.frame\"\n"
      ]
     },
     "metadata": {},
     "output_type": "display_data"
    }
   ],
   "source": [
    "attributes(data)"
   ]
  },
  {
   "cell_type": "code",
   "execution_count": 255,
   "metadata": {
    "scrolled": false,
    "slideshow": {
     "slide_type": "subslide"
    }
   },
   "outputs": [
    {
     "data": {
      "text/plain": [
       " [1] $             $<-           [             [[            [[<-         \n",
       " [6] [<-           aggregate     anyDuplicated as.data.frame as.list      \n",
       "[11] as.matrix     by            cbind         coerce        dim          \n",
       "[16] dimnames      dimnames<-    droplevels    duplicated    edit         \n",
       "[21] format        formula       head          initialize    is.na        \n",
       "[26] Math          merge         na.exclude    na.omit       Ops          \n",
       "[31] plot          print         prompt        rbind         row.names    \n",
       "[36] row.names<-   rowsum        show          slotsFromS3   split        \n",
       "[41] split<-       stack         str           subset        summary      \n",
       "[46] Summary       t             tail          transform     unique       \n",
       "[51] unstack       within       \n",
       "see '?methods' for accessing help and source code"
      ]
     },
     "metadata": {},
     "output_type": "display_data"
    }
   ],
   "source": [
    "methods(class=\"data.frame\")"
   ]
  },
  {
   "cell_type": "markdown",
   "metadata": {
    "slideshow": {
     "slide_type": "subslide"
    }
   },
   "source": [
    "#### S3 function overloading\n",
    "* if you pass something to any function, it will behave differently depending on what the class of the first argument is\n",
    "* when it is called it looks to see what class the first argument "
   ]
  },
  {
   "cell_type": "markdown",
   "metadata": {},
   "source": [
    "when you type `print` function without parentheses  \n",
    "`print`\n",
    "```\n",
    "function (x, ...) \n",
    "UseMethod(\"print\")\n",
    "```\n",
    "* The `UseMethod` call in there actually is the function inside the print function  \n",
    "* `UseMethod` is the way that R overloads its functions"
   ]
  },
  {
   "cell_type": "code",
   "execution_count": 256,
   "metadata": {},
   "outputs": [
    {
     "data": {
      "text/plain": [
       "  [1] print.acf*                                        \n",
       "  [2] print.AES*                                        \n",
       "  [3] print.anova*                                      \n",
       "  [4] print.aov*                                        \n",
       "  [5] print.aovlist*                                    \n",
       "  [6] print.ar*                                         \n",
       "  [7] print.Arima*                                      \n",
       "  [8] print.arima0*                                     \n",
       "  [9] print.AsIs                                        \n",
       " [10] print.aspell*                                     \n",
       " [11] print.aspell_inspect_context*                     \n",
       " [12] print.bibentry*                                   \n",
       " [13] print.Bibtex*                                     \n",
       " [14] print.browseVignettes*                            \n",
       " [15] print.by                                          \n",
       " [16] print.changedFiles*                               \n",
       " [17] print.check_code_usage_in_package*                \n",
       " [18] print.check_compiled_code*                        \n",
       " [19] print.check_demo_index*                           \n",
       " [20] print.check_depdef*                               \n",
       " [21] print.check_details*                              \n",
       " [22] print.check_details_changes*                      \n",
       " [23] print.check_doi_db*                               \n",
       " [24] print.check_dotInternal*                          \n",
       " [25] print.check_make_vars*                            \n",
       " [26] print.check_nonAPI_calls*                         \n",
       " [27] print.check_package_code_assign_to_globalenv*     \n",
       " [28] print.check_package_code_attach*                  \n",
       " [29] print.check_package_code_data_into_globalenv*     \n",
       " [30] print.check_package_code_startup_functions*       \n",
       " [31] print.check_package_code_syntax*                  \n",
       " [32] print.check_package_code_unload_functions*        \n",
       " [33] print.check_package_compact_datasets*             \n",
       " [34] print.check_package_CRAN_incoming*                \n",
       " [35] print.check_package_datasets*                     \n",
       " [36] print.check_package_depends*                      \n",
       " [37] print.check_package_description*                  \n",
       " [38] print.check_package_description_encoding*         \n",
       " [39] print.check_package_license*                      \n",
       " [40] print.check_packages_in_dir*                      \n",
       " [41] print.check_packages_used*                        \n",
       " [42] print.check_po_files*                             \n",
       " [43] print.check_Rd_contents*                          \n",
       " [44] print.check_Rd_line_widths*                       \n",
       " [45] print.check_Rd_metadata*                          \n",
       " [46] print.check_Rd_xrefs*                             \n",
       " [47] print.check_RegSym_calls*                         \n",
       " [48] print.check_so_symbols*                           \n",
       " [49] print.check_T_and_F*                              \n",
       " [50] print.check_url_db*                               \n",
       " [51] print.check_vignette_index*                       \n",
       " [52] print.checkDocFiles*                              \n",
       " [53] print.checkDocStyle*                              \n",
       " [54] print.checkFF*                                    \n",
       " [55] print.checkRd*                                    \n",
       " [56] print.checkReplaceFuns*                           \n",
       " [57] print.checkS3methods*                             \n",
       " [58] print.checkTnF*                                   \n",
       " [59] print.checkVignettes*                             \n",
       " [60] print.citation*                                   \n",
       " [61] print.codoc*                                      \n",
       " [62] print.codocClasses*                               \n",
       " [63] print.codocData*                                  \n",
       " [64] print.colorConverter*                             \n",
       " [65] print.compactPDF*                                 \n",
       " [66] print.condition                                   \n",
       " [67] print.connection                                  \n",
       " [68] print.CRAN_package_reverse_dependencies_and_views*\n",
       " [69] print.crayon*                                     \n",
       " [70] print.data.frame                                  \n",
       " [71] print.Date                                        \n",
       " [72] print.default                                     \n",
       " [73] print.dendrogram*                                 \n",
       " [74] print.density*                                    \n",
       " [75] print.difftime                                    \n",
       " [76] print.dist*                                       \n",
       " [77] print.Dlist                                       \n",
       " [78] print.DLLInfo                                     \n",
       " [79] print.DLLInfoList                                 \n",
       " [80] print.DLLRegisteredRoutines                       \n",
       " [81] print.dummy_coef*                                 \n",
       " [82] print.dummy_coef_list*                            \n",
       " [83] print.ecdf*                                       \n",
       " [84] print.eigen                                       \n",
       " [85] print.factanal*                                   \n",
       " [86] print.factor                                      \n",
       " [87] print.family*                                     \n",
       " [88] print.fileSnapshot*                               \n",
       " [89] print.findLineNumResult*                          \n",
       " [90] print.formula*                                    \n",
       " [91] print.fseq*                                       \n",
       " [92] print.ftable*                                     \n",
       " [93] print.function                                    \n",
       " [94] print.getAnywhere*                                \n",
       " [95] print.glm*                                        \n",
       " [96] print.hclust*                                     \n",
       " [97] print.help_files_with_topic*                      \n",
       " [98] print.hexmode                                     \n",
       " [99] print.HoltWinters*                                \n",
       "[100] print.hsearch*                                    \n",
       "[101] print.hsearch_db*                                 \n",
       "[102] print.htest*                                      \n",
       "[103] print.infl*                                       \n",
       "[104] print.integrate*                                  \n",
       "[105] print.isoreg*                                     \n",
       "[106] print.json*                                       \n",
       "[107] print.kmeans*                                     \n",
       "[108] print.Latex*                                      \n",
       "[109] print.LaTeX*                                      \n",
       "[110] print.libraryIQR                                  \n",
       "[111] print.listof                                      \n",
       "[112] print.lm*                                         \n",
       "[113] print.loadings*                                   \n",
       "[114] print.loess*                                      \n",
       "[115] print.logLik*                                     \n",
       "[116] print.ls_str*                                     \n",
       "[117] print.medpolish*                                  \n",
       "[118] print.MethodsFunction*                            \n",
       "[119] print.mtable*                                     \n",
       "[120] print.NativeRoutineList                           \n",
       "[121] print.news_db*                                    \n",
       "[122] print.nls*                                        \n",
       "[123] print.noquote                                     \n",
       "[124] print.numeric_version                             \n",
       "[125] print.object_size*                                \n",
       "[126] print.octmode                                     \n",
       "[127] print.packageDescription*                         \n",
       "[128] print.packageInfo                                 \n",
       "[129] print.packageIQR*                                 \n",
       "[130] print.packageStatus*                              \n",
       "[131] print.pairwise.htest*                             \n",
       "[132] print.PDF_Array*                                  \n",
       "[133] print.PDF_Dictionary*                             \n",
       "[134] print.pdf_doc*                                    \n",
       "[135] print.pdf_fonts*                                  \n",
       "[136] print.PDF_Indirect_Reference*                     \n",
       "[137] print.pdf_info*                                   \n",
       "[138] print.PDF_Keyword*                                \n",
       "[139] print.PDF_Name*                                   \n",
       "[140] print.PDF_Stream*                                 \n",
       "[141] print.PDF_String*                                 \n",
       "[142] print.person*                                     \n",
       "[143] print.POSIXct                                     \n",
       "[144] print.POSIXlt                                     \n",
       "[145] print.power.htest*                                \n",
       "[146] print.ppr*                                        \n",
       "[147] print.prcomp*                                     \n",
       "[148] print.princomp*                                   \n",
       "[149] print.proc_time                                   \n",
       "[150] print.R6*                                         \n",
       "[151] print.R6ClassGenerator*                           \n",
       "[152] print.raster*                                     \n",
       "[153] print.Rd*                                         \n",
       "[154] print.recordedplot*                               \n",
       "[155] print.restart                                     \n",
       "[156] print.RGBcolorConverter*                          \n",
       "[157] print.rle                                         \n",
       "[158] print.roman*                                      \n",
       "[159] print.SavedPlots*                                 \n",
       "[160] print.scalar*                                     \n",
       "[161] print.sessionInfo*                                \n",
       "[162] print.simple.list                                 \n",
       "[163] print.smooth.spline*                              \n",
       "[164] print.socket*                                     \n",
       "[165] print.srcfile                                     \n",
       "[166] print.srcref                                      \n",
       "[167] print.stepfun*                                    \n",
       "[168] print.stl*                                        \n",
       "[169] print.StructTS*                                   \n",
       "[170] print.subdir_tests*                               \n",
       "[171] print.summarize_CRAN_check_status*                \n",
       "[172] print.summary.aov*                                \n",
       "[173] print.summary.aovlist*                            \n",
       "[174] print.summary.ecdf*                               \n",
       "[175] print.summary.glm*                                \n",
       "[176] print.summary.lm*                                 \n",
       "[177] print.summary.loess*                              \n",
       "[178] print.summary.manova*                             \n",
       "[179] print.summary.nls*                                \n",
       "[180] print.summary.packageStatus*                      \n",
       "[181] print.summary.ppr*                                \n",
       "[182] print.summary.prcomp*                             \n",
       "[183] print.summary.princomp*                           \n",
       "[184] print.summary.table                               \n",
       "[185] print.summaryDefault                              \n",
       "[186] print.table                                       \n",
       "[187] print.tables_aov*                                 \n",
       "[188] print.terms*                                      \n",
       "[189] print.ts*                                         \n",
       "[190] print.tskernel*                                   \n",
       "[191] print.TukeyHSD*                                   \n",
       "[192] print.tukeyline*                                  \n",
       "[193] print.tukeysmooth*                                \n",
       "[194] print.undoc*                                      \n",
       "[195] print.vignette                                    \n",
       "[196] print.warnings                                    \n",
       "[197] print.weird                                       \n",
       "[198] print.xgettext*                                   \n",
       "[199] print.xngettext*                                  \n",
       "[200] print.xtabs*                                      \n",
       "see '?methods' for accessing help and source code"
      ]
     },
     "metadata": {},
     "output_type": "display_data"
    }
   ],
   "source": [
    "methods(print)"
   ]
  },
  {
   "cell_type": "markdown",
   "metadata": {
    "slideshow": {
     "slide_type": "subslide"
    }
   },
   "source": [
    "**S3 methods dispatch**"
   ]
  },
  {
   "cell_type": "raw",
   "metadata": {
    "slideshow": {
     "slide_type": "subslide"
    }
   },
   "source": [
    "These functions look at the class attribute of their first argument. If\n",
    "that argument does have a class attribute, then the generic function looks for a\n",
    "method of the generic function that matches the class of the argument. If such a\n",
    "match exists, then the method function is used. If there is no matching method\n",
    "or if the argument does not have a class, then the default method is used."
   ]
  },
  {
   "cell_type": "markdown",
   "metadata": {
    "slideshow": {
     "slide_type": "subslide"
    }
   },
   "source": [
    "**Generic functions are simple: the complete definition of `plot()` is a single line:**\n",
    "\n",
    "`plot <- function (x, y, ...) UseMethod(\"plot\")`\n",
    "**`UseMethod`**\n",
    "* examines the class x of its first argument\n",
    "* searches for a function plot.x\n",
    "* executes plot.x with the arguments passed to plot\n",
    "If `plot.x` is not found, `UseMethod` repeats the search using the next\n",
    "class attribute, if any. If no class-specific function is found, it uses\n",
    "`plot.default`"
   ]
  },
  {
   "cell_type": "code",
   "execution_count": 257,
   "metadata": {
    "slideshow": {
     "slide_type": "subslide"
    }
   },
   "outputs": [
    {
     "data": {
      "image/png": "[encoded data removed]",
      "text/plain": [
       "plot without title"
      ]
     },
     "metadata": {},
     "output_type": "display_data"
    }
   ],
   "source": [
    "par(mfrow=c(1,2))\n",
    "with(iris, plot(Sepal.Length, Species))\n",
    "with(iris, plot(Species, Sepal.Length))"
   ]
  },
  {
   "cell_type": "markdown",
   "metadata": {
    "slideshow": {
     "slide_type": "slide"
    }
   },
   "source": [
    "The plot method dispatched a scatter plot when the first argument was a `continuous` \n",
    "variable, but dispatched a boxplot when the first argument was a `factor`. It is because R\n",
    "is trying to figure out what you want based on the supplied arguments. In this case, it\n",
    "is the **first argument that determines the method, not the two arguments together**."
   ]
  },
  {
   "cell_type": "markdown",
   "metadata": {
    "slideshow": {
     "slide_type": "slide"
    }
   },
   "source": [
    "** create a new `print` function that will be invoked on objects of class weird **"
   ]
  },
  {
   "cell_type": "markdown",
   "metadata": {
    "slideshow": {
     "slide_type": "slide"
    }
   },
   "source": [
    "* Programmers can write methods specifically for the classes that they define\n",
    "* The class of an object is simply assigned via the class attribute.\n",
    "* let’s say that argument is of class weird. In that case, the print function looks for another function called print.weird(). If it finds it, it will execute that function on the argument."
   ]
  },
  {
   "cell_type": "code",
   "execution_count": 258,
   "metadata": {
    "slideshow": {
     "slide_type": "subslide"
    }
   },
   "outputs": [],
   "source": [
    "print.weird <- function(x) {\n",
    "  print(\"Object of class weird\")\n",
    "  print(paste(\"Length:\", length(x)))\n",
    "  print(head(x))\n",
    "}\n",
    "# the logic inside function is it just shows the length and the first 6 values using head(), \n",
    "# and lets the user know the object is of class weird"
   ]
  },
  {
   "cell_type": "code",
   "execution_count": 259,
   "metadata": {
    "slideshow": {
     "slide_type": "subslide"
    }
   },
   "outputs": [
    {
     "name": "stdout",
     "output_type": "stream",
     "text": [
      "  [1]   1   2   3   4   5   6   7   8   9  10  11  12  13  14  15  16  17  18\n",
      " [19]  19  20  21  22  23  24  25  26  27  28  29  30  31  32  33  34  35  36\n",
      " [37]  37  38  39  40  41  42  43  44  45  46  47  48  49  50  51  52  53  54\n",
      " [55]  55  56  57  58  59  60  61  62  63  64  65  66  67  68  69  70  71  72\n",
      " [73]  73  74  75  76  77  78  79  80  81  82  83  84  85  86  87  88  89  90\n",
      " [91]  91  92  93  94  95  96  97  98  99 100\n"
     ]
    }
   ],
   "source": [
    "boing <- 1:100\n",
    "print(boing)"
   ]
  },
  {
   "cell_type": "code",
   "execution_count": 260,
   "metadata": {
    "scrolled": true,
    "slideshow": {
     "slide_type": "subslide"
    }
   },
   "outputs": [
    {
     "name": "stdout",
     "output_type": "stream",
     "text": [
      "[1] \"Object of class weird\"\n",
      "[1] \"Length: 100\"\n",
      "[1] 1 2 3 4 5 6\n"
     ]
    }
   ],
   "source": [
    "# make boing an object of class weird\n",
    "class(boing) <- \"weird\"\n",
    "\n",
    "print(boing)"
   ]
  },
  {
   "cell_type": "markdown",
   "metadata": {
    "slideshow": {
     "slide_type": "subslide"
    }
   },
   "source": [
    "> Note that R is full of overloaded functions — that is functions that behave differently depending on the class of their arguments."
   ]
  },
  {
   "cell_type": "markdown",
   "metadata": {
    "slideshow": {
     "slide_type": "subslide"
    }
   },
   "source": [
    "**How Generics Work:** \n",
    "http://www.stat.umn.edu/geyer/3701/notes/generic.html  "
   ]
  },
  {
   "cell_type": "markdown",
   "metadata": {
    "slideshow": {
     "slide_type": "slide"
    }
   },
   "source": [
    "### S4 Classes and methods"
   ]
  },
  {
   "cell_type": "markdown",
   "metadata": {
    "slideshow": {
     "slide_type": "subslide"
    }
   },
   "source": [
    "* having a formal system of object oriented follows the principles of object oriented programming\n",
    "* S4 is quite strict about what an object of a specific class looks like. In contrast S3 methods allow you to merely add a class attribute to any object\n",
    "* Classes and methods can be inherited so that there is a good chance that methods for one class of object can be used for related classes.\n",
    "* New objects of any class must be specifically created using the constructor function `new()`\n",
    "* S4 also has multiple dispatch, which means that generic functions can pick methods based on the class of any number of arguments, not just one"
   ]
  },
  {
   "cell_type": "markdown",
   "metadata": {
    "slideshow": {
     "slide_type": "subslide"
    }
   },
   "source": [
    "**S4 method dispatch**  \n",
    "S4 dispatch is complicated because S4 has two important features:  \n",
    "https://adv-r.hadley.nz/s4.html#method-dispatch-1  "
   ]
  },
  {
   "cell_type": "markdown",
   "metadata": {
    "slideshow": {
     "slide_type": "subslide"
    }
   },
   "source": [
    "<span style=\"color:red; font-family:centurygothic \">Continue...</span><a href=\"https://www.datamentor.io/r-programming/object-class-introduction\" target=\"_blank\">https://www.datamentor.io/r-programming/object-class-introduction</a>\n"
   ]
  },
  {
   "cell_type": "markdown",
   "metadata": {
    "slideshow": {
     "slide_type": "subslide"
    }
   },
   "source": [
    "Advanced R by Hadley Wickham's **OO field guide**: http://adv-r.had.co.nz/OO-essentials.html  "
   ]
  },
  {
   "cell_type": "markdown",
   "metadata": {},
   "source": [
    "## Google's R Style Guide  \n",
    "(for easy to read, share, and verify)"
   ]
  },
  {
   "cell_type": "markdown",
   "metadata": {},
   "source": [
    "https://google.github.io/styleguide/Rguide.xml  "
   ]
  },
  {
   "cell_type": "markdown",
   "metadata": {
    "slideshow": {
     "slide_type": "slide"
    }
   },
   "source": [
    "<span style=\"color:red; font-family:Comic Sans MS\">References</span>  \n",
    "http://adv-r.had.co.nz/OO-essentials.html  \n",
    "http://eriqande.github.io/rep-res-web/  \n",
    "http://www.burns-stat.com/documents/books/the-r-inferno/  \n",
    "http://www.pitt.edu/~njc23/  \n",
    "http://www2.hawaii.edu/~mbutler/  \n",
    "https://www.lexjansen.com/phuse/2013/ts/TS04_ppt.pdf  "
   ]
  }
 ],
 "metadata": {
  "celltoolbar": "Slideshow",
  "hide_input": false,
  "kernelspec": {
   "display_name": "R",
   "language": "R",
   "name": "ir"
  },
  "language_info": {
   "codemirror_mode": "r",
   "file_extension": ".r",
   "mimetype": "text/x-r-source",
   "name": "R",
   "pygments_lexer": "r",
   "version": "3.6.1"
  },
  "nav_menu": {},
  "toc": {
   "base_numbering": 1,
   "nav_menu": {},
   "number_sections": false,
   "sideBar": true,
   "skip_h1_title": false,
   "title_cell": "Table of Contents",
   "title_sidebar": "Contents",
   "toc_cell": true,
   "toc_position": {
    "height": "738px",
    "left": "1024px",
    "top": "0px",
    "width": "256px"
   },
   "toc_section_display": true,
   "toc_window_display": true
  }
 },
 "nbformat": 4,
 "nbformat_minor": 2
}
